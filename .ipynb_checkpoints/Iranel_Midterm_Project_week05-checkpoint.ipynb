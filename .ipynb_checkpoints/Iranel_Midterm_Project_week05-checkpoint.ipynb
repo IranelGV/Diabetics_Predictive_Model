{
 "cells": [
  {
   "cell_type": "markdown",
   "id": "6460c05b",
   "metadata": {},
   "source": [
    "### Midterm Project"
   ]
  },
  {
   "cell_type": "code",
   "execution_count": 49,
   "id": "51a3ed13",
   "metadata": {},
   "outputs": [],
   "source": [
    "import pandas as pd\n",
    "import numpy as np\n",
    "import matplotlib.pyplot as plt\n",
    "import seaborn as sns\n",
    "%matplotlib inline"
   ]
  },
  {
   "cell_type": "code",
   "execution_count": 50,
   "id": "0ce602de",
   "metadata": {},
   "outputs": [],
   "source": [
    "df= pd.read_csv(\"diabetes_prediction_dataset.csv\")"
   ]
  },
  {
   "cell_type": "code",
   "execution_count": 51,
   "id": "f060a00e",
   "metadata": {},
   "outputs": [
    {
     "data": {
      "text/html": [
       "<div>\n",
       "<style scoped>\n",
       "    .dataframe tbody tr th:only-of-type {\n",
       "        vertical-align: middle;\n",
       "    }\n",
       "\n",
       "    .dataframe tbody tr th {\n",
       "        vertical-align: top;\n",
       "    }\n",
       "\n",
       "    .dataframe thead th {\n",
       "        text-align: right;\n",
       "    }\n",
       "</style>\n",
       "<table border=\"1\" class=\"dataframe\">\n",
       "  <thead>\n",
       "    <tr style=\"text-align: right;\">\n",
       "      <th></th>\n",
       "      <th>gender</th>\n",
       "      <th>age</th>\n",
       "      <th>hypertension</th>\n",
       "      <th>heart_disease</th>\n",
       "      <th>smoking_history</th>\n",
       "      <th>bmi</th>\n",
       "      <th>HbA1c_level</th>\n",
       "      <th>blood_glucose_level</th>\n",
       "      <th>diabetes</th>\n",
       "    </tr>\n",
       "  </thead>\n",
       "  <tbody>\n",
       "    <tr>\n",
       "      <th>0</th>\n",
       "      <td>Female</td>\n",
       "      <td>80.0</td>\n",
       "      <td>0</td>\n",
       "      <td>1</td>\n",
       "      <td>never</td>\n",
       "      <td>25.19</td>\n",
       "      <td>6.6</td>\n",
       "      <td>140</td>\n",
       "      <td>0</td>\n",
       "    </tr>\n",
       "    <tr>\n",
       "      <th>1</th>\n",
       "      <td>Female</td>\n",
       "      <td>54.0</td>\n",
       "      <td>0</td>\n",
       "      <td>0</td>\n",
       "      <td>No Info</td>\n",
       "      <td>27.32</td>\n",
       "      <td>6.6</td>\n",
       "      <td>80</td>\n",
       "      <td>0</td>\n",
       "    </tr>\n",
       "    <tr>\n",
       "      <th>2</th>\n",
       "      <td>Male</td>\n",
       "      <td>28.0</td>\n",
       "      <td>0</td>\n",
       "      <td>0</td>\n",
       "      <td>never</td>\n",
       "      <td>27.32</td>\n",
       "      <td>5.7</td>\n",
       "      <td>158</td>\n",
       "      <td>0</td>\n",
       "    </tr>\n",
       "    <tr>\n",
       "      <th>3</th>\n",
       "      <td>Female</td>\n",
       "      <td>36.0</td>\n",
       "      <td>0</td>\n",
       "      <td>0</td>\n",
       "      <td>current</td>\n",
       "      <td>23.45</td>\n",
       "      <td>5.0</td>\n",
       "      <td>155</td>\n",
       "      <td>0</td>\n",
       "    </tr>\n",
       "    <tr>\n",
       "      <th>4</th>\n",
       "      <td>Male</td>\n",
       "      <td>76.0</td>\n",
       "      <td>1</td>\n",
       "      <td>1</td>\n",
       "      <td>current</td>\n",
       "      <td>20.14</td>\n",
       "      <td>4.8</td>\n",
       "      <td>155</td>\n",
       "      <td>0</td>\n",
       "    </tr>\n",
       "    <tr>\n",
       "      <th>...</th>\n",
       "      <td>...</td>\n",
       "      <td>...</td>\n",
       "      <td>...</td>\n",
       "      <td>...</td>\n",
       "      <td>...</td>\n",
       "      <td>...</td>\n",
       "      <td>...</td>\n",
       "      <td>...</td>\n",
       "      <td>...</td>\n",
       "    </tr>\n",
       "    <tr>\n",
       "      <th>99995</th>\n",
       "      <td>Female</td>\n",
       "      <td>80.0</td>\n",
       "      <td>0</td>\n",
       "      <td>0</td>\n",
       "      <td>No Info</td>\n",
       "      <td>27.32</td>\n",
       "      <td>6.2</td>\n",
       "      <td>90</td>\n",
       "      <td>0</td>\n",
       "    </tr>\n",
       "    <tr>\n",
       "      <th>99996</th>\n",
       "      <td>Female</td>\n",
       "      <td>2.0</td>\n",
       "      <td>0</td>\n",
       "      <td>0</td>\n",
       "      <td>No Info</td>\n",
       "      <td>17.37</td>\n",
       "      <td>6.5</td>\n",
       "      <td>100</td>\n",
       "      <td>0</td>\n",
       "    </tr>\n",
       "    <tr>\n",
       "      <th>99997</th>\n",
       "      <td>Male</td>\n",
       "      <td>66.0</td>\n",
       "      <td>0</td>\n",
       "      <td>0</td>\n",
       "      <td>former</td>\n",
       "      <td>27.83</td>\n",
       "      <td>5.7</td>\n",
       "      <td>155</td>\n",
       "      <td>0</td>\n",
       "    </tr>\n",
       "    <tr>\n",
       "      <th>99998</th>\n",
       "      <td>Female</td>\n",
       "      <td>24.0</td>\n",
       "      <td>0</td>\n",
       "      <td>0</td>\n",
       "      <td>never</td>\n",
       "      <td>35.42</td>\n",
       "      <td>4.0</td>\n",
       "      <td>100</td>\n",
       "      <td>0</td>\n",
       "    </tr>\n",
       "    <tr>\n",
       "      <th>99999</th>\n",
       "      <td>Female</td>\n",
       "      <td>57.0</td>\n",
       "      <td>0</td>\n",
       "      <td>0</td>\n",
       "      <td>current</td>\n",
       "      <td>22.43</td>\n",
       "      <td>6.6</td>\n",
       "      <td>90</td>\n",
       "      <td>0</td>\n",
       "    </tr>\n",
       "  </tbody>\n",
       "</table>\n",
       "<p>100000 rows × 9 columns</p>\n",
       "</div>"
      ],
      "text/plain": [
       "       gender   age  hypertension  heart_disease smoking_history    bmi  \\\n",
       "0      Female  80.0             0              1           never  25.19   \n",
       "1      Female  54.0             0              0         No Info  27.32   \n",
       "2        Male  28.0             0              0           never  27.32   \n",
       "3      Female  36.0             0              0         current  23.45   \n",
       "4        Male  76.0             1              1         current  20.14   \n",
       "...       ...   ...           ...            ...             ...    ...   \n",
       "99995  Female  80.0             0              0         No Info  27.32   \n",
       "99996  Female   2.0             0              0         No Info  17.37   \n",
       "99997    Male  66.0             0              0          former  27.83   \n",
       "99998  Female  24.0             0              0           never  35.42   \n",
       "99999  Female  57.0             0              0         current  22.43   \n",
       "\n",
       "       HbA1c_level  blood_glucose_level  diabetes  \n",
       "0              6.6                  140         0  \n",
       "1              6.6                   80         0  \n",
       "2              5.7                  158         0  \n",
       "3              5.0                  155         0  \n",
       "4              4.8                  155         0  \n",
       "...            ...                  ...       ...  \n",
       "99995          6.2                   90         0  \n",
       "99996          6.5                  100         0  \n",
       "99997          5.7                  155         0  \n",
       "99998          4.0                  100         0  \n",
       "99999          6.6                   90         0  \n",
       "\n",
       "[100000 rows x 9 columns]"
      ]
     },
     "execution_count": 51,
     "metadata": {},
     "output_type": "execute_result"
    }
   ],
   "source": [
    "df"
   ]
  },
  {
   "cell_type": "code",
   "execution_count": 52,
   "id": "137f790f",
   "metadata": {},
   "outputs": [
    {
     "name": "stdout",
     "output_type": "stream",
     "text": [
      "<class 'pandas.core.frame.DataFrame'>\n",
      "RangeIndex: 100000 entries, 0 to 99999\n",
      "Data columns (total 9 columns):\n",
      " #   Column               Non-Null Count   Dtype  \n",
      "---  ------               --------------   -----  \n",
      " 0   gender               100000 non-null  object \n",
      " 1   age                  100000 non-null  float64\n",
      " 2   hypertension         100000 non-null  int64  \n",
      " 3   heart_disease        100000 non-null  int64  \n",
      " 4   smoking_history      100000 non-null  object \n",
      " 5   bmi                  100000 non-null  float64\n",
      " 6   HbA1c_level          100000 non-null  float64\n",
      " 7   blood_glucose_level  100000 non-null  int64  \n",
      " 8   diabetes             100000 non-null  int64  \n",
      "dtypes: float64(3), int64(4), object(2)\n",
      "memory usage: 6.9+ MB\n"
     ]
    }
   ],
   "source": [
    "df.info()"
   ]
  },
  {
   "cell_type": "code",
   "execution_count": 53,
   "id": "d78d9de0",
   "metadata": {},
   "outputs": [],
   "source": [
    "column_types = df.dtypes"
   ]
  },
  {
   "cell_type": "code",
   "execution_count": 54,
   "id": "08eb20e0",
   "metadata": {},
   "outputs": [
    {
     "data": {
      "text/plain": [
       "gender                  object\n",
       "age                    float64\n",
       "hypertension             int64\n",
       "heart_disease            int64\n",
       "smoking_history         object\n",
       "bmi                    float64\n",
       "HbA1c_level            float64\n",
       "blood_glucose_level      int64\n",
       "diabetes                 int64\n",
       "dtype: object"
      ]
     },
     "execution_count": 54,
     "metadata": {},
     "output_type": "execute_result"
    }
   ],
   "source": [
    "column_types"
   ]
  },
  {
   "cell_type": "code",
   "execution_count": 55,
   "id": "ff86db78",
   "metadata": {},
   "outputs": [],
   "source": [
    "column_names = df.columns"
   ]
  },
  {
   "cell_type": "code",
   "execution_count": 56,
   "id": "84175dee",
   "metadata": {},
   "outputs": [
    {
     "data": {
      "text/plain": [
       "Index(['gender', 'age', 'hypertension', 'heart_disease', 'smoking_history',\n",
       "       'bmi', 'HbA1c_level', 'blood_glucose_level', 'diabetes'],\n",
       "      dtype='object')"
      ]
     },
     "execution_count": 56,
     "metadata": {},
     "output_type": "execute_result"
    }
   ],
   "source": [
    "column_names"
   ]
  },
  {
   "cell_type": "markdown",
   "id": "43602b4b",
   "metadata": {},
   "source": [
    "# STAGE 01"
   ]
  },
  {
   "cell_type": "markdown",
   "id": "c65876e7",
   "metadata": {},
   "source": [
    "## Data cleaning"
   ]
  },
  {
   "cell_type": "markdown",
   "id": "39112306",
   "metadata": {},
   "source": [
    "### 👉 Cheking Age"
   ]
  },
  {
   "cell_type": "markdown",
   "id": "1271d625",
   "metadata": {},
   "source": [
    "### Changing the data type of \"Age\""
   ]
  },
  {
   "cell_type": "code",
   "execution_count": 57,
   "id": "f40a4a69",
   "metadata": {},
   "outputs": [],
   "source": [
    "df['age'] = df['age'].astype(\"int64\")"
   ]
  },
  {
   "cell_type": "code",
   "execution_count": 58,
   "id": "9e8c7ce9",
   "metadata": {},
   "outputs": [
    {
     "name": "stdout",
     "output_type": "stream",
     "text": [
      "<class 'pandas.core.frame.DataFrame'>\n",
      "RangeIndex: 100000 entries, 0 to 99999\n",
      "Data columns (total 9 columns):\n",
      " #   Column               Non-Null Count   Dtype  \n",
      "---  ------               --------------   -----  \n",
      " 0   gender               100000 non-null  object \n",
      " 1   age                  100000 non-null  int64  \n",
      " 2   hypertension         100000 non-null  int64  \n",
      " 3   heart_disease        100000 non-null  int64  \n",
      " 4   smoking_history      100000 non-null  object \n",
      " 5   bmi                  100000 non-null  float64\n",
      " 6   HbA1c_level          100000 non-null  float64\n",
      " 7   blood_glucose_level  100000 non-null  int64  \n",
      " 8   diabetes             100000 non-null  int64  \n",
      "dtypes: float64(2), int64(5), object(2)\n",
      "memory usage: 6.9+ MB\n"
     ]
    }
   ],
   "source": [
    "df.info()\n"
   ]
  },
  {
   "cell_type": "markdown",
   "id": "b2ae8c97",
   "metadata": {},
   "source": [
    "### 👉 Cheking Gender"
   ]
  },
  {
   "cell_type": "code",
   "execution_count": 59,
   "id": "a451e13a",
   "metadata": {
    "scrolled": false
   },
   "outputs": [
    {
     "data": {
      "text/plain": [
       "Female    58552\n",
       "Male      41430\n",
       "Other        18\n",
       "Name: gender, dtype: int64"
      ]
     },
     "execution_count": 59,
     "metadata": {},
     "output_type": "execute_result"
    }
   ],
   "source": [
    "df[\"gender\"].value_counts()"
   ]
  },
  {
   "cell_type": "code",
   "execution_count": 60,
   "id": "25a5a611",
   "metadata": {},
   "outputs": [
    {
     "data": {
      "text/plain": [
       "array(['Female', 'Male', 'Other'], dtype=object)"
      ]
     },
     "execution_count": 60,
     "metadata": {},
     "output_type": "execute_result"
    }
   ],
   "source": [
    "df[\"gender\"].unique()"
   ]
  },
  {
   "cell_type": "markdown",
   "id": "9a91f6f5",
   "metadata": {},
   "source": [
    "### Let's replace \"other\" to \"female\"!"
   ]
  },
  {
   "cell_type": "code",
   "execution_count": 61,
   "id": "9e8072f2",
   "metadata": {},
   "outputs": [],
   "source": [
    "df['gender'].replace(['Other'], [\"Female\"], inplace=True)"
   ]
  },
  {
   "cell_type": "code",
   "execution_count": 62,
   "id": "2c09b149",
   "metadata": {},
   "outputs": [
    {
     "data": {
      "text/plain": [
       "Female    58570\n",
       "Male      41430\n",
       "Name: gender, dtype: int64"
      ]
     },
     "execution_count": 62,
     "metadata": {},
     "output_type": "execute_result"
    }
   ],
   "source": [
    "df[\"gender\"].value_counts()"
   ]
  },
  {
   "cell_type": "markdown",
   "id": "26f874e0",
   "metadata": {},
   "source": [
    "### 👉 Cheking Hypertension"
   ]
  },
  {
   "cell_type": "code",
   "execution_count": 63,
   "id": "cef4c2bb",
   "metadata": {},
   "outputs": [
    {
     "data": {
      "text/plain": [
       "array([0, 1], dtype=int64)"
      ]
     },
     "execution_count": 63,
     "metadata": {},
     "output_type": "execute_result"
    }
   ],
   "source": [
    "df['hypertension'].unique()"
   ]
  },
  {
   "cell_type": "markdown",
   "id": "128d9bf3",
   "metadata": {},
   "source": [
    "### 👉 Cheking heart_disease"
   ]
  },
  {
   "cell_type": "code",
   "execution_count": 64,
   "id": "2a850815",
   "metadata": {},
   "outputs": [
    {
     "data": {
      "text/plain": [
       "array([1, 0], dtype=int64)"
      ]
     },
     "execution_count": 64,
     "metadata": {},
     "output_type": "execute_result"
    }
   ],
   "source": [
    "df['heart_disease'].unique()"
   ]
  },
  {
   "cell_type": "markdown",
   "id": "efe4b672",
   "metadata": {},
   "source": [
    "### 👉 Cheking Smoking_History"
   ]
  },
  {
   "cell_type": "code",
   "execution_count": 65,
   "id": "69219941",
   "metadata": {},
   "outputs": [
    {
     "data": {
      "text/plain": [
       "array(['never', 'No Info', 'current', 'former', 'ever', 'not current'],\n",
       "      dtype=object)"
      ]
     },
     "execution_count": 65,
     "metadata": {},
     "output_type": "execute_result"
    }
   ],
   "source": [
    "df[\"smoking_history\"].unique()"
   ]
  },
  {
   "cell_type": "code",
   "execution_count": 66,
   "id": "c895246e",
   "metadata": {},
   "outputs": [
    {
     "data": {
      "text/plain": [
       "No Info        35816\n",
       "never          35095\n",
       "former          9352\n",
       "current         9286\n",
       "not current     6447\n",
       "ever            4004\n",
       "Name: smoking_history, dtype: int64"
      ]
     },
     "execution_count": 66,
     "metadata": {},
     "output_type": "execute_result"
    }
   ],
   "source": [
    "df[\"smoking_history\"].value_counts()"
   ]
  },
  {
   "cell_type": "markdown",
   "id": "83ac2e55",
   "metadata": {},
   "source": [
    "### Dropping the \"No info\" rows "
   ]
  },
  {
   "cell_type": "code",
   "execution_count": 67,
   "id": "04a8731b",
   "metadata": {},
   "outputs": [],
   "source": [
    "df.drop(df[(df[\"smoking_history\"]==\"No Info\")].index,inplace=True)"
   ]
  },
  {
   "cell_type": "code",
   "execution_count": 68,
   "id": "9d187d0c",
   "metadata": {},
   "outputs": [
    {
     "data": {
      "text/plain": [
       "never          35095\n",
       "former          9352\n",
       "current         9286\n",
       "not current     6447\n",
       "ever            4004\n",
       "Name: smoking_history, dtype: int64"
      ]
     },
     "execution_count": 68,
     "metadata": {},
     "output_type": "execute_result"
    }
   ],
   "source": [
    "df[\"smoking_history\"].value_counts()"
   ]
  },
  {
   "cell_type": "markdown",
   "id": "a891d12d",
   "metadata": {},
   "source": [
    "### Merge \"ever\" with \"never\" and \"not current\" with \"former\""
   ]
  },
  {
   "cell_type": "code",
   "execution_count": 69,
   "id": "fb914982",
   "metadata": {},
   "outputs": [],
   "source": [
    "df[\"smoking_history\"] = df[\"smoking_history\"].replace({\"ever\":\"never\",\"not current\":\"former\"})"
   ]
  },
  {
   "cell_type": "code",
   "execution_count": 70,
   "id": "abeab9e9",
   "metadata": {
    "scrolled": true
   },
   "outputs": [
    {
     "data": {
      "text/plain": [
       "never      39099\n",
       "former     15799\n",
       "current     9286\n",
       "Name: smoking_history, dtype: int64"
      ]
     },
     "execution_count": 70,
     "metadata": {},
     "output_type": "execute_result"
    }
   ],
   "source": [
    "df[\"smoking_history\"].value_counts()"
   ]
  },
  {
   "cell_type": "markdown",
   "id": "d5ce85b5",
   "metadata": {},
   "source": [
    "### 👉 Cheking BM! "
   ]
  },
  {
   "cell_type": "code",
   "execution_count": 71,
   "id": "8bcc493a",
   "metadata": {},
   "outputs": [
    {
     "data": {
      "text/plain": [
       "array([25.19, 27.32, 23.45, ..., 49.25, 59.42, 60.52])"
      ]
     },
     "execution_count": 71,
     "metadata": {},
     "output_type": "execute_result"
    }
   ],
   "source": [
    "df[\"bmi\"].unique()"
   ]
  },
  {
   "cell_type": "code",
   "execution_count": 72,
   "id": "02f076a5",
   "metadata": {},
   "outputs": [
    {
     "data": {
      "text/plain": [
       "27.32    12047\n",
       "25.60       83\n",
       "25.00       82\n",
       "23.00       79\n",
       "25.20       77\n",
       "         ...  \n",
       "13.82        1\n",
       "53.84        1\n",
       "46.70        1\n",
       "13.74        1\n",
       "60.52        1\n",
       "Name: bmi, Length: 3943, dtype: int64"
      ]
     },
     "execution_count": 72,
     "metadata": {},
     "output_type": "execute_result"
    }
   ],
   "source": [
    "df[\"bmi\"].value_counts()"
   ]
  },
  {
   "cell_type": "markdown",
   "id": "5ca097d4",
   "metadata": {},
   "source": [
    "### 👉 Checking HbA1c_level"
   ]
  },
  {
   "cell_type": "code",
   "execution_count": 73,
   "id": "e0994662",
   "metadata": {},
   "outputs": [
    {
     "data": {
      "text/plain": [
       "6.6    5440\n",
       "6.2    5426\n",
       "5.7    5376\n",
       "6.0    5322\n",
       "6.5    5292\n",
       "5.8    5291\n",
       "6.1    5167\n",
       "3.5    4837\n",
       "4.8    4740\n",
       "4.5    4730\n",
       "4.0    4678\n",
       "5.0    4675\n",
       "9.0     548\n",
       "8.8     546\n",
       "8.2     541\n",
       "7.5     534\n",
       "6.8     528\n",
       "7.0     513\n",
       "Name: HbA1c_level, dtype: int64"
      ]
     },
     "execution_count": 73,
     "metadata": {},
     "output_type": "execute_result"
    }
   ],
   "source": [
    "df[\"HbA1c_level\"].value_counts()"
   ]
  },
  {
   "cell_type": "markdown",
   "id": "207eeba5",
   "metadata": {},
   "source": [
    "### 👉 Checking Blood_glucose_level"
   ]
  },
  {
   "cell_type": "code",
   "execution_count": 74,
   "id": "66d05910",
   "metadata": {
    "scrolled": true
   },
   "outputs": [
    {
     "data": {
      "text/plain": [
       "140    5026\n",
       "160    5000\n",
       "159    4970\n",
       "130    4957\n",
       "155    4923\n",
       "145    4878\n",
       "126    4878\n",
       "200    4874\n",
       "158    4460\n",
       "80     4435\n",
       "100    4431\n",
       "90     4386\n",
       "85     4275\n",
       "280     599\n",
       "300     547\n",
       "260     526\n",
       "240     518\n",
       "220     501\n",
       "Name: blood_glucose_level, dtype: int64"
      ]
     },
     "execution_count": 74,
     "metadata": {},
     "output_type": "execute_result"
    }
   ],
   "source": [
    "df[\"blood_glucose_level\"].value_counts()"
   ]
  },
  {
   "cell_type": "markdown",
   "id": "5fe43657",
   "metadata": {},
   "source": [
    "# STAGE 02"
   ]
  },
  {
   "cell_type": "code",
   "execution_count": 75,
   "id": "869727b7",
   "metadata": {},
   "outputs": [],
   "source": [
    "numerical_df = df.select_dtypes(include=[np.number])\n",
    "categorical_df = df.select_dtypes(include=['object'])"
   ]
  },
  {
   "cell_type": "code",
   "execution_count": 76,
   "id": "4389a6f7",
   "metadata": {},
   "outputs": [],
   "source": [
    "numerical_df = numerical_df.reset_index(drop=True) "
   ]
  },
  {
   "cell_type": "code",
   "execution_count": 77,
   "id": "0568355a",
   "metadata": {},
   "outputs": [
    {
     "data": {
      "text/html": [
       "<div>\n",
       "<style scoped>\n",
       "    .dataframe tbody tr th:only-of-type {\n",
       "        vertical-align: middle;\n",
       "    }\n",
       "\n",
       "    .dataframe tbody tr th {\n",
       "        vertical-align: top;\n",
       "    }\n",
       "\n",
       "    .dataframe thead th {\n",
       "        text-align: right;\n",
       "    }\n",
       "</style>\n",
       "<table border=\"1\" class=\"dataframe\">\n",
       "  <thead>\n",
       "    <tr style=\"text-align: right;\">\n",
       "      <th></th>\n",
       "      <th>age</th>\n",
       "      <th>hypertension</th>\n",
       "      <th>heart_disease</th>\n",
       "      <th>bmi</th>\n",
       "      <th>HbA1c_level</th>\n",
       "      <th>blood_glucose_level</th>\n",
       "      <th>diabetes</th>\n",
       "    </tr>\n",
       "  </thead>\n",
       "  <tbody>\n",
       "    <tr>\n",
       "      <th>0</th>\n",
       "      <td>80</td>\n",
       "      <td>0</td>\n",
       "      <td>1</td>\n",
       "      <td>25.19</td>\n",
       "      <td>6.6</td>\n",
       "      <td>140</td>\n",
       "      <td>0</td>\n",
       "    </tr>\n",
       "    <tr>\n",
       "      <th>1</th>\n",
       "      <td>28</td>\n",
       "      <td>0</td>\n",
       "      <td>0</td>\n",
       "      <td>27.32</td>\n",
       "      <td>5.7</td>\n",
       "      <td>158</td>\n",
       "      <td>0</td>\n",
       "    </tr>\n",
       "    <tr>\n",
       "      <th>2</th>\n",
       "      <td>36</td>\n",
       "      <td>0</td>\n",
       "      <td>0</td>\n",
       "      <td>23.45</td>\n",
       "      <td>5.0</td>\n",
       "      <td>155</td>\n",
       "      <td>0</td>\n",
       "    </tr>\n",
       "    <tr>\n",
       "      <th>3</th>\n",
       "      <td>76</td>\n",
       "      <td>1</td>\n",
       "      <td>1</td>\n",
       "      <td>20.14</td>\n",
       "      <td>4.8</td>\n",
       "      <td>155</td>\n",
       "      <td>0</td>\n",
       "    </tr>\n",
       "    <tr>\n",
       "      <th>4</th>\n",
       "      <td>20</td>\n",
       "      <td>0</td>\n",
       "      <td>0</td>\n",
       "      <td>27.32</td>\n",
       "      <td>6.6</td>\n",
       "      <td>85</td>\n",
       "      <td>0</td>\n",
       "    </tr>\n",
       "    <tr>\n",
       "      <th>...</th>\n",
       "      <td>...</td>\n",
       "      <td>...</td>\n",
       "      <td>...</td>\n",
       "      <td>...</td>\n",
       "      <td>...</td>\n",
       "      <td>...</td>\n",
       "      <td>...</td>\n",
       "    </tr>\n",
       "    <tr>\n",
       "      <th>64179</th>\n",
       "      <td>26</td>\n",
       "      <td>0</td>\n",
       "      <td>0</td>\n",
       "      <td>34.34</td>\n",
       "      <td>6.5</td>\n",
       "      <td>160</td>\n",
       "      <td>0</td>\n",
       "    </tr>\n",
       "    <tr>\n",
       "      <th>64180</th>\n",
       "      <td>40</td>\n",
       "      <td>0</td>\n",
       "      <td>0</td>\n",
       "      <td>40.69</td>\n",
       "      <td>3.5</td>\n",
       "      <td>155</td>\n",
       "      <td>0</td>\n",
       "    </tr>\n",
       "    <tr>\n",
       "      <th>64181</th>\n",
       "      <td>66</td>\n",
       "      <td>0</td>\n",
       "      <td>0</td>\n",
       "      <td>27.83</td>\n",
       "      <td>5.7</td>\n",
       "      <td>155</td>\n",
       "      <td>0</td>\n",
       "    </tr>\n",
       "    <tr>\n",
       "      <th>64182</th>\n",
       "      <td>24</td>\n",
       "      <td>0</td>\n",
       "      <td>0</td>\n",
       "      <td>35.42</td>\n",
       "      <td>4.0</td>\n",
       "      <td>100</td>\n",
       "      <td>0</td>\n",
       "    </tr>\n",
       "    <tr>\n",
       "      <th>64183</th>\n",
       "      <td>57</td>\n",
       "      <td>0</td>\n",
       "      <td>0</td>\n",
       "      <td>22.43</td>\n",
       "      <td>6.6</td>\n",
       "      <td>90</td>\n",
       "      <td>0</td>\n",
       "    </tr>\n",
       "  </tbody>\n",
       "</table>\n",
       "<p>64184 rows × 7 columns</p>\n",
       "</div>"
      ],
      "text/plain": [
       "       age  hypertension  heart_disease    bmi  HbA1c_level  \\\n",
       "0       80             0              1  25.19          6.6   \n",
       "1       28             0              0  27.32          5.7   \n",
       "2       36             0              0  23.45          5.0   \n",
       "3       76             1              1  20.14          4.8   \n",
       "4       20             0              0  27.32          6.6   \n",
       "...    ...           ...            ...    ...          ...   \n",
       "64179   26             0              0  34.34          6.5   \n",
       "64180   40             0              0  40.69          3.5   \n",
       "64181   66             0              0  27.83          5.7   \n",
       "64182   24             0              0  35.42          4.0   \n",
       "64183   57             0              0  22.43          6.6   \n",
       "\n",
       "       blood_glucose_level  diabetes  \n",
       "0                      140         0  \n",
       "1                      158         0  \n",
       "2                      155         0  \n",
       "3                      155         0  \n",
       "4                       85         0  \n",
       "...                    ...       ...  \n",
       "64179                  160         0  \n",
       "64180                  155         0  \n",
       "64181                  155         0  \n",
       "64182                  100         0  \n",
       "64183                   90         0  \n",
       "\n",
       "[64184 rows x 7 columns]"
      ]
     },
     "execution_count": 77,
     "metadata": {},
     "output_type": "execute_result"
    }
   ],
   "source": [
    "numerical_df"
   ]
  },
  {
   "cell_type": "code",
   "execution_count": 78,
   "id": "cac6a867",
   "metadata": {},
   "outputs": [
    {
     "data": {
      "image/png": "[encoded data removed]",
      "text/plain": [
       "<Figure size 640x480 with 9 Axes>"
      ]
     },
     "metadata": {},
     "output_type": "display_data"
    }
   ],
   "source": [
    "numerical_df.hist()\n",
    "plt.show()"
   ]
  },
  {
   "cell_type": "markdown",
   "id": "2ca423ef",
   "metadata": {},
   "source": [
    "## To be able to get the correlation of our variable we are goint to plot the Hitmap"
   ]
  },
  {
   "cell_type": "markdown",
   "id": "ea1b1f01",
   "metadata": {},
   "source": [
    "### But firts we need to drop the \"hypertension\" and \"heart_disease\" columns"
   ]
  },
  {
   "cell_type": "code",
   "execution_count": 79,
   "id": "f3f79f4e",
   "metadata": {},
   "outputs": [],
   "source": [
    "#corr= numerical_df.iloc[:,3:6].corr()\n",
    "#corr"
   ]
  },
  {
   "cell_type": "code",
   "execution_count": 80,
   "id": "64c2ac7f",
   "metadata": {},
   "outputs": [],
   "source": [
    "corr= numerical_df.loc[:,['age','bmi', 'HbA1c_level',\"blood_glucose_level\"]] .corr()\n"
   ]
  },
  {
   "cell_type": "code",
   "execution_count": 81,
   "id": "a27620df",
   "metadata": {},
   "outputs": [
    {
     "data": {
      "text/plain": [
       "<AxesSubplot:>"
      ]
     },
     "execution_count": 81,
     "metadata": {},
     "output_type": "execute_result"
    },
    {
     "data": {
      "image/png": "[encoded data removed]",
      "text/plain": [
       "<Figure size 800x500 with 2 Axes>"
      ]
     },
     "metadata": {},
     "output_type": "display_data"
    }
   ],
   "source": [
    "fig=plt.figure(figsize=(8,5))\n",
    "sns.heatmap(corr.corr(),annot=True)"
   ]
  },
  {
   "cell_type": "markdown",
   "id": "8a423152",
   "metadata": {},
   "source": [
    "### Conclusion:\n",
    "We dont need to drop variable because we dont find a hight correlation."
   ]
  },
  {
   "cell_type": "markdown",
   "id": "109324b9",
   "metadata": {},
   "source": [
    "## Other way to ge it"
   ]
  },
  {
   "cell_type": "code",
   "execution_count": 82,
   "id": "ff75cb0a",
   "metadata": {},
   "outputs": [],
   "source": [
    "#df_correlation = numerical_df.drop('heart_disease', axis=1)"
   ]
  },
  {
   "cell_type": "code",
   "execution_count": 83,
   "id": "ef6367c8",
   "metadata": {},
   "outputs": [],
   "source": [
    "#df_correlation = df_correlation.drop('hypertension', axis=1)"
   ]
  },
  {
   "cell_type": "code",
   "execution_count": 84,
   "id": "675c44d0",
   "metadata": {},
   "outputs": [],
   "source": [
    "#df_correlation = df_correlation.drop('diabetes', axis=1)"
   ]
  },
  {
   "cell_type": "code",
   "execution_count": 85,
   "id": "2edcb0bf",
   "metadata": {},
   "outputs": [],
   "source": [
    "#df_correlation"
   ]
  },
  {
   "cell_type": "code",
   "execution_count": 86,
   "id": "20f05654",
   "metadata": {},
   "outputs": [],
   "source": [
    "#fig=plt.figure(figsize=(8,5))\n",
    "#sns.heatmap(df_correlation.corr(),annot=True)"
   ]
  },
  {
   "cell_type": "markdown",
   "id": "fe73d929",
   "metadata": {},
   "source": [
    "### Conclusion:\n",
    "We dont need to drop variable because we dont find a hight correlation."
   ]
  },
  {
   "cell_type": "markdown",
   "id": "5f5ba5d5",
   "metadata": {},
   "source": [
    "# STAGE 3"
   ]
  },
  {
   "cell_type": "markdown",
   "id": "1e44c36d",
   "metadata": {},
   "source": [
    "# Transforming our categorical variables into numerical variables"
   ]
  },
  {
   "cell_type": "code",
   "execution_count": 87,
   "id": "36fa421b",
   "metadata": {},
   "outputs": [
    {
     "data": {
      "text/plain": [
       "Index(['gender', 'smoking_history'], dtype='object')"
      ]
     },
     "execution_count": 87,
     "metadata": {},
     "output_type": "execute_result"
    }
   ],
   "source": [
    "categorical_df.columns"
   ]
  },
  {
   "cell_type": "markdown",
   "id": "06db837a",
   "metadata": {},
   "source": [
    "### Our variables \"gender\" and \"smoking history\" are Nominal ( not Hierarque)\n",
    "\n",
    "We can use dummys to do the transformation."
   ]
  },
  {
   "cell_type": "code",
   "execution_count": 88,
   "id": "e0f0da97",
   "metadata": {},
   "outputs": [],
   "source": [
    "\n",
    "# Create dummy variables for the 'Color' and 'Size' columns\n",
    "dummy_nominals = ['gender', 'smoking_history']\n",
    "categorical_df = pd.get_dummies(categorical_df, columns=dummy_nominals)\n",
    "\n"
   ]
  },
  {
   "cell_type": "code",
   "execution_count": 89,
   "id": "74e7096e",
   "metadata": {},
   "outputs": [],
   "source": [
    "categorical_df = categorical_df.reset_index(drop=True) "
   ]
  },
  {
   "cell_type": "code",
   "execution_count": 90,
   "id": "bb713259",
   "metadata": {},
   "outputs": [
    {
     "data": {
      "text/html": [
       "<div>\n",
       "<style scoped>\n",
       "    .dataframe tbody tr th:only-of-type {\n",
       "        vertical-align: middle;\n",
       "    }\n",
       "\n",
       "    .dataframe tbody tr th {\n",
       "        vertical-align: top;\n",
       "    }\n",
       "\n",
       "    .dataframe thead th {\n",
       "        text-align: right;\n",
       "    }\n",
       "</style>\n",
       "<table border=\"1\" class=\"dataframe\">\n",
       "  <thead>\n",
       "    <tr style=\"text-align: right;\">\n",
       "      <th></th>\n",
       "      <th>gender_Female</th>\n",
       "      <th>gender_Male</th>\n",
       "      <th>smoking_history_current</th>\n",
       "      <th>smoking_history_former</th>\n",
       "      <th>smoking_history_never</th>\n",
       "    </tr>\n",
       "  </thead>\n",
       "  <tbody>\n",
       "    <tr>\n",
       "      <th>0</th>\n",
       "      <td>1</td>\n",
       "      <td>0</td>\n",
       "      <td>0</td>\n",
       "      <td>0</td>\n",
       "      <td>1</td>\n",
       "    </tr>\n",
       "    <tr>\n",
       "      <th>1</th>\n",
       "      <td>0</td>\n",
       "      <td>1</td>\n",
       "      <td>0</td>\n",
       "      <td>0</td>\n",
       "      <td>1</td>\n",
       "    </tr>\n",
       "    <tr>\n",
       "      <th>2</th>\n",
       "      <td>1</td>\n",
       "      <td>0</td>\n",
       "      <td>1</td>\n",
       "      <td>0</td>\n",
       "      <td>0</td>\n",
       "    </tr>\n",
       "    <tr>\n",
       "      <th>3</th>\n",
       "      <td>0</td>\n",
       "      <td>1</td>\n",
       "      <td>1</td>\n",
       "      <td>0</td>\n",
       "      <td>0</td>\n",
       "    </tr>\n",
       "    <tr>\n",
       "      <th>4</th>\n",
       "      <td>1</td>\n",
       "      <td>0</td>\n",
       "      <td>0</td>\n",
       "      <td>0</td>\n",
       "      <td>1</td>\n",
       "    </tr>\n",
       "    <tr>\n",
       "      <th>...</th>\n",
       "      <td>...</td>\n",
       "      <td>...</td>\n",
       "      <td>...</td>\n",
       "      <td>...</td>\n",
       "      <td>...</td>\n",
       "    </tr>\n",
       "    <tr>\n",
       "      <th>64179</th>\n",
       "      <td>1</td>\n",
       "      <td>0</td>\n",
       "      <td>0</td>\n",
       "      <td>0</td>\n",
       "      <td>1</td>\n",
       "    </tr>\n",
       "    <tr>\n",
       "      <th>64180</th>\n",
       "      <td>1</td>\n",
       "      <td>0</td>\n",
       "      <td>0</td>\n",
       "      <td>0</td>\n",
       "      <td>1</td>\n",
       "    </tr>\n",
       "    <tr>\n",
       "      <th>64181</th>\n",
       "      <td>0</td>\n",
       "      <td>1</td>\n",
       "      <td>0</td>\n",
       "      <td>1</td>\n",
       "      <td>0</td>\n",
       "    </tr>\n",
       "    <tr>\n",
       "      <th>64182</th>\n",
       "      <td>1</td>\n",
       "      <td>0</td>\n",
       "      <td>0</td>\n",
       "      <td>0</td>\n",
       "      <td>1</td>\n",
       "    </tr>\n",
       "    <tr>\n",
       "      <th>64183</th>\n",
       "      <td>1</td>\n",
       "      <td>0</td>\n",
       "      <td>1</td>\n",
       "      <td>0</td>\n",
       "      <td>0</td>\n",
       "    </tr>\n",
       "  </tbody>\n",
       "</table>\n",
       "<p>64184 rows × 5 columns</p>\n",
       "</div>"
      ],
      "text/plain": [
       "       gender_Female  gender_Male  smoking_history_current  \\\n",
       "0                  1            0                        0   \n",
       "1                  0            1                        0   \n",
       "2                  1            0                        1   \n",
       "3                  0            1                        1   \n",
       "4                  1            0                        0   \n",
       "...              ...          ...                      ...   \n",
       "64179              1            0                        0   \n",
       "64180              1            0                        0   \n",
       "64181              0            1                        0   \n",
       "64182              1            0                        0   \n",
       "64183              1            0                        1   \n",
       "\n",
       "       smoking_history_former  smoking_history_never  \n",
       "0                           0                      1  \n",
       "1                           0                      1  \n",
       "2                           0                      0  \n",
       "3                           0                      0  \n",
       "4                           0                      1  \n",
       "...                       ...                    ...  \n",
       "64179                       0                      1  \n",
       "64180                       0                      1  \n",
       "64181                       1                      0  \n",
       "64182                       0                      1  \n",
       "64183                       0                      0  \n",
       "\n",
       "[64184 rows x 5 columns]"
      ]
     },
     "execution_count": 90,
     "metadata": {},
     "output_type": "execute_result"
    }
   ],
   "source": [
    "categorical_df"
   ]
  },
  {
   "cell_type": "code",
   "execution_count": 103,
   "id": "1ea746e9",
   "metadata": {},
   "outputs": [
    {
     "data": {
      "text/plain": [
       "Index(['age', 'hypertension', 'heart_disease', 'bmi', 'HbA1c_level',\n",
       "       'blood_glucose_level', 'diabetes'],\n",
       "      dtype='object')"
      ]
     },
     "execution_count": 103,
     "metadata": {},
     "output_type": "execute_result"
    }
   ],
   "source": [
    "numerical_df = numerical_df.reset_index(drop=True) \n",
    "numerical_df.columns"
   ]
  },
  {
   "cell_type": "code",
   "execution_count": 104,
   "id": "e5b42920",
   "metadata": {},
   "outputs": [
    {
     "data": {
      "text/html": [
       "<div>\n",
       "<style scoped>\n",
       "    .dataframe tbody tr th:only-of-type {\n",
       "        vertical-align: middle;\n",
       "    }\n",
       "\n",
       "    .dataframe tbody tr th {\n",
       "        vertical-align: top;\n",
       "    }\n",
       "\n",
       "    .dataframe thead th {\n",
       "        text-align: right;\n",
       "    }\n",
       "</style>\n",
       "<table border=\"1\" class=\"dataframe\">\n",
       "  <thead>\n",
       "    <tr style=\"text-align: right;\">\n",
       "      <th></th>\n",
       "      <th>age</th>\n",
       "      <th>hypertension</th>\n",
       "      <th>heart_disease</th>\n",
       "      <th>bmi</th>\n",
       "      <th>HbA1c_level</th>\n",
       "      <th>blood_glucose_level</th>\n",
       "      <th>diabetes</th>\n",
       "    </tr>\n",
       "  </thead>\n",
       "  <tbody>\n",
       "    <tr>\n",
       "      <th>0</th>\n",
       "      <td>80</td>\n",
       "      <td>0</td>\n",
       "      <td>1</td>\n",
       "      <td>25.19</td>\n",
       "      <td>6.6</td>\n",
       "      <td>140</td>\n",
       "      <td>0</td>\n",
       "    </tr>\n",
       "    <tr>\n",
       "      <th>1</th>\n",
       "      <td>28</td>\n",
       "      <td>0</td>\n",
       "      <td>0</td>\n",
       "      <td>27.32</td>\n",
       "      <td>5.7</td>\n",
       "      <td>158</td>\n",
       "      <td>0</td>\n",
       "    </tr>\n",
       "    <tr>\n",
       "      <th>2</th>\n",
       "      <td>36</td>\n",
       "      <td>0</td>\n",
       "      <td>0</td>\n",
       "      <td>23.45</td>\n",
       "      <td>5.0</td>\n",
       "      <td>155</td>\n",
       "      <td>0</td>\n",
       "    </tr>\n",
       "    <tr>\n",
       "      <th>3</th>\n",
       "      <td>76</td>\n",
       "      <td>1</td>\n",
       "      <td>1</td>\n",
       "      <td>20.14</td>\n",
       "      <td>4.8</td>\n",
       "      <td>155</td>\n",
       "      <td>0</td>\n",
       "    </tr>\n",
       "    <tr>\n",
       "      <th>4</th>\n",
       "      <td>20</td>\n",
       "      <td>0</td>\n",
       "      <td>0</td>\n",
       "      <td>27.32</td>\n",
       "      <td>6.6</td>\n",
       "      <td>85</td>\n",
       "      <td>0</td>\n",
       "    </tr>\n",
       "    <tr>\n",
       "      <th>...</th>\n",
       "      <td>...</td>\n",
       "      <td>...</td>\n",
       "      <td>...</td>\n",
       "      <td>...</td>\n",
       "      <td>...</td>\n",
       "      <td>...</td>\n",
       "      <td>...</td>\n",
       "    </tr>\n",
       "    <tr>\n",
       "      <th>64179</th>\n",
       "      <td>26</td>\n",
       "      <td>0</td>\n",
       "      <td>0</td>\n",
       "      <td>34.34</td>\n",
       "      <td>6.5</td>\n",
       "      <td>160</td>\n",
       "      <td>0</td>\n",
       "    </tr>\n",
       "    <tr>\n",
       "      <th>64180</th>\n",
       "      <td>40</td>\n",
       "      <td>0</td>\n",
       "      <td>0</td>\n",
       "      <td>40.69</td>\n",
       "      <td>3.5</td>\n",
       "      <td>155</td>\n",
       "      <td>0</td>\n",
       "    </tr>\n",
       "    <tr>\n",
       "      <th>64181</th>\n",
       "      <td>66</td>\n",
       "      <td>0</td>\n",
       "      <td>0</td>\n",
       "      <td>27.83</td>\n",
       "      <td>5.7</td>\n",
       "      <td>155</td>\n",
       "      <td>0</td>\n",
       "    </tr>\n",
       "    <tr>\n",
       "      <th>64182</th>\n",
       "      <td>24</td>\n",
       "      <td>0</td>\n",
       "      <td>0</td>\n",
       "      <td>35.42</td>\n",
       "      <td>4.0</td>\n",
       "      <td>100</td>\n",
       "      <td>0</td>\n",
       "    </tr>\n",
       "    <tr>\n",
       "      <th>64183</th>\n",
       "      <td>57</td>\n",
       "      <td>0</td>\n",
       "      <td>0</td>\n",
       "      <td>22.43</td>\n",
       "      <td>6.6</td>\n",
       "      <td>90</td>\n",
       "      <td>0</td>\n",
       "    </tr>\n",
       "  </tbody>\n",
       "</table>\n",
       "<p>64184 rows × 7 columns</p>\n",
       "</div>"
      ],
      "text/plain": [
       "       age  hypertension  heart_disease    bmi  HbA1c_level  \\\n",
       "0       80             0              1  25.19          6.6   \n",
       "1       28             0              0  27.32          5.7   \n",
       "2       36             0              0  23.45          5.0   \n",
       "3       76             1              1  20.14          4.8   \n",
       "4       20             0              0  27.32          6.6   \n",
       "...    ...           ...            ...    ...          ...   \n",
       "64179   26             0              0  34.34          6.5   \n",
       "64180   40             0              0  40.69          3.5   \n",
       "64181   66             0              0  27.83          5.7   \n",
       "64182   24             0              0  35.42          4.0   \n",
       "64183   57             0              0  22.43          6.6   \n",
       "\n",
       "       blood_glucose_level  diabetes  \n",
       "0                      140         0  \n",
       "1                      158         0  \n",
       "2                      155         0  \n",
       "3                      155         0  \n",
       "4                       85         0  \n",
       "...                    ...       ...  \n",
       "64179                  160         0  \n",
       "64180                  155         0  \n",
       "64181                  155         0  \n",
       "64182                  100         0  \n",
       "64183                   90         0  \n",
       "\n",
       "[64184 rows x 7 columns]"
      ]
     },
     "execution_count": 104,
     "metadata": {},
     "output_type": "execute_result"
    }
   ],
   "source": [
    "numerical_df"
   ]
  },
  {
   "cell_type": "markdown",
   "id": "d8ae4944",
   "metadata": {},
   "source": [
    "## We concatenate our data"
   ]
  },
  {
   "cell_type": "code",
   "execution_count": 105,
   "id": "404f43a9",
   "metadata": {},
   "outputs": [],
   "source": [
    "df_transformed = pd.concat([numerical_df, categorical_df], axis=1)"
   ]
  },
  {
   "cell_type": "code",
   "execution_count": 106,
   "id": "c4315a65",
   "metadata": {},
   "outputs": [
    {
     "data": {
      "text/html": [
       "<div>\n",
       "<style scoped>\n",
       "    .dataframe tbody tr th:only-of-type {\n",
       "        vertical-align: middle;\n",
       "    }\n",
       "\n",
       "    .dataframe tbody tr th {\n",
       "        vertical-align: top;\n",
       "    }\n",
       "\n",
       "    .dataframe thead th {\n",
       "        text-align: right;\n",
       "    }\n",
       "</style>\n",
       "<table border=\"1\" class=\"dataframe\">\n",
       "  <thead>\n",
       "    <tr style=\"text-align: right;\">\n",
       "      <th></th>\n",
       "      <th>age</th>\n",
       "      <th>hypertension</th>\n",
       "      <th>heart_disease</th>\n",
       "      <th>bmi</th>\n",
       "      <th>HbA1c_level</th>\n",
       "      <th>blood_glucose_level</th>\n",
       "      <th>diabetes</th>\n",
       "      <th>gender_Female</th>\n",
       "      <th>gender_Male</th>\n",
       "      <th>smoking_history_current</th>\n",
       "      <th>smoking_history_former</th>\n",
       "      <th>smoking_history_never</th>\n",
       "    </tr>\n",
       "  </thead>\n",
       "  <tbody>\n",
       "    <tr>\n",
       "      <th>0</th>\n",
       "      <td>80</td>\n",
       "      <td>0</td>\n",
       "      <td>1</td>\n",
       "      <td>25.19</td>\n",
       "      <td>6.6</td>\n",
       "      <td>140</td>\n",
       "      <td>0</td>\n",
       "      <td>1</td>\n",
       "      <td>0</td>\n",
       "      <td>0</td>\n",
       "      <td>0</td>\n",
       "      <td>1</td>\n",
       "    </tr>\n",
       "    <tr>\n",
       "      <th>1</th>\n",
       "      <td>28</td>\n",
       "      <td>0</td>\n",
       "      <td>0</td>\n",
       "      <td>27.32</td>\n",
       "      <td>5.7</td>\n",
       "      <td>158</td>\n",
       "      <td>0</td>\n",
       "      <td>0</td>\n",
       "      <td>1</td>\n",
       "      <td>0</td>\n",
       "      <td>0</td>\n",
       "      <td>1</td>\n",
       "    </tr>\n",
       "    <tr>\n",
       "      <th>2</th>\n",
       "      <td>36</td>\n",
       "      <td>0</td>\n",
       "      <td>0</td>\n",
       "      <td>23.45</td>\n",
       "      <td>5.0</td>\n",
       "      <td>155</td>\n",
       "      <td>0</td>\n",
       "      <td>1</td>\n",
       "      <td>0</td>\n",
       "      <td>1</td>\n",
       "      <td>0</td>\n",
       "      <td>0</td>\n",
       "    </tr>\n",
       "    <tr>\n",
       "      <th>3</th>\n",
       "      <td>76</td>\n",
       "      <td>1</td>\n",
       "      <td>1</td>\n",
       "      <td>20.14</td>\n",
       "      <td>4.8</td>\n",
       "      <td>155</td>\n",
       "      <td>0</td>\n",
       "      <td>0</td>\n",
       "      <td>1</td>\n",
       "      <td>1</td>\n",
       "      <td>0</td>\n",
       "      <td>0</td>\n",
       "    </tr>\n",
       "    <tr>\n",
       "      <th>4</th>\n",
       "      <td>20</td>\n",
       "      <td>0</td>\n",
       "      <td>0</td>\n",
       "      <td>27.32</td>\n",
       "      <td>6.6</td>\n",
       "      <td>85</td>\n",
       "      <td>0</td>\n",
       "      <td>1</td>\n",
       "      <td>0</td>\n",
       "      <td>0</td>\n",
       "      <td>0</td>\n",
       "      <td>1</td>\n",
       "    </tr>\n",
       "    <tr>\n",
       "      <th>...</th>\n",
       "      <td>...</td>\n",
       "      <td>...</td>\n",
       "      <td>...</td>\n",
       "      <td>...</td>\n",
       "      <td>...</td>\n",
       "      <td>...</td>\n",
       "      <td>...</td>\n",
       "      <td>...</td>\n",
       "      <td>...</td>\n",
       "      <td>...</td>\n",
       "      <td>...</td>\n",
       "      <td>...</td>\n",
       "    </tr>\n",
       "    <tr>\n",
       "      <th>64179</th>\n",
       "      <td>26</td>\n",
       "      <td>0</td>\n",
       "      <td>0</td>\n",
       "      <td>34.34</td>\n",
       "      <td>6.5</td>\n",
       "      <td>160</td>\n",
       "      <td>0</td>\n",
       "      <td>1</td>\n",
       "      <td>0</td>\n",
       "      <td>0</td>\n",
       "      <td>0</td>\n",
       "      <td>1</td>\n",
       "    </tr>\n",
       "    <tr>\n",
       "      <th>64180</th>\n",
       "      <td>40</td>\n",
       "      <td>0</td>\n",
       "      <td>0</td>\n",
       "      <td>40.69</td>\n",
       "      <td>3.5</td>\n",
       "      <td>155</td>\n",
       "      <td>0</td>\n",
       "      <td>1</td>\n",
       "      <td>0</td>\n",
       "      <td>0</td>\n",
       "      <td>0</td>\n",
       "      <td>1</td>\n",
       "    </tr>\n",
       "    <tr>\n",
       "      <th>64181</th>\n",
       "      <td>66</td>\n",
       "      <td>0</td>\n",
       "      <td>0</td>\n",
       "      <td>27.83</td>\n",
       "      <td>5.7</td>\n",
       "      <td>155</td>\n",
       "      <td>0</td>\n",
       "      <td>0</td>\n",
       "      <td>1</td>\n",
       "      <td>0</td>\n",
       "      <td>1</td>\n",
       "      <td>0</td>\n",
       "    </tr>\n",
       "    <tr>\n",
       "      <th>64182</th>\n",
       "      <td>24</td>\n",
       "      <td>0</td>\n",
       "      <td>0</td>\n",
       "      <td>35.42</td>\n",
       "      <td>4.0</td>\n",
       "      <td>100</td>\n",
       "      <td>0</td>\n",
       "      <td>1</td>\n",
       "      <td>0</td>\n",
       "      <td>0</td>\n",
       "      <td>0</td>\n",
       "      <td>1</td>\n",
       "    </tr>\n",
       "    <tr>\n",
       "      <th>64183</th>\n",
       "      <td>57</td>\n",
       "      <td>0</td>\n",
       "      <td>0</td>\n",
       "      <td>22.43</td>\n",
       "      <td>6.6</td>\n",
       "      <td>90</td>\n",
       "      <td>0</td>\n",
       "      <td>1</td>\n",
       "      <td>0</td>\n",
       "      <td>1</td>\n",
       "      <td>0</td>\n",
       "      <td>0</td>\n",
       "    </tr>\n",
       "  </tbody>\n",
       "</table>\n",
       "<p>64184 rows × 12 columns</p>\n",
       "</div>"
      ],
      "text/plain": [
       "       age  hypertension  heart_disease    bmi  HbA1c_level  \\\n",
       "0       80             0              1  25.19          6.6   \n",
       "1       28             0              0  27.32          5.7   \n",
       "2       36             0              0  23.45          5.0   \n",
       "3       76             1              1  20.14          4.8   \n",
       "4       20             0              0  27.32          6.6   \n",
       "...    ...           ...            ...    ...          ...   \n",
       "64179   26             0              0  34.34          6.5   \n",
       "64180   40             0              0  40.69          3.5   \n",
       "64181   66             0              0  27.83          5.7   \n",
       "64182   24             0              0  35.42          4.0   \n",
       "64183   57             0              0  22.43          6.6   \n",
       "\n",
       "       blood_glucose_level  diabetes  gender_Female  gender_Male  \\\n",
       "0                      140         0              1            0   \n",
       "1                      158         0              0            1   \n",
       "2                      155         0              1            0   \n",
       "3                      155         0              0            1   \n",
       "4                       85         0              1            0   \n",
       "...                    ...       ...            ...          ...   \n",
       "64179                  160         0              1            0   \n",
       "64180                  155         0              1            0   \n",
       "64181                  155         0              0            1   \n",
       "64182                  100         0              1            0   \n",
       "64183                   90         0              1            0   \n",
       "\n",
       "       smoking_history_current  smoking_history_former  smoking_history_never  \n",
       "0                            0                       0                      1  \n",
       "1                            0                       0                      1  \n",
       "2                            1                       0                      0  \n",
       "3                            1                       0                      0  \n",
       "4                            0                       0                      1  \n",
       "...                        ...                     ...                    ...  \n",
       "64179                        0                       0                      1  \n",
       "64180                        0                       0                      1  \n",
       "64181                        0                       1                      0  \n",
       "64182                        0                       0                      1  \n",
       "64183                        1                       0                      0  \n",
       "\n",
       "[64184 rows x 12 columns]"
      ]
     },
     "execution_count": 106,
     "metadata": {},
     "output_type": "execute_result"
    }
   ],
   "source": [
    "df_transformed "
   ]
  },
  {
   "cell_type": "markdown",
   "id": "80ce8e55",
   "metadata": {},
   "source": [
    "## STAGE 05"
   ]
  },
  {
   "cell_type": "markdown",
   "id": "c6754f2b",
   "metadata": {},
   "source": [
    "### Train - Test Split"
   ]
  },
  {
   "cell_type": "code",
   "execution_count": 107,
   "id": "a297ad0c",
   "metadata": {},
   "outputs": [
    {
     "data": {
      "text/plain": [
       "Index(['age', 'hypertension', 'heart_disease', 'bmi', 'HbA1c_level',\n",
       "       'blood_glucose_level', 'diabetes', 'gender_Female', 'gender_Male',\n",
       "       'smoking_history_current', 'smoking_history_former',\n",
       "       'smoking_history_never'],\n",
       "      dtype='object')"
      ]
     },
     "execution_count": 107,
     "metadata": {},
     "output_type": "execute_result"
    }
   ],
   "source": [
    "df_transformed.columns"
   ]
  },
  {
   "cell_type": "code",
   "execution_count": 108,
   "id": "8a407e7a",
   "metadata": {},
   "outputs": [],
   "source": [
    "X=df_transformed[['age', 'hypertension', 'heart_disease', 'bmi', 'HbA1c_level',\n",
    "       'blood_glucose_level', 'gender_Female', 'gender_Male','smoking_history_current',\n",
    "       'smoking_history_former', 'smoking_history_never']]\n",
    "y=df_transformed['diabetes']"
   ]
  },
  {
   "cell_type": "code",
   "execution_count": 109,
   "id": "c03ec056",
   "metadata": {},
   "outputs": [],
   "source": [
    "from sklearn.model_selection import train_test_split"
   ]
  },
  {
   "cell_type": "code",
   "execution_count": 110,
   "id": "fead58ae",
   "metadata": {},
   "outputs": [],
   "source": [
    "X_train, X_test, y_train, y_test = train_test_split(X,y, test_size = 0.3, random_state = 42)"
   ]
  },
  {
   "cell_type": "markdown",
   "id": "e21b4fb1",
   "metadata": {},
   "source": [
    "### We are using to use Undersimple Near Miss to o handle imbalanced data"
   ]
  },
  {
   "cell_type": "code",
   "execution_count": 119,
   "id": "2f8ad0ee",
   "metadata": {},
   "outputs": [],
   "source": [
    "import pandas as pd\n",
    "from imblearn.under_sampling import NearMiss"
   ]
  },
  {
   "cell_type": "code",
   "execution_count": 121,
   "id": "0d5f2e01",
   "metadata": {
    "scrolled": true
   },
   "outputs": [],
   "source": [
    "undersampling = NearMiss(version=3, n_neighbors_ver3=3)\n",
    "\n",
    "X_resampled, y_resampled = undersampling.fit_resample(X_train, y_train)\n",
    "\n"
   ]
  },
  {
   "cell_type": "code",
   "execution_count": 122,
   "id": "53797cc3",
   "metadata": {},
   "outputs": [],
   "source": [
    "# Create a balanced DataFrame\n",
    "df_balanced = pd.DataFrame(X_resampled, columns=['age', 'hypertension', 'heart_disease', 'bmi', 'HbA1c_level',\n",
    "       'blood_glucose_level', 'gender_Female', 'gender_Male','smoking_history_current',\n",
    "       'smoking_history_former', 'smoking_history_never'])\n",
    "df_balanced['diabetes'] = y_resampled"
   ]
  },
  {
   "cell_type": "markdown",
   "id": "28096ad2",
   "metadata": {},
   "source": [
    "## STAGE 06"
   ]
  },
  {
   "cell_type": "code",
   "execution_count": 123,
   "id": "3b109a0d",
   "metadata": {},
   "outputs": [],
   "source": [
    "from sklearn.linear_model import LogisticRegression\n",
    "from sklearn.metrics import accuracy_score"
   ]
  },
  {
   "cell_type": "code",
   "execution_count": null,
   "id": "f7f7a768",
   "metadata": {},
   "outputs": [],
   "source": [
    "model = LogisticRegression()\n",
    "model.fit(X_train, y_train)"
   ]
  },
  {
   "cell_type": "code",
   "execution_count": null,
   "id": "55e58529",
   "metadata": {},
   "outputs": [],
   "source": []
  },
  {
   "cell_type": "code",
   "execution_count": 111,
   "id": "ab2f7c37",
   "metadata": {},
   "outputs": [],
   "source": [
    "#from sklearn.ensemble import RandomForestClassifier\n",
    "#from sklearn.model_selection import train_test_split\n",
    "#from sklearn.utils import class_weight\n",
    "#from sklearn.datasets import load_breast_cancer\n",
    "\n",
    "# Load the Breast Cancer dataset\n",
    "#df_transformed\n",
    "#data = load_breast_cancer()\n",
    "#X = data.data\n",
    "#y = data.target\n",
    "\n",
    "# Split the dataset into train and test sets\n",
    "#X_train, X_test, y_train, y_test = train_test_split(X, y, test_size=0.2, random_state=42)\n",
    "\n",
    "# Compute class weights\n",
    "#class_weights = class_weight.compute_class_weight('balanced', classes=df_transformed.target_names, y=y_train)\n",
    "\n",
    "# Create and fit the model with class weights\n",
    "#model = RandomForestClassifier(class_weight=dict(enumerate(class_weights)))\n",
    "#model.fit(X_train, y_train)\n",
    "\n",
    "# Evaluate the model\n",
    "#accuracy = model.score(X_test, y_test)\n",
    "#print(\"Accuracy:\", accuracy)"
   ]
  },
  {
   "cell_type": "code",
   "execution_count": null,
   "id": "ce4113c0",
   "metadata": {},
   "outputs": [],
   "source": []
  }
 ],
 "metadata": {
  "kernelspec": {
   "display_name": "Python 3 (ipykernel)",
   "language": "python",
   "name": "python3"
  },
  "language_info": {
   "codemirror_mode": {
    "name": "ipython",
    "version": 3
   },
   "file_extension": ".py",
   "mimetype": "text/x-python",
   "name": "python",
   "nbconvert_exporter": "python",
   "pygments_lexer": "ipython3",
   "version": "3.9.13"
  }
 },
 "nbformat": 4,
 "nbformat_minor": 5
}
