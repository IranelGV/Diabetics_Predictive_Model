{
 "cells": [
  {
   "cell_type": "markdown",
   "id": "6460c05b",
   "metadata": {},
   "source": [
    "### Midterm Project"
   ]
  },
  {
   "cell_type": "code",
   "execution_count": 1,
   "id": "51a3ed13",
   "metadata": {},
   "outputs": [],
   "source": [
    "from sklearn.metrics import classification_report, confusion_matrix, ConfusionMatrixDisplay\n",
    "from sklearn.linear_model import LogisticRegression\n",
    "from sklearn.metrics import accuracy_score\n",
    "from sklearn.metrics import roc_curve, roc_auc_score\n",
    "\n",
    "\n",
    "import pandas as pd\n",
    "import numpy as np\n",
    "import matplotlib.pyplot as plt\n",
    "import seaborn as sns\n",
    "import sklearn.metrics as metrics\n",
    "\n",
    "\n",
    "%matplotlib inline"
   ]
  },
  {
   "cell_type": "code",
   "execution_count": 2,
   "id": "0ce602de",
   "metadata": {},
   "outputs": [],
   "source": [
    "df= pd.read_csv(\"diabetes_prediction_dataset.csv\")"
   ]
  },
  {
   "cell_type": "code",
   "execution_count": 3,
   "id": "f060a00e",
   "metadata": {},
   "outputs": [
    {
     "data": {
      "text/html": [
       "<div>\n",
       "<style scoped>\n",
       "    .dataframe tbody tr th:only-of-type {\n",
       "        vertical-align: middle;\n",
       "    }\n",
       "\n",
       "    .dataframe tbody tr th {\n",
       "        vertical-align: top;\n",
       "    }\n",
       "\n",
       "    .dataframe thead th {\n",
       "        text-align: right;\n",
       "    }\n",
       "</style>\n",
       "<table border=\"1\" class=\"dataframe\">\n",
       "  <thead>\n",
       "    <tr style=\"text-align: right;\">\n",
       "      <th></th>\n",
       "      <th>gender</th>\n",
       "      <th>age</th>\n",
       "      <th>hypertension</th>\n",
       "      <th>heart_disease</th>\n",
       "      <th>smoking_history</th>\n",
       "      <th>bmi</th>\n",
       "      <th>HbA1c_level</th>\n",
       "      <th>blood_glucose_level</th>\n",
       "      <th>diabetes</th>\n",
       "    </tr>\n",
       "  </thead>\n",
       "  <tbody>\n",
       "    <tr>\n",
       "      <th>0</th>\n",
       "      <td>Female</td>\n",
       "      <td>80.0</td>\n",
       "      <td>0</td>\n",
       "      <td>1</td>\n",
       "      <td>never</td>\n",
       "      <td>25.19</td>\n",
       "      <td>6.6</td>\n",
       "      <td>140</td>\n",
       "      <td>0</td>\n",
       "    </tr>\n",
       "    <tr>\n",
       "      <th>1</th>\n",
       "      <td>Female</td>\n",
       "      <td>54.0</td>\n",
       "      <td>0</td>\n",
       "      <td>0</td>\n",
       "      <td>No Info</td>\n",
       "      <td>27.32</td>\n",
       "      <td>6.6</td>\n",
       "      <td>80</td>\n",
       "      <td>0</td>\n",
       "    </tr>\n",
       "    <tr>\n",
       "      <th>2</th>\n",
       "      <td>Male</td>\n",
       "      <td>28.0</td>\n",
       "      <td>0</td>\n",
       "      <td>0</td>\n",
       "      <td>never</td>\n",
       "      <td>27.32</td>\n",
       "      <td>5.7</td>\n",
       "      <td>158</td>\n",
       "      <td>0</td>\n",
       "    </tr>\n",
       "    <tr>\n",
       "      <th>3</th>\n",
       "      <td>Female</td>\n",
       "      <td>36.0</td>\n",
       "      <td>0</td>\n",
       "      <td>0</td>\n",
       "      <td>current</td>\n",
       "      <td>23.45</td>\n",
       "      <td>5.0</td>\n",
       "      <td>155</td>\n",
       "      <td>0</td>\n",
       "    </tr>\n",
       "    <tr>\n",
       "      <th>4</th>\n",
       "      <td>Male</td>\n",
       "      <td>76.0</td>\n",
       "      <td>1</td>\n",
       "      <td>1</td>\n",
       "      <td>current</td>\n",
       "      <td>20.14</td>\n",
       "      <td>4.8</td>\n",
       "      <td>155</td>\n",
       "      <td>0</td>\n",
       "    </tr>\n",
       "    <tr>\n",
       "      <th>...</th>\n",
       "      <td>...</td>\n",
       "      <td>...</td>\n",
       "      <td>...</td>\n",
       "      <td>...</td>\n",
       "      <td>...</td>\n",
       "      <td>...</td>\n",
       "      <td>...</td>\n",
       "      <td>...</td>\n",
       "      <td>...</td>\n",
       "    </tr>\n",
       "    <tr>\n",
       "      <th>99995</th>\n",
       "      <td>Female</td>\n",
       "      <td>80.0</td>\n",
       "      <td>0</td>\n",
       "      <td>0</td>\n",
       "      <td>No Info</td>\n",
       "      <td>27.32</td>\n",
       "      <td>6.2</td>\n",
       "      <td>90</td>\n",
       "      <td>0</td>\n",
       "    </tr>\n",
       "    <tr>\n",
       "      <th>99996</th>\n",
       "      <td>Female</td>\n",
       "      <td>2.0</td>\n",
       "      <td>0</td>\n",
       "      <td>0</td>\n",
       "      <td>No Info</td>\n",
       "      <td>17.37</td>\n",
       "      <td>6.5</td>\n",
       "      <td>100</td>\n",
       "      <td>0</td>\n",
       "    </tr>\n",
       "    <tr>\n",
       "      <th>99997</th>\n",
       "      <td>Male</td>\n",
       "      <td>66.0</td>\n",
       "      <td>0</td>\n",
       "      <td>0</td>\n",
       "      <td>former</td>\n",
       "      <td>27.83</td>\n",
       "      <td>5.7</td>\n",
       "      <td>155</td>\n",
       "      <td>0</td>\n",
       "    </tr>\n",
       "    <tr>\n",
       "      <th>99998</th>\n",
       "      <td>Female</td>\n",
       "      <td>24.0</td>\n",
       "      <td>0</td>\n",
       "      <td>0</td>\n",
       "      <td>never</td>\n",
       "      <td>35.42</td>\n",
       "      <td>4.0</td>\n",
       "      <td>100</td>\n",
       "      <td>0</td>\n",
       "    </tr>\n",
       "    <tr>\n",
       "      <th>99999</th>\n",
       "      <td>Female</td>\n",
       "      <td>57.0</td>\n",
       "      <td>0</td>\n",
       "      <td>0</td>\n",
       "      <td>current</td>\n",
       "      <td>22.43</td>\n",
       "      <td>6.6</td>\n",
       "      <td>90</td>\n",
       "      <td>0</td>\n",
       "    </tr>\n",
       "  </tbody>\n",
       "</table>\n",
       "<p>100000 rows × 9 columns</p>\n",
       "</div>"
      ],
      "text/plain": [
       "       gender   age  hypertension  heart_disease smoking_history    bmi  \\\n",
       "0      Female  80.0             0              1           never  25.19   \n",
       "1      Female  54.0             0              0         No Info  27.32   \n",
       "2        Male  28.0             0              0           never  27.32   \n",
       "3      Female  36.0             0              0         current  23.45   \n",
       "4        Male  76.0             1              1         current  20.14   \n",
       "...       ...   ...           ...            ...             ...    ...   \n",
       "99995  Female  80.0             0              0         No Info  27.32   \n",
       "99996  Female   2.0             0              0         No Info  17.37   \n",
       "99997    Male  66.0             0              0          former  27.83   \n",
       "99998  Female  24.0             0              0           never  35.42   \n",
       "99999  Female  57.0             0              0         current  22.43   \n",
       "\n",
       "       HbA1c_level  blood_glucose_level  diabetes  \n",
       "0              6.6                  140         0  \n",
       "1              6.6                   80         0  \n",
       "2              5.7                  158         0  \n",
       "3              5.0                  155         0  \n",
       "4              4.8                  155         0  \n",
       "...            ...                  ...       ...  \n",
       "99995          6.2                   90         0  \n",
       "99996          6.5                  100         0  \n",
       "99997          5.7                  155         0  \n",
       "99998          4.0                  100         0  \n",
       "99999          6.6                   90         0  \n",
       "\n",
       "[100000 rows x 9 columns]"
      ]
     },
     "execution_count": 3,
     "metadata": {},
     "output_type": "execute_result"
    }
   ],
   "source": [
    "df"
   ]
  },
  {
   "cell_type": "code",
   "execution_count": 4,
   "id": "137f790f",
   "metadata": {},
   "outputs": [
    {
     "name": "stdout",
     "output_type": "stream",
     "text": [
      "<class 'pandas.core.frame.DataFrame'>\n",
      "RangeIndex: 100000 entries, 0 to 99999\n",
      "Data columns (total 9 columns):\n",
      " #   Column               Non-Null Count   Dtype  \n",
      "---  ------               --------------   -----  \n",
      " 0   gender               100000 non-null  object \n",
      " 1   age                  100000 non-null  float64\n",
      " 2   hypertension         100000 non-null  int64  \n",
      " 3   heart_disease        100000 non-null  int64  \n",
      " 4   smoking_history      100000 non-null  object \n",
      " 5   bmi                  100000 non-null  float64\n",
      " 6   HbA1c_level          100000 non-null  float64\n",
      " 7   blood_glucose_level  100000 non-null  int64  \n",
      " 8   diabetes             100000 non-null  int64  \n",
      "dtypes: float64(3), int64(4), object(2)\n",
      "memory usage: 6.9+ MB\n"
     ]
    }
   ],
   "source": [
    "df.info()"
   ]
  },
  {
   "cell_type": "code",
   "execution_count": 5,
   "id": "d78d9de0",
   "metadata": {},
   "outputs": [],
   "source": [
    "column_types = df.dtypes"
   ]
  },
  {
   "cell_type": "code",
   "execution_count": 6,
   "id": "08eb20e0",
   "metadata": {},
   "outputs": [
    {
     "data": {
      "text/plain": [
       "gender                  object\n",
       "age                    float64\n",
       "hypertension             int64\n",
       "heart_disease            int64\n",
       "smoking_history         object\n",
       "bmi                    float64\n",
       "HbA1c_level            float64\n",
       "blood_glucose_level      int64\n",
       "diabetes                 int64\n",
       "dtype: object"
      ]
     },
     "execution_count": 6,
     "metadata": {},
     "output_type": "execute_result"
    }
   ],
   "source": [
    "column_types"
   ]
  },
  {
   "cell_type": "code",
   "execution_count": 7,
   "id": "ff86db78",
   "metadata": {},
   "outputs": [],
   "source": [
    "column_names = df.columns"
   ]
  },
  {
   "cell_type": "code",
   "execution_count": 8,
   "id": "84175dee",
   "metadata": {},
   "outputs": [
    {
     "data": {
      "text/plain": [
       "Index(['gender', 'age', 'hypertension', 'heart_disease', 'smoking_history',\n",
       "       'bmi', 'HbA1c_level', 'blood_glucose_level', 'diabetes'],\n",
       "      dtype='object')"
      ]
     },
     "execution_count": 8,
     "metadata": {},
     "output_type": "execute_result"
    }
   ],
   "source": [
    "column_names"
   ]
  },
  {
   "cell_type": "markdown",
   "id": "43602b4b",
   "metadata": {},
   "source": [
    "# STAGE 01"
   ]
  },
  {
   "cell_type": "markdown",
   "id": "c65876e7",
   "metadata": {},
   "source": [
    "## Data cleaning"
   ]
  },
  {
   "cell_type": "markdown",
   "id": "39112306",
   "metadata": {},
   "source": [
    "### 👉 Cheking Age"
   ]
  },
  {
   "cell_type": "markdown",
   "id": "1271d625",
   "metadata": {},
   "source": [
    "### Changing the data type of \"Age\""
   ]
  },
  {
   "cell_type": "code",
   "execution_count": 9,
   "id": "f40a4a69",
   "metadata": {},
   "outputs": [],
   "source": [
    "df['age'] = df['age'].astype(\"int64\")"
   ]
  },
  {
   "cell_type": "code",
   "execution_count": 10,
   "id": "9e8c7ce9",
   "metadata": {},
   "outputs": [
    {
     "name": "stdout",
     "output_type": "stream",
     "text": [
      "<class 'pandas.core.frame.DataFrame'>\n",
      "RangeIndex: 100000 entries, 0 to 99999\n",
      "Data columns (total 9 columns):\n",
      " #   Column               Non-Null Count   Dtype  \n",
      "---  ------               --------------   -----  \n",
      " 0   gender               100000 non-null  object \n",
      " 1   age                  100000 non-null  int64  \n",
      " 2   hypertension         100000 non-null  int64  \n",
      " 3   heart_disease        100000 non-null  int64  \n",
      " 4   smoking_history      100000 non-null  object \n",
      " 5   bmi                  100000 non-null  float64\n",
      " 6   HbA1c_level          100000 non-null  float64\n",
      " 7   blood_glucose_level  100000 non-null  int64  \n",
      " 8   diabetes             100000 non-null  int64  \n",
      "dtypes: float64(2), int64(5), object(2)\n",
      "memory usage: 6.9+ MB\n"
     ]
    }
   ],
   "source": [
    "df.info()\n"
   ]
  },
  {
   "cell_type": "code",
   "execution_count": 11,
   "id": "de527b9f",
   "metadata": {},
   "outputs": [],
   "source": [
    "df.drop(df[(df[\"age\"].isin([0,1,2,3]))].index,inplace=True)"
   ]
  },
  {
   "cell_type": "markdown",
   "id": "b2ae8c97",
   "metadata": {},
   "source": [
    "### 👉 Cheking Gender"
   ]
  },
  {
   "cell_type": "code",
   "execution_count": 12,
   "id": "a451e13a",
   "metadata": {
    "scrolled": false
   },
   "outputs": [
    {
     "data": {
      "text/plain": [
       "gender\n",
       "Female    56468\n",
       "Male      39189\n",
       "Other        18\n",
       "Name: count, dtype: int64"
      ]
     },
     "execution_count": 12,
     "metadata": {},
     "output_type": "execute_result"
    }
   ],
   "source": [
    "df[\"gender\"].value_counts()"
   ]
  },
  {
   "cell_type": "code",
   "execution_count": 13,
   "id": "25a5a611",
   "metadata": {},
   "outputs": [
    {
     "data": {
      "text/plain": [
       "array(['Female', 'Male', 'Other'], dtype=object)"
      ]
     },
     "execution_count": 13,
     "metadata": {},
     "output_type": "execute_result"
    }
   ],
   "source": [
    "df[\"gender\"].unique()"
   ]
  },
  {
   "cell_type": "markdown",
   "id": "9a91f6f5",
   "metadata": {},
   "source": [
    "### Let's replace \"other\" to \"female\"!"
   ]
  },
  {
   "cell_type": "code",
   "execution_count": 14,
   "id": "9e8072f2",
   "metadata": {},
   "outputs": [],
   "source": [
    "df['gender'].replace(['Other'], [\"Female\"], inplace=True)"
   ]
  },
  {
   "cell_type": "code",
   "execution_count": 15,
   "id": "2c09b149",
   "metadata": {},
   "outputs": [
    {
     "data": {
      "text/plain": [
       "gender\n",
       "Female    56486\n",
       "Male      39189\n",
       "Name: count, dtype: int64"
      ]
     },
     "execution_count": 15,
     "metadata": {},
     "output_type": "execute_result"
    }
   ],
   "source": [
    "df[\"gender\"].value_counts()"
   ]
  },
  {
   "cell_type": "markdown",
   "id": "26f874e0",
   "metadata": {},
   "source": [
    "### 👉 Cheking Hypertension"
   ]
  },
  {
   "cell_type": "code",
   "execution_count": 16,
   "id": "cef4c2bb",
   "metadata": {},
   "outputs": [
    {
     "data": {
      "text/plain": [
       "array([0, 1], dtype=int64)"
      ]
     },
     "execution_count": 16,
     "metadata": {},
     "output_type": "execute_result"
    }
   ],
   "source": [
    "df['hypertension'].unique()"
   ]
  },
  {
   "cell_type": "markdown",
   "id": "128d9bf3",
   "metadata": {},
   "source": [
    "### 👉 Cheking heart_disease"
   ]
  },
  {
   "cell_type": "code",
   "execution_count": 17,
   "id": "2a850815",
   "metadata": {},
   "outputs": [
    {
     "data": {
      "text/plain": [
       "array([1, 0], dtype=int64)"
      ]
     },
     "execution_count": 17,
     "metadata": {},
     "output_type": "execute_result"
    }
   ],
   "source": [
    "df['heart_disease'].unique()"
   ]
  },
  {
   "cell_type": "markdown",
   "id": "efe4b672",
   "metadata": {},
   "source": [
    "### 👉 Cheking Smoking_History"
   ]
  },
  {
   "cell_type": "code",
   "execution_count": 18,
   "id": "69219941",
   "metadata": {},
   "outputs": [
    {
     "data": {
      "text/plain": [
       "array(['never', 'No Info', 'current', 'former', 'ever', 'not current'],\n",
       "      dtype=object)"
      ]
     },
     "execution_count": 18,
     "metadata": {},
     "output_type": "execute_result"
    }
   ],
   "source": [
    "df[\"smoking_history\"].unique()"
   ]
  },
  {
   "cell_type": "code",
   "execution_count": 19,
   "id": "c895246e",
   "metadata": {},
   "outputs": [
    {
     "data": {
      "text/plain": [
       "smoking_history\n",
       "never          34682\n",
       "No Info        31964\n",
       "former          9352\n",
       "current         9272\n",
       "not current     6402\n",
       "ever            4003\n",
       "Name: count, dtype: int64"
      ]
     },
     "execution_count": 19,
     "metadata": {},
     "output_type": "execute_result"
    }
   ],
   "source": [
    "df[\"smoking_history\"].value_counts()"
   ]
  },
  {
   "cell_type": "markdown",
   "id": "83ac2e55",
   "metadata": {},
   "source": [
    "### Dropping the \"No info\" rows "
   ]
  },
  {
   "cell_type": "code",
   "execution_count": 20,
   "id": "04a8731b",
   "metadata": {},
   "outputs": [],
   "source": [
    "df.drop(df[(df[\"smoking_history\"]==\"No Info\")].index,inplace=True)"
   ]
  },
  {
   "cell_type": "code",
   "execution_count": 21,
   "id": "9d187d0c",
   "metadata": {},
   "outputs": [
    {
     "data": {
      "text/plain": [
       "smoking_history\n",
       "never          34682\n",
       "former          9352\n",
       "current         9272\n",
       "not current     6402\n",
       "ever            4003\n",
       "Name: count, dtype: int64"
      ]
     },
     "execution_count": 21,
     "metadata": {},
     "output_type": "execute_result"
    }
   ],
   "source": [
    "df[\"smoking_history\"].value_counts()"
   ]
  },
  {
   "cell_type": "markdown",
   "id": "a891d12d",
   "metadata": {},
   "source": [
    "### Merge \"ever\" with \"never\" and \"not current\" with \"former\""
   ]
  },
  {
   "cell_type": "code",
   "execution_count": 22,
   "id": "fb914982",
   "metadata": {},
   "outputs": [],
   "source": [
    "df[\"smoking_history\"] = df[\"smoking_history\"].replace({\"ever\":\"never\",\"not current\":\"former\"})"
   ]
  },
  {
   "cell_type": "code",
   "execution_count": 23,
   "id": "abeab9e9",
   "metadata": {
    "scrolled": true
   },
   "outputs": [
    {
     "data": {
      "text/plain": [
       "smoking_history\n",
       "never      38685\n",
       "former     15754\n",
       "current     9272\n",
       "Name: count, dtype: int64"
      ]
     },
     "execution_count": 23,
     "metadata": {},
     "output_type": "execute_result"
    }
   ],
   "source": [
    "df[\"smoking_history\"].value_counts()"
   ]
  },
  {
   "cell_type": "markdown",
   "id": "d5ce85b5",
   "metadata": {},
   "source": [
    "### 👉 Cheking BM! "
   ]
  },
  {
   "cell_type": "code",
   "execution_count": 24,
   "id": "8bcc493a",
   "metadata": {},
   "outputs": [
    {
     "data": {
      "text/plain": [
       "array([25.19, 27.32, 23.45, ..., 49.25, 59.42, 60.52])"
      ]
     },
     "execution_count": 24,
     "metadata": {},
     "output_type": "execute_result"
    }
   ],
   "source": [
    "df[\"bmi\"].unique()"
   ]
  },
  {
   "cell_type": "code",
   "execution_count": 25,
   "id": "02f076a5",
   "metadata": {},
   "outputs": [
    {
     "data": {
      "text/plain": [
       "bmi\n",
       "27.32    11964\n",
       "25.60       83\n",
       "25.00       82\n",
       "23.00       79\n",
       "24.60       77\n",
       "         ...  \n",
       "47.59        1\n",
       "41.54        1\n",
       "13.12        1\n",
       "15.15        1\n",
       "60.52        1\n",
       "Name: count, Length: 3927, dtype: int64"
      ]
     },
     "execution_count": 25,
     "metadata": {},
     "output_type": "execute_result"
    }
   ],
   "source": [
    "df[\"bmi\"].value_counts()"
   ]
  },
  {
   "cell_type": "markdown",
   "id": "5ca097d4",
   "metadata": {},
   "source": [
    "### 👉 Checking HbA1c_level"
   ]
  },
  {
   "cell_type": "code",
   "execution_count": 26,
   "id": "e0994662",
   "metadata": {},
   "outputs": [
    {
     "data": {
      "text/plain": [
       "HbA1c_level\n",
       "6.2    5393\n",
       "6.6    5390\n",
       "5.7    5340\n",
       "6.0    5289\n",
       "6.5    5259\n",
       "5.8    5245\n",
       "6.1    5124\n",
       "3.5    4794\n",
       "4.8    4707\n",
       "4.5    4686\n",
       "4.0    4641\n",
       "5.0    4633\n",
       "9.0     548\n",
       "8.8     546\n",
       "8.2     541\n",
       "7.5     534\n",
       "6.8     528\n",
       "7.0     513\n",
       "Name: count, dtype: int64"
      ]
     },
     "execution_count": 26,
     "metadata": {},
     "output_type": "execute_result"
    }
   ],
   "source": [
    "df[\"HbA1c_level\"].value_counts()"
   ]
  },
  {
   "cell_type": "markdown",
   "id": "207eeba5",
   "metadata": {},
   "source": [
    "### 👉 Checking Blood_glucose_level"
   ]
  },
  {
   "cell_type": "code",
   "execution_count": 27,
   "id": "66d05910",
   "metadata": {
    "scrolled": true
   },
   "outputs": [
    {
     "data": {
      "text/plain": [
       "blood_glucose_level\n",
       "140    4993\n",
       "160    4962\n",
       "130    4928\n",
       "159    4927\n",
       "155    4885\n",
       "145    4841\n",
       "126    4841\n",
       "200    4835\n",
       "158    4430\n",
       "80     4405\n",
       "100    4389\n",
       "90     4351\n",
       "85     4233\n",
       "280     599\n",
       "300     547\n",
       "260     526\n",
       "240     518\n",
       "220     501\n",
       "Name: count, dtype: int64"
      ]
     },
     "execution_count": 27,
     "metadata": {},
     "output_type": "execute_result"
    }
   ],
   "source": [
    "df[\"blood_glucose_level\"].value_counts()"
   ]
  },
  {
   "cell_type": "markdown",
   "id": "5fe43657",
   "metadata": {},
   "source": [
    "# STAGE 02"
   ]
  },
  {
   "cell_type": "code",
   "execution_count": 28,
   "id": "869727b7",
   "metadata": {},
   "outputs": [],
   "source": [
    "numerical_df = df.select_dtypes(include=[np.number])\n",
    "categorical_df = df.select_dtypes(include=['object'])"
   ]
  },
  {
   "cell_type": "code",
   "execution_count": 29,
   "id": "4389a6f7",
   "metadata": {},
   "outputs": [],
   "source": [
    "numerical_df = numerical_df.reset_index(drop=True) "
   ]
  },
  {
   "cell_type": "code",
   "execution_count": 30,
   "id": "0568355a",
   "metadata": {},
   "outputs": [
    {
     "data": {
      "text/html": [
       "<div>\n",
       "<style scoped>\n",
       "    .dataframe tbody tr th:only-of-type {\n",
       "        vertical-align: middle;\n",
       "    }\n",
       "\n",
       "    .dataframe tbody tr th {\n",
       "        vertical-align: top;\n",
       "    }\n",
       "\n",
       "    .dataframe thead th {\n",
       "        text-align: right;\n",
       "    }\n",
       "</style>\n",
       "<table border=\"1\" class=\"dataframe\">\n",
       "  <thead>\n",
       "    <tr style=\"text-align: right;\">\n",
       "      <th></th>\n",
       "      <th>age</th>\n",
       "      <th>hypertension</th>\n",
       "      <th>heart_disease</th>\n",
       "      <th>bmi</th>\n",
       "      <th>HbA1c_level</th>\n",
       "      <th>blood_glucose_level</th>\n",
       "      <th>diabetes</th>\n",
       "    </tr>\n",
       "  </thead>\n",
       "  <tbody>\n",
       "    <tr>\n",
       "      <th>0</th>\n",
       "      <td>80</td>\n",
       "      <td>0</td>\n",
       "      <td>1</td>\n",
       "      <td>25.19</td>\n",
       "      <td>6.6</td>\n",
       "      <td>140</td>\n",
       "      <td>0</td>\n",
       "    </tr>\n",
       "    <tr>\n",
       "      <th>1</th>\n",
       "      <td>28</td>\n",
       "      <td>0</td>\n",
       "      <td>0</td>\n",
       "      <td>27.32</td>\n",
       "      <td>5.7</td>\n",
       "      <td>158</td>\n",
       "      <td>0</td>\n",
       "    </tr>\n",
       "    <tr>\n",
       "      <th>2</th>\n",
       "      <td>36</td>\n",
       "      <td>0</td>\n",
       "      <td>0</td>\n",
       "      <td>23.45</td>\n",
       "      <td>5.0</td>\n",
       "      <td>155</td>\n",
       "      <td>0</td>\n",
       "    </tr>\n",
       "    <tr>\n",
       "      <th>3</th>\n",
       "      <td>76</td>\n",
       "      <td>1</td>\n",
       "      <td>1</td>\n",
       "      <td>20.14</td>\n",
       "      <td>4.8</td>\n",
       "      <td>155</td>\n",
       "      <td>0</td>\n",
       "    </tr>\n",
       "    <tr>\n",
       "      <th>4</th>\n",
       "      <td>20</td>\n",
       "      <td>0</td>\n",
       "      <td>0</td>\n",
       "      <td>27.32</td>\n",
       "      <td>6.6</td>\n",
       "      <td>85</td>\n",
       "      <td>0</td>\n",
       "    </tr>\n",
       "    <tr>\n",
       "      <th>...</th>\n",
       "      <td>...</td>\n",
       "      <td>...</td>\n",
       "      <td>...</td>\n",
       "      <td>...</td>\n",
       "      <td>...</td>\n",
       "      <td>...</td>\n",
       "      <td>...</td>\n",
       "    </tr>\n",
       "    <tr>\n",
       "      <th>63706</th>\n",
       "      <td>26</td>\n",
       "      <td>0</td>\n",
       "      <td>0</td>\n",
       "      <td>34.34</td>\n",
       "      <td>6.5</td>\n",
       "      <td>160</td>\n",
       "      <td>0</td>\n",
       "    </tr>\n",
       "    <tr>\n",
       "      <th>63707</th>\n",
       "      <td>40</td>\n",
       "      <td>0</td>\n",
       "      <td>0</td>\n",
       "      <td>40.69</td>\n",
       "      <td>3.5</td>\n",
       "      <td>155</td>\n",
       "      <td>0</td>\n",
       "    </tr>\n",
       "    <tr>\n",
       "      <th>63708</th>\n",
       "      <td>66</td>\n",
       "      <td>0</td>\n",
       "      <td>0</td>\n",
       "      <td>27.83</td>\n",
       "      <td>5.7</td>\n",
       "      <td>155</td>\n",
       "      <td>0</td>\n",
       "    </tr>\n",
       "    <tr>\n",
       "      <th>63709</th>\n",
       "      <td>24</td>\n",
       "      <td>0</td>\n",
       "      <td>0</td>\n",
       "      <td>35.42</td>\n",
       "      <td>4.0</td>\n",
       "      <td>100</td>\n",
       "      <td>0</td>\n",
       "    </tr>\n",
       "    <tr>\n",
       "      <th>63710</th>\n",
       "      <td>57</td>\n",
       "      <td>0</td>\n",
       "      <td>0</td>\n",
       "      <td>22.43</td>\n",
       "      <td>6.6</td>\n",
       "      <td>90</td>\n",
       "      <td>0</td>\n",
       "    </tr>\n",
       "  </tbody>\n",
       "</table>\n",
       "<p>63711 rows × 7 columns</p>\n",
       "</div>"
      ],
      "text/plain": [
       "       age  hypertension  heart_disease    bmi  HbA1c_level  \\\n",
       "0       80             0              1  25.19          6.6   \n",
       "1       28             0              0  27.32          5.7   \n",
       "2       36             0              0  23.45          5.0   \n",
       "3       76             1              1  20.14          4.8   \n",
       "4       20             0              0  27.32          6.6   \n",
       "...    ...           ...            ...    ...          ...   \n",
       "63706   26             0              0  34.34          6.5   \n",
       "63707   40             0              0  40.69          3.5   \n",
       "63708   66             0              0  27.83          5.7   \n",
       "63709   24             0              0  35.42          4.0   \n",
       "63710   57             0              0  22.43          6.6   \n",
       "\n",
       "       blood_glucose_level  diabetes  \n",
       "0                      140         0  \n",
       "1                      158         0  \n",
       "2                      155         0  \n",
       "3                      155         0  \n",
       "4                       85         0  \n",
       "...                    ...       ...  \n",
       "63706                  160         0  \n",
       "63707                  155         0  \n",
       "63708                  155         0  \n",
       "63709                  100         0  \n",
       "63710                   90         0  \n",
       "\n",
       "[63711 rows x 7 columns]"
      ]
     },
     "execution_count": 30,
     "metadata": {},
     "output_type": "execute_result"
    }
   ],
   "source": [
    "numerical_df"
   ]
  },
  {
   "cell_type": "code",
   "execution_count": 31,
   "id": "cac6a867",
   "metadata": {},
   "outputs": [
    {
     "data": {
      "image/png": "[encoded data removed]",
      "text/plain": [
       "<Figure size 640x480 with 9 Axes>"
      ]
     },
     "metadata": {},
     "output_type": "display_data"
    }
   ],
   "source": [
    "numerical_df.hist()\n",
    "plt.show()"
   ]
  },
  {
   "cell_type": "code",
   "execution_count": 32,
   "id": "3c7d5291",
   "metadata": {},
   "outputs": [
    {
     "data": {
      "text/plain": [
       "<seaborn.axisgrid.FacetGrid at 0x2333e1d6da0>"
      ]
     },
     "execution_count": 32,
     "metadata": {},
     "output_type": "execute_result"
    },
    {
     "data": {
      "image/png": "[encoded data removed]",
      "text/plain": [
       "<Figure size 500x500 with 1 Axes>"
      ]
     },
     "metadata": {},
     "output_type": "display_data"
    }
   ],
   "source": [
    "sns.displot(df.age)"
   ]
  },
  {
   "cell_type": "code",
   "execution_count": 33,
   "id": "3e793a5a",
   "metadata": {},
   "outputs": [
    {
     "data": {
      "text/plain": [
       "<seaborn.axisgrid.FacetGrid at 0x2333eb4ff10>"
      ]
     },
     "execution_count": 33,
     "metadata": {},
     "output_type": "execute_result"
    },
    {
     "data": {
      "image/png": "[encoded data removed]",
      "text/plain": [
       "<Figure size 500x500 with 1 Axes>"
      ]
     },
     "metadata": {},
     "output_type": "display_data"
    }
   ],
   "source": [
    "sns.displot(df.hypertension)"
   ]
  },
  {
   "cell_type": "code",
   "execution_count": 34,
   "id": "1e9e3e65",
   "metadata": {},
   "outputs": [
    {
     "data": {
      "text/plain": [
       "<seaborn.axisgrid.FacetGrid at 0x2333cdac610>"
      ]
     },
     "execution_count": 34,
     "metadata": {},
     "output_type": "execute_result"
    },
    {
     "data": {
      "image/png": "[encoded data removed]",
      "text/plain": [
       "<Figure size 500x500 with 1 Axes>"
      ]
     },
     "metadata": {},
     "output_type": "display_data"
    }
   ],
   "source": [
    "sns.displot(df.heart_disease)"
   ]
  },
  {
   "cell_type": "code",
   "execution_count": 35,
   "id": "88bf07ff",
   "metadata": {},
   "outputs": [
    {
     "data": {
      "text/plain": [
       "<seaborn.axisgrid.FacetGrid at 0x2333de08d00>"
      ]
     },
     "execution_count": 35,
     "metadata": {},
     "output_type": "execute_result"
    },
    {
     "data": {
      "image/png": "[encoded data removed]",
      "text/plain": [
       "<Figure size 500x500 with 1 Axes>"
      ]
     },
     "metadata": {},
     "output_type": "display_data"
    }
   ],
   "source": [
    "sns.displot(df.bmi)"
   ]
  },
  {
   "cell_type": "code",
   "execution_count": 36,
   "id": "1a53045b",
   "metadata": {},
   "outputs": [
    {
     "data": {
      "text/plain": [
       "<seaborn.axisgrid.FacetGrid at 0x2333e141480>"
      ]
     },
     "execution_count": 36,
     "metadata": {},
     "output_type": "execute_result"
    },
    {
     "data": {
      "image/png": "[encoded data removed]",
      "text/plain": [
       "<Figure size 500x500 with 1 Axes>"
      ]
     },
     "metadata": {},
     "output_type": "display_data"
    }
   ],
   "source": [
    "sns.displot(df.HbA1c_level)"
   ]
  },
  {
   "cell_type": "code",
   "execution_count": 37,
   "id": "99b5abcd",
   "metadata": {},
   "outputs": [
    {
     "data": {
      "text/plain": [
       "<seaborn.axisgrid.FacetGrid at 0x2333e2eb8e0>"
      ]
     },
     "execution_count": 37,
     "metadata": {},
     "output_type": "execute_result"
    },
    {
     "data": {
      "image/png": "[encoded data removed]",
      "text/plain": [
       "<Figure size 500x500 with 1 Axes>"
      ]
     },
     "metadata": {},
     "output_type": "display_data"
    }
   ],
   "source": [
    "sns.displot(df.blood_glucose_level)"
   ]
  },
  {
   "cell_type": "code",
   "execution_count": 38,
   "id": "f65f2e9f",
   "metadata": {},
   "outputs": [
    {
     "data": {
      "text/plain": [
       "<seaborn.axisgrid.FacetGrid at 0x2333eb917b0>"
      ]
     },
     "execution_count": 38,
     "metadata": {},
     "output_type": "execute_result"
    },
    {
     "data": {
      "image/png": "[encoded data removed]",
      "text/plain": [
       "<Figure size 500x500 with 1 Axes>"
      ]
     },
     "metadata": {},
     "output_type": "display_data"
    }
   ],
   "source": [
    "sns.displot(df.diabetes)"
   ]
  },
  {
   "cell_type": "markdown",
   "id": "2ca423ef",
   "metadata": {},
   "source": [
    "## To be able to get the correlation of our variable we are goint to plot the Hitmap"
   ]
  },
  {
   "cell_type": "markdown",
   "id": "ea1b1f01",
   "metadata": {},
   "source": [
    "### But firts we need to drop the \"hypertension\" and \"heart_disease\" columns"
   ]
  },
  {
   "cell_type": "code",
   "execution_count": 39,
   "id": "f3f79f4e",
   "metadata": {},
   "outputs": [],
   "source": [
    "#corr= numerical_df.iloc[:,3:6].corr()\n",
    "#corr"
   ]
  },
  {
   "cell_type": "code",
   "execution_count": 40,
   "id": "64c2ac7f",
   "metadata": {},
   "outputs": [],
   "source": [
    "corr= numerical_df.loc[:,['age','bmi', 'HbA1c_level',\"blood_glucose_level\"]] .corr()\n"
   ]
  },
  {
   "cell_type": "code",
   "execution_count": 41,
   "id": "38dadac6",
   "metadata": {},
   "outputs": [
    {
     "data": {
      "text/html": [
       "<div>\n",
       "<style scoped>\n",
       "    .dataframe tbody tr th:only-of-type {\n",
       "        vertical-align: middle;\n",
       "    }\n",
       "\n",
       "    .dataframe tbody tr th {\n",
       "        vertical-align: top;\n",
       "    }\n",
       "\n",
       "    .dataframe thead th {\n",
       "        text-align: right;\n",
       "    }\n",
       "</style>\n",
       "<table border=\"1\" class=\"dataframe\">\n",
       "  <thead>\n",
       "    <tr style=\"text-align: right;\">\n",
       "      <th></th>\n",
       "      <th>age</th>\n",
       "      <th>bmi</th>\n",
       "      <th>HbA1c_level</th>\n",
       "      <th>blood_glucose_level</th>\n",
       "    </tr>\n",
       "  </thead>\n",
       "  <tbody>\n",
       "    <tr>\n",
       "      <th>age</th>\n",
       "      <td>1.000000</td>\n",
       "      <td>0.141985</td>\n",
       "      <td>0.115796</td>\n",
       "      <td>0.117020</td>\n",
       "    </tr>\n",
       "    <tr>\n",
       "      <th>bmi</th>\n",
       "      <td>0.141985</td>\n",
       "      <td>1.000000</td>\n",
       "      <td>0.084350</td>\n",
       "      <td>0.094415</td>\n",
       "    </tr>\n",
       "    <tr>\n",
       "      <th>HbA1c_level</th>\n",
       "      <td>0.115796</td>\n",
       "      <td>0.084350</td>\n",
       "      <td>1.000000</td>\n",
       "      <td>0.195586</td>\n",
       "    </tr>\n",
       "    <tr>\n",
       "      <th>blood_glucose_level</th>\n",
       "      <td>0.117020</td>\n",
       "      <td>0.094415</td>\n",
       "      <td>0.195586</td>\n",
       "      <td>1.000000</td>\n",
       "    </tr>\n",
       "  </tbody>\n",
       "</table>\n",
       "</div>"
      ],
      "text/plain": [
       "                          age       bmi  HbA1c_level  blood_glucose_level\n",
       "age                  1.000000  0.141985     0.115796             0.117020\n",
       "bmi                  0.141985  1.000000     0.084350             0.094415\n",
       "HbA1c_level          0.115796  0.084350     1.000000             0.195586\n",
       "blood_glucose_level  0.117020  0.094415     0.195586             1.000000"
      ]
     },
     "execution_count": 41,
     "metadata": {},
     "output_type": "execute_result"
    }
   ],
   "source": [
    "corr"
   ]
  },
  {
   "cell_type": "code",
   "execution_count": 42,
   "id": "a27620df",
   "metadata": {},
   "outputs": [
    {
     "data": {
      "text/plain": [
       "<Axes: >"
      ]
     },
     "execution_count": 42,
     "metadata": {},
     "output_type": "execute_result"
    },
    {
     "data": {
      "image/png": "[encoded data removed]",
      "text/plain": [
       "<Figure size 640x480 with 2 Axes>"
      ]
     },
     "metadata": {},
     "output_type": "display_data"
    }
   ],
   "source": [
    "#fig=plt.figure(figsize=(8,5))\n",
    "#sns.heatmap(corr.corr(),annot=True)\n",
    "\n",
    "matrix = np.triu(corr)\n",
    "np.fill_diagonal(matrix,False)\n",
    "sns.heatmap(corr, annot=True, mask=matrix)"
   ]
  },
  {
   "cell_type": "markdown",
   "id": "fe73d929",
   "metadata": {},
   "source": [
    "### Conclusion:\n",
    "We dont need to drop variable because we dont find a hight correlation."
   ]
  },
  {
   "cell_type": "markdown",
   "id": "5f5ba5d5",
   "metadata": {},
   "source": [
    "# STAGE 3"
   ]
  },
  {
   "cell_type": "markdown",
   "id": "1e44c36d",
   "metadata": {},
   "source": [
    "# Transforming our categorical variables into numerical variables"
   ]
  },
  {
   "cell_type": "code",
   "execution_count": 43,
   "id": "36fa421b",
   "metadata": {},
   "outputs": [
    {
     "data": {
      "text/plain": [
       "Index(['gender', 'smoking_history'], dtype='object')"
      ]
     },
     "execution_count": 43,
     "metadata": {},
     "output_type": "execute_result"
    }
   ],
   "source": [
    "categorical_df.columns"
   ]
  },
  {
   "cell_type": "markdown",
   "id": "06db837a",
   "metadata": {},
   "source": [
    "### Our variables \"gender\" and \"smoking history\" are Nominal ( not Hierarque)\n",
    "\n",
    "We can use dummys to do the transformation."
   ]
  },
  {
   "cell_type": "code",
   "execution_count": 44,
   "id": "e0f0da97",
   "metadata": {},
   "outputs": [],
   "source": [
    "\n",
    "# Create dummy variables for the 'Color' and 'Size' columns\n",
    "dummy_nominals = ['gender', 'smoking_history']\n",
    "categorical_df = pd.get_dummies(categorical_df, columns=dummy_nominals, dtype=\"int64\")\n",
    "\n"
   ]
  },
  {
   "cell_type": "code",
   "execution_count": 45,
   "id": "74e7096e",
   "metadata": {},
   "outputs": [],
   "source": [
    "categorical_df = categorical_df.reset_index(drop=True) "
   ]
  },
  {
   "cell_type": "code",
   "execution_count": 46,
   "id": "bb713259",
   "metadata": {},
   "outputs": [
    {
     "data": {
      "text/html": [
       "<div>\n",
       "<style scoped>\n",
       "    .dataframe tbody tr th:only-of-type {\n",
       "        vertical-align: middle;\n",
       "    }\n",
       "\n",
       "    .dataframe tbody tr th {\n",
       "        vertical-align: top;\n",
       "    }\n",
       "\n",
       "    .dataframe thead th {\n",
       "        text-align: right;\n",
       "    }\n",
       "</style>\n",
       "<table border=\"1\" class=\"dataframe\">\n",
       "  <thead>\n",
       "    <tr style=\"text-align: right;\">\n",
       "      <th></th>\n",
       "      <th>gender_Female</th>\n",
       "      <th>gender_Male</th>\n",
       "      <th>smoking_history_current</th>\n",
       "      <th>smoking_history_former</th>\n",
       "      <th>smoking_history_never</th>\n",
       "    </tr>\n",
       "  </thead>\n",
       "  <tbody>\n",
       "    <tr>\n",
       "      <th>0</th>\n",
       "      <td>1</td>\n",
       "      <td>0</td>\n",
       "      <td>0</td>\n",
       "      <td>0</td>\n",
       "      <td>1</td>\n",
       "    </tr>\n",
       "    <tr>\n",
       "      <th>1</th>\n",
       "      <td>0</td>\n",
       "      <td>1</td>\n",
       "      <td>0</td>\n",
       "      <td>0</td>\n",
       "      <td>1</td>\n",
       "    </tr>\n",
       "    <tr>\n",
       "      <th>2</th>\n",
       "      <td>1</td>\n",
       "      <td>0</td>\n",
       "      <td>1</td>\n",
       "      <td>0</td>\n",
       "      <td>0</td>\n",
       "    </tr>\n",
       "    <tr>\n",
       "      <th>3</th>\n",
       "      <td>0</td>\n",
       "      <td>1</td>\n",
       "      <td>1</td>\n",
       "      <td>0</td>\n",
       "      <td>0</td>\n",
       "    </tr>\n",
       "    <tr>\n",
       "      <th>4</th>\n",
       "      <td>1</td>\n",
       "      <td>0</td>\n",
       "      <td>0</td>\n",
       "      <td>0</td>\n",
       "      <td>1</td>\n",
       "    </tr>\n",
       "    <tr>\n",
       "      <th>...</th>\n",
       "      <td>...</td>\n",
       "      <td>...</td>\n",
       "      <td>...</td>\n",
       "      <td>...</td>\n",
       "      <td>...</td>\n",
       "    </tr>\n",
       "    <tr>\n",
       "      <th>63706</th>\n",
       "      <td>1</td>\n",
       "      <td>0</td>\n",
       "      <td>0</td>\n",
       "      <td>0</td>\n",
       "      <td>1</td>\n",
       "    </tr>\n",
       "    <tr>\n",
       "      <th>63707</th>\n",
       "      <td>1</td>\n",
       "      <td>0</td>\n",
       "      <td>0</td>\n",
       "      <td>0</td>\n",
       "      <td>1</td>\n",
       "    </tr>\n",
       "    <tr>\n",
       "      <th>63708</th>\n",
       "      <td>0</td>\n",
       "      <td>1</td>\n",
       "      <td>0</td>\n",
       "      <td>1</td>\n",
       "      <td>0</td>\n",
       "    </tr>\n",
       "    <tr>\n",
       "      <th>63709</th>\n",
       "      <td>1</td>\n",
       "      <td>0</td>\n",
       "      <td>0</td>\n",
       "      <td>0</td>\n",
       "      <td>1</td>\n",
       "    </tr>\n",
       "    <tr>\n",
       "      <th>63710</th>\n",
       "      <td>1</td>\n",
       "      <td>0</td>\n",
       "      <td>1</td>\n",
       "      <td>0</td>\n",
       "      <td>0</td>\n",
       "    </tr>\n",
       "  </tbody>\n",
       "</table>\n",
       "<p>63711 rows × 5 columns</p>\n",
       "</div>"
      ],
      "text/plain": [
       "       gender_Female  gender_Male  smoking_history_current  \\\n",
       "0                  1            0                        0   \n",
       "1                  0            1                        0   \n",
       "2                  1            0                        1   \n",
       "3                  0            1                        1   \n",
       "4                  1            0                        0   \n",
       "...              ...          ...                      ...   \n",
       "63706              1            0                        0   \n",
       "63707              1            0                        0   \n",
       "63708              0            1                        0   \n",
       "63709              1            0                        0   \n",
       "63710              1            0                        1   \n",
       "\n",
       "       smoking_history_former  smoking_history_never  \n",
       "0                           0                      1  \n",
       "1                           0                      1  \n",
       "2                           0                      0  \n",
       "3                           0                      0  \n",
       "4                           0                      1  \n",
       "...                       ...                    ...  \n",
       "63706                       0                      1  \n",
       "63707                       0                      1  \n",
       "63708                       1                      0  \n",
       "63709                       0                      1  \n",
       "63710                       0                      0  \n",
       "\n",
       "[63711 rows x 5 columns]"
      ]
     },
     "execution_count": 46,
     "metadata": {},
     "output_type": "execute_result"
    }
   ],
   "source": [
    "categorical_df"
   ]
  },
  {
   "cell_type": "code",
   "execution_count": 47,
   "id": "1ea746e9",
   "metadata": {},
   "outputs": [
    {
     "data": {
      "text/plain": [
       "Index(['age', 'hypertension', 'heart_disease', 'bmi', 'HbA1c_level',\n",
       "       'blood_glucose_level', 'diabetes'],\n",
       "      dtype='object')"
      ]
     },
     "execution_count": 47,
     "metadata": {},
     "output_type": "execute_result"
    }
   ],
   "source": [
    "numerical_df = numerical_df.reset_index(drop=True) \n",
    "numerical_df.columns"
   ]
  },
  {
   "cell_type": "code",
   "execution_count": 48,
   "id": "e5b42920",
   "metadata": {},
   "outputs": [
    {
     "data": {
      "text/html": [
       "<div>\n",
       "<style scoped>\n",
       "    .dataframe tbody tr th:only-of-type {\n",
       "        vertical-align: middle;\n",
       "    }\n",
       "\n",
       "    .dataframe tbody tr th {\n",
       "        vertical-align: top;\n",
       "    }\n",
       "\n",
       "    .dataframe thead th {\n",
       "        text-align: right;\n",
       "    }\n",
       "</style>\n",
       "<table border=\"1\" class=\"dataframe\">\n",
       "  <thead>\n",
       "    <tr style=\"text-align: right;\">\n",
       "      <th></th>\n",
       "      <th>age</th>\n",
       "      <th>hypertension</th>\n",
       "      <th>heart_disease</th>\n",
       "      <th>bmi</th>\n",
       "      <th>HbA1c_level</th>\n",
       "      <th>blood_glucose_level</th>\n",
       "      <th>diabetes</th>\n",
       "    </tr>\n",
       "  </thead>\n",
       "  <tbody>\n",
       "    <tr>\n",
       "      <th>0</th>\n",
       "      <td>80</td>\n",
       "      <td>0</td>\n",
       "      <td>1</td>\n",
       "      <td>25.19</td>\n",
       "      <td>6.6</td>\n",
       "      <td>140</td>\n",
       "      <td>0</td>\n",
       "    </tr>\n",
       "    <tr>\n",
       "      <th>1</th>\n",
       "      <td>28</td>\n",
       "      <td>0</td>\n",
       "      <td>0</td>\n",
       "      <td>27.32</td>\n",
       "      <td>5.7</td>\n",
       "      <td>158</td>\n",
       "      <td>0</td>\n",
       "    </tr>\n",
       "    <tr>\n",
       "      <th>2</th>\n",
       "      <td>36</td>\n",
       "      <td>0</td>\n",
       "      <td>0</td>\n",
       "      <td>23.45</td>\n",
       "      <td>5.0</td>\n",
       "      <td>155</td>\n",
       "      <td>0</td>\n",
       "    </tr>\n",
       "    <tr>\n",
       "      <th>3</th>\n",
       "      <td>76</td>\n",
       "      <td>1</td>\n",
       "      <td>1</td>\n",
       "      <td>20.14</td>\n",
       "      <td>4.8</td>\n",
       "      <td>155</td>\n",
       "      <td>0</td>\n",
       "    </tr>\n",
       "    <tr>\n",
       "      <th>4</th>\n",
       "      <td>20</td>\n",
       "      <td>0</td>\n",
       "      <td>0</td>\n",
       "      <td>27.32</td>\n",
       "      <td>6.6</td>\n",
       "      <td>85</td>\n",
       "      <td>0</td>\n",
       "    </tr>\n",
       "    <tr>\n",
       "      <th>...</th>\n",
       "      <td>...</td>\n",
       "      <td>...</td>\n",
       "      <td>...</td>\n",
       "      <td>...</td>\n",
       "      <td>...</td>\n",
       "      <td>...</td>\n",
       "      <td>...</td>\n",
       "    </tr>\n",
       "    <tr>\n",
       "      <th>63706</th>\n",
       "      <td>26</td>\n",
       "      <td>0</td>\n",
       "      <td>0</td>\n",
       "      <td>34.34</td>\n",
       "      <td>6.5</td>\n",
       "      <td>160</td>\n",
       "      <td>0</td>\n",
       "    </tr>\n",
       "    <tr>\n",
       "      <th>63707</th>\n",
       "      <td>40</td>\n",
       "      <td>0</td>\n",
       "      <td>0</td>\n",
       "      <td>40.69</td>\n",
       "      <td>3.5</td>\n",
       "      <td>155</td>\n",
       "      <td>0</td>\n",
       "    </tr>\n",
       "    <tr>\n",
       "      <th>63708</th>\n",
       "      <td>66</td>\n",
       "      <td>0</td>\n",
       "      <td>0</td>\n",
       "      <td>27.83</td>\n",
       "      <td>5.7</td>\n",
       "      <td>155</td>\n",
       "      <td>0</td>\n",
       "    </tr>\n",
       "    <tr>\n",
       "      <th>63709</th>\n",
       "      <td>24</td>\n",
       "      <td>0</td>\n",
       "      <td>0</td>\n",
       "      <td>35.42</td>\n",
       "      <td>4.0</td>\n",
       "      <td>100</td>\n",
       "      <td>0</td>\n",
       "    </tr>\n",
       "    <tr>\n",
       "      <th>63710</th>\n",
       "      <td>57</td>\n",
       "      <td>0</td>\n",
       "      <td>0</td>\n",
       "      <td>22.43</td>\n",
       "      <td>6.6</td>\n",
       "      <td>90</td>\n",
       "      <td>0</td>\n",
       "    </tr>\n",
       "  </tbody>\n",
       "</table>\n",
       "<p>63711 rows × 7 columns</p>\n",
       "</div>"
      ],
      "text/plain": [
       "       age  hypertension  heart_disease    bmi  HbA1c_level  \\\n",
       "0       80             0              1  25.19          6.6   \n",
       "1       28             0              0  27.32          5.7   \n",
       "2       36             0              0  23.45          5.0   \n",
       "3       76             1              1  20.14          4.8   \n",
       "4       20             0              0  27.32          6.6   \n",
       "...    ...           ...            ...    ...          ...   \n",
       "63706   26             0              0  34.34          6.5   \n",
       "63707   40             0              0  40.69          3.5   \n",
       "63708   66             0              0  27.83          5.7   \n",
       "63709   24             0              0  35.42          4.0   \n",
       "63710   57             0              0  22.43          6.6   \n",
       "\n",
       "       blood_glucose_level  diabetes  \n",
       "0                      140         0  \n",
       "1                      158         0  \n",
       "2                      155         0  \n",
       "3                      155         0  \n",
       "4                       85         0  \n",
       "...                    ...       ...  \n",
       "63706                  160         0  \n",
       "63707                  155         0  \n",
       "63708                  155         0  \n",
       "63709                  100         0  \n",
       "63710                   90         0  \n",
       "\n",
       "[63711 rows x 7 columns]"
      ]
     },
     "execution_count": 48,
     "metadata": {},
     "output_type": "execute_result"
    }
   ],
   "source": [
    "numerical_df"
   ]
  },
  {
   "cell_type": "markdown",
   "id": "d8ae4944",
   "metadata": {},
   "source": [
    "## We concatenate our data"
   ]
  },
  {
   "cell_type": "code",
   "execution_count": 49,
   "id": "404f43a9",
   "metadata": {},
   "outputs": [],
   "source": [
    "df_transformed = pd.concat([numerical_df, categorical_df], axis=1)"
   ]
  },
  {
   "cell_type": "code",
   "execution_count": 50,
   "id": "c4315a65",
   "metadata": {},
   "outputs": [
    {
     "data": {
      "text/html": [
       "<div>\n",
       "<style scoped>\n",
       "    .dataframe tbody tr th:only-of-type {\n",
       "        vertical-align: middle;\n",
       "    }\n",
       "\n",
       "    .dataframe tbody tr th {\n",
       "        vertical-align: top;\n",
       "    }\n",
       "\n",
       "    .dataframe thead th {\n",
       "        text-align: right;\n",
       "    }\n",
       "</style>\n",
       "<table border=\"1\" class=\"dataframe\">\n",
       "  <thead>\n",
       "    <tr style=\"text-align: right;\">\n",
       "      <th></th>\n",
       "      <th>age</th>\n",
       "      <th>hypertension</th>\n",
       "      <th>heart_disease</th>\n",
       "      <th>bmi</th>\n",
       "      <th>HbA1c_level</th>\n",
       "      <th>blood_glucose_level</th>\n",
       "      <th>diabetes</th>\n",
       "      <th>gender_Female</th>\n",
       "      <th>gender_Male</th>\n",
       "      <th>smoking_history_current</th>\n",
       "      <th>smoking_history_former</th>\n",
       "      <th>smoking_history_never</th>\n",
       "    </tr>\n",
       "  </thead>\n",
       "  <tbody>\n",
       "    <tr>\n",
       "      <th>0</th>\n",
       "      <td>80</td>\n",
       "      <td>0</td>\n",
       "      <td>1</td>\n",
       "      <td>25.19</td>\n",
       "      <td>6.6</td>\n",
       "      <td>140</td>\n",
       "      <td>0</td>\n",
       "      <td>1</td>\n",
       "      <td>0</td>\n",
       "      <td>0</td>\n",
       "      <td>0</td>\n",
       "      <td>1</td>\n",
       "    </tr>\n",
       "    <tr>\n",
       "      <th>1</th>\n",
       "      <td>28</td>\n",
       "      <td>0</td>\n",
       "      <td>0</td>\n",
       "      <td>27.32</td>\n",
       "      <td>5.7</td>\n",
       "      <td>158</td>\n",
       "      <td>0</td>\n",
       "      <td>0</td>\n",
       "      <td>1</td>\n",
       "      <td>0</td>\n",
       "      <td>0</td>\n",
       "      <td>1</td>\n",
       "    </tr>\n",
       "    <tr>\n",
       "      <th>2</th>\n",
       "      <td>36</td>\n",
       "      <td>0</td>\n",
       "      <td>0</td>\n",
       "      <td>23.45</td>\n",
       "      <td>5.0</td>\n",
       "      <td>155</td>\n",
       "      <td>0</td>\n",
       "      <td>1</td>\n",
       "      <td>0</td>\n",
       "      <td>1</td>\n",
       "      <td>0</td>\n",
       "      <td>0</td>\n",
       "    </tr>\n",
       "    <tr>\n",
       "      <th>3</th>\n",
       "      <td>76</td>\n",
       "      <td>1</td>\n",
       "      <td>1</td>\n",
       "      <td>20.14</td>\n",
       "      <td>4.8</td>\n",
       "      <td>155</td>\n",
       "      <td>0</td>\n",
       "      <td>0</td>\n",
       "      <td>1</td>\n",
       "      <td>1</td>\n",
       "      <td>0</td>\n",
       "      <td>0</td>\n",
       "    </tr>\n",
       "    <tr>\n",
       "      <th>4</th>\n",
       "      <td>20</td>\n",
       "      <td>0</td>\n",
       "      <td>0</td>\n",
       "      <td>27.32</td>\n",
       "      <td>6.6</td>\n",
       "      <td>85</td>\n",
       "      <td>0</td>\n",
       "      <td>1</td>\n",
       "      <td>0</td>\n",
       "      <td>0</td>\n",
       "      <td>0</td>\n",
       "      <td>1</td>\n",
       "    </tr>\n",
       "    <tr>\n",
       "      <th>...</th>\n",
       "      <td>...</td>\n",
       "      <td>...</td>\n",
       "      <td>...</td>\n",
       "      <td>...</td>\n",
       "      <td>...</td>\n",
       "      <td>...</td>\n",
       "      <td>...</td>\n",
       "      <td>...</td>\n",
       "      <td>...</td>\n",
       "      <td>...</td>\n",
       "      <td>...</td>\n",
       "      <td>...</td>\n",
       "    </tr>\n",
       "    <tr>\n",
       "      <th>63706</th>\n",
       "      <td>26</td>\n",
       "      <td>0</td>\n",
       "      <td>0</td>\n",
       "      <td>34.34</td>\n",
       "      <td>6.5</td>\n",
       "      <td>160</td>\n",
       "      <td>0</td>\n",
       "      <td>1</td>\n",
       "      <td>0</td>\n",
       "      <td>0</td>\n",
       "      <td>0</td>\n",
       "      <td>1</td>\n",
       "    </tr>\n",
       "    <tr>\n",
       "      <th>63707</th>\n",
       "      <td>40</td>\n",
       "      <td>0</td>\n",
       "      <td>0</td>\n",
       "      <td>40.69</td>\n",
       "      <td>3.5</td>\n",
       "      <td>155</td>\n",
       "      <td>0</td>\n",
       "      <td>1</td>\n",
       "      <td>0</td>\n",
       "      <td>0</td>\n",
       "      <td>0</td>\n",
       "      <td>1</td>\n",
       "    </tr>\n",
       "    <tr>\n",
       "      <th>63708</th>\n",
       "      <td>66</td>\n",
       "      <td>0</td>\n",
       "      <td>0</td>\n",
       "      <td>27.83</td>\n",
       "      <td>5.7</td>\n",
       "      <td>155</td>\n",
       "      <td>0</td>\n",
       "      <td>0</td>\n",
       "      <td>1</td>\n",
       "      <td>0</td>\n",
       "      <td>1</td>\n",
       "      <td>0</td>\n",
       "    </tr>\n",
       "    <tr>\n",
       "      <th>63709</th>\n",
       "      <td>24</td>\n",
       "      <td>0</td>\n",
       "      <td>0</td>\n",
       "      <td>35.42</td>\n",
       "      <td>4.0</td>\n",
       "      <td>100</td>\n",
       "      <td>0</td>\n",
       "      <td>1</td>\n",
       "      <td>0</td>\n",
       "      <td>0</td>\n",
       "      <td>0</td>\n",
       "      <td>1</td>\n",
       "    </tr>\n",
       "    <tr>\n",
       "      <th>63710</th>\n",
       "      <td>57</td>\n",
       "      <td>0</td>\n",
       "      <td>0</td>\n",
       "      <td>22.43</td>\n",
       "      <td>6.6</td>\n",
       "      <td>90</td>\n",
       "      <td>0</td>\n",
       "      <td>1</td>\n",
       "      <td>0</td>\n",
       "      <td>1</td>\n",
       "      <td>0</td>\n",
       "      <td>0</td>\n",
       "    </tr>\n",
       "  </tbody>\n",
       "</table>\n",
       "<p>63711 rows × 12 columns</p>\n",
       "</div>"
      ],
      "text/plain": [
       "       age  hypertension  heart_disease    bmi  HbA1c_level  \\\n",
       "0       80             0              1  25.19          6.6   \n",
       "1       28             0              0  27.32          5.7   \n",
       "2       36             0              0  23.45          5.0   \n",
       "3       76             1              1  20.14          4.8   \n",
       "4       20             0              0  27.32          6.6   \n",
       "...    ...           ...            ...    ...          ...   \n",
       "63706   26             0              0  34.34          6.5   \n",
       "63707   40             0              0  40.69          3.5   \n",
       "63708   66             0              0  27.83          5.7   \n",
       "63709   24             0              0  35.42          4.0   \n",
       "63710   57             0              0  22.43          6.6   \n",
       "\n",
       "       blood_glucose_level  diabetes  gender_Female  gender_Male  \\\n",
       "0                      140         0              1            0   \n",
       "1                      158         0              0            1   \n",
       "2                      155         0              1            0   \n",
       "3                      155         0              0            1   \n",
       "4                       85         0              1            0   \n",
       "...                    ...       ...            ...          ...   \n",
       "63706                  160         0              1            0   \n",
       "63707                  155         0              1            0   \n",
       "63708                  155         0              0            1   \n",
       "63709                  100         0              1            0   \n",
       "63710                   90         0              1            0   \n",
       "\n",
       "       smoking_history_current  smoking_history_former  smoking_history_never  \n",
       "0                            0                       0                      1  \n",
       "1                            0                       0                      1  \n",
       "2                            1                       0                      0  \n",
       "3                            1                       0                      0  \n",
       "4                            0                       0                      1  \n",
       "...                        ...                     ...                    ...  \n",
       "63706                        0                       0                      1  \n",
       "63707                        0                       0                      1  \n",
       "63708                        0                       1                      0  \n",
       "63709                        0                       0                      1  \n",
       "63710                        1                       0                      0  \n",
       "\n",
       "[63711 rows x 12 columns]"
      ]
     },
     "execution_count": 50,
     "metadata": {},
     "output_type": "execute_result"
    }
   ],
   "source": [
    "df_transformed "
   ]
  },
  {
   "cell_type": "markdown",
   "id": "80ce8e55",
   "metadata": {},
   "source": [
    "## STAGE 05: Splitting the data into test and train"
   ]
  },
  {
   "cell_type": "code",
   "execution_count": 51,
   "id": "a297ad0c",
   "metadata": {},
   "outputs": [
    {
     "data": {
      "text/plain": [
       "Index(['age', 'hypertension', 'heart_disease', 'bmi', 'HbA1c_level',\n",
       "       'blood_glucose_level', 'diabetes', 'gender_Female', 'gender_Male',\n",
       "       'smoking_history_current', 'smoking_history_former',\n",
       "       'smoking_history_never'],\n",
       "      dtype='object')"
      ]
     },
     "execution_count": 51,
     "metadata": {},
     "output_type": "execute_result"
    }
   ],
   "source": [
    "df_transformed.columns"
   ]
  },
  {
   "cell_type": "code",
   "execution_count": 52,
   "id": "8a407e7a",
   "metadata": {},
   "outputs": [],
   "source": [
    "X=df_transformed[['age', 'hypertension', 'heart_disease', 'bmi', 'HbA1c_level',\n",
    "       'blood_glucose_level', 'gender_Female', 'gender_Male','smoking_history_current',\n",
    "       'smoking_history_former', 'smoking_history_never']]\n",
    "y=df_transformed['diabetes']"
   ]
  },
  {
   "cell_type": "code",
   "execution_count": 53,
   "id": "c03ec056",
   "metadata": {},
   "outputs": [],
   "source": [
    "from sklearn.model_selection import train_test_split"
   ]
  },
  {
   "cell_type": "code",
   "execution_count": 54,
   "id": "fead58ae",
   "metadata": {},
   "outputs": [],
   "source": [
    "X_train, X_test, y_train, y_test = train_test_split(X,y, test_size = 0.3, random_state = 42)"
   ]
  },
  {
   "cell_type": "markdown",
   "id": "edf3dadd",
   "metadata": {},
   "source": [
    "# ⏸️"
   ]
  },
  {
   "cell_type": "markdown",
   "id": "917a931b",
   "metadata": {},
   "source": [
    "## ⚠️ Let's check what happend with our linear regression before get a balance in our data"
   ]
  },
  {
   "cell_type": "markdown",
   "id": "f32a1ea3",
   "metadata": {},
   "source": [
    "1.Tranform our scales using min and max\n",
    "\n",
    "2.To apply the logisti regression\n",
    "\n",
    "3.Getting the predictions\n",
    "\n",
    "4.Cheking our currency\n",
    "\n",
    "5.Classification Report\n",
    "\n",
    "6.Confussion Matriz"
   ]
  },
  {
   "cell_type": "code",
   "execution_count": 107,
   "id": "a1ce8e9d",
   "metadata": {},
   "outputs": [
    {
     "name": "stdout",
     "output_type": "stream",
     "text": [
      "Model Accuracy: 95.00%\n"
     ]
    }
   ],
   "source": [
    "#1\n",
    "from sklearn.preprocessing import MinMaxScaler\n",
    "\n",
    "scaler = MinMaxScaler()\n",
    "scaler.fit(X_train)\n",
    "X_scaler_train= scaler.transform(X_train)\n",
    "\n",
    "X_scaler_test= scaler.transform(X_test)\n",
    "\n",
    "#2\n",
    "\n",
    "model_unbalenced = LogisticRegression()\n",
    "model_unbalenced.fit(X_scaler_train, y_train)\n",
    "\n",
    "#3\n",
    "\n",
    "y_predictive = model_unbalenced.predict(X_scaler_test)\n",
    "\n",
    "#4\n",
    "\n",
    "accuracy = accuracy_score(y_test, y_predictive)\n",
    "\n",
    "print(\"Model Accuracy: {:.2f}%\".format(accuracy * 100))"
   ]
  },
  {
   "cell_type": "code",
   "execution_count": 108,
   "id": "68786911",
   "metadata": {},
   "outputs": [
    {
     "name": "stdout",
     "output_type": "stream",
     "text": [
      "              precision    recall  f1-score   support\n",
      "\n",
      "           0       0.96      0.99      0.97     17035\n",
      "           1       0.87      0.64      0.74      2079\n",
      "\n",
      "    accuracy                           0.95     19114\n",
      "   macro avg       0.91      0.81      0.85     19114\n",
      "weighted avg       0.95      0.95      0.95     19114\n",
      "\n"
     ]
    }
   ],
   "source": [
    "# 5 Classification Report\n",
    "rep = classification_report(y_test,y_predictive)\n",
    "print(rep)"
   ]
  },
  {
   "cell_type": "code",
   "execution_count": 109,
   "id": "55f97ea1",
   "metadata": {},
   "outputs": [
    {
     "data": {
      "image/png": "[encoded data removed]",
      "text/plain": [
       "<Figure size 640x480 with 2 Axes>"
      ]
     },
     "metadata": {},
     "output_type": "display_data"
    }
   ],
   "source": [
    "# 6 Confussion Matrix\n",
    "\n",
    "cm = confusion_matrix(y_test, y_predictive, labels=model_unbalenced.classes_)\n",
    "color = 'white'\n",
    "disp = ConfusionMatrixDisplay(confusion_matrix=cm, display_labels=model_unbalenced.classes_)\n",
    "disp.plot()\n",
    "plt.show()"
   ]
  },
  {
   "cell_type": "markdown",
   "id": "617fd4b7",
   "metadata": {},
   "source": [
    "###  Receiver operating characteristic (ROC)"
   ]
  },
  {
   "cell_type": "code",
   "execution_count": 111,
   "id": "defa3755",
   "metadata": {},
   "outputs": [
    {
     "data": {
      "image/png": "[encoded data removed]",
      "text/plain": [
       "<Figure size 640x480 with 1 Axes>"
      ]
     },
     "metadata": {},
     "output_type": "display_data"
    }
   ],
   "source": [
    "\n",
    "probs01 = model_unbalenced.predict_proba(X_scaler_test)\n",
    "\n",
    "preds01 = probs01[:,1]\n",
    "\n",
    "\n",
    "fpr, tpr, threshold = metrics.roc_curve(y_test, preds01)\n",
    "roc_auc = metrics.auc(fpr, tpr)\n",
    "\n",
    "plt.title('Receiver Operating Characteristic')\n",
    "plt.plot(fpr, tpr, 'b', label = 'AUC = %0.2f' % roc_auc)\n",
    "plt.legend(loc = 'lower right')\n",
    "plt.plot([0, 1], [0, 1],'r--')\n",
    "plt.xlim([0, 1])\n",
    "plt.ylim([0, 1])\n",
    "plt.ylabel('True Positive Rate')\n",
    "plt.xlabel('False Positive Rate')\n",
    "plt.show()"
   ]
  },
  {
   "cell_type": "markdown",
   "id": "58ac1bd2",
   "metadata": {},
   "source": [
    "# ▶️"
   ]
  },
  {
   "cell_type": "markdown",
   "id": "12e7ad19",
   "metadata": {},
   "source": [
    "##  ✅ STAGE 06: Transforming the scale\n",
    "\n",
    "In this case we are going to use Min and Max transformed\n",
    "\n",
    "⚠️-NOTE:\n",
    "\n",
    "Using SMOTE to balance our data, that calculates new synthetic data points using k-neighbors, the data needs to be scaled before balancing, because knn works using distances and if our variables are on different scales it will impact the results.\n",
    "\n",
    "\n",
    "**In this case we are using Min and Max tranformer scaler (NORMALIZATION)**\n",
    "\n",
    "\n",
    "⚠️-NOTE:\n",
    "\n",
    "We JUST NEED TO apply normalization for our **independent Variables!!** \n",
    "\n",
    "In this case how we split our independen Variable \"X\" into X_train and X_test, we must scaled both variables!"
   ]
  },
  {
   "cell_type": "code",
   "execution_count": 55,
   "id": "f1fb4ebc",
   "metadata": {},
   "outputs": [],
   "source": [
    "from sklearn.preprocessing import MinMaxScaler\n",
    "\n",
    "scaler = MinMaxScaler()\n",
    "scaler.fit(X_train)\n",
    "X_scaler_train= scaler.transform(X_train)\n",
    "X_scaler_test= scaler.transform(X_test)"
   ]
  },
  {
   "cell_type": "markdown",
   "id": "e89f6b6a",
   "metadata": {},
   "source": [
    "### Other way tranforming our data using Scaler"
   ]
  },
  {
   "cell_type": "code",
   "execution_count": null,
   "id": "9d487d76",
   "metadata": {},
   "outputs": [],
   "source": [
    "#from sklearn.preprocessing import StandardScaler\n",
    "#scaler = StandardScaler()\n",
    "#scaler.fit(X)\n",
    "#X_scaled = scaler.transform(X)\n",
    "#df_scaled = pd.DataFrame(X_scaled, columns=X.columns)\n",
    "#print(df_scaled.head)\n",
    "#df_scaled.hist()\n",
    "#plt.show()"
   ]
  },
  {
   "cell_type": "markdown",
   "id": "6c774a52",
   "metadata": {},
   "source": [
    "## ✅ STAGE 06: Handle Imbalanced data\n",
    "\n",
    "\n",
    "**Our new scaled Variables👀**\n",
    "\n",
    "X_scaler_train\n",
    "\n",
    "X_scaler_test\n",
    "\n",
    "**Variables used for balenced data**\n",
    "\n",
    "X_scaler_train\n",
    "\n",
    "y_train"
   ]
  },
  {
   "cell_type": "markdown",
   "id": "d1d11218",
   "metadata": {},
   "source": [
    "### 👉 Method N.01: Undersampling"
   ]
  },
  {
   "cell_type": "markdown",
   "id": "e21b4fb1",
   "metadata": {},
   "source": [
    "Near Miss version 3 "
   ]
  },
  {
   "cell_type": "code",
   "execution_count": 112,
   "id": "2f8ad0ee",
   "metadata": {},
   "outputs": [],
   "source": [
    "import pandas as pd\n",
    "from imblearn.under_sampling import NearMiss"
   ]
  },
  {
   "cell_type": "code",
   "execution_count": 116,
   "id": "0d5f2e01",
   "metadata": {
    "scrolled": true
   },
   "outputs": [],
   "source": [
    "undersampling = NearMiss(version=3, n_neighbors_ver3=3)\n",
    "\n",
    "#X_resampled, y_resampled_train = undersampling.fit_resample(X_train, y_train)\n",
    "\n",
    "X_undersampling_train, y_undersampling_train = undersampling.fit_resample(X_scaler_train, y_train)\n"
   ]
  },
  {
   "cell_type": "code",
   "execution_count": 117,
   "id": "dbc47e7b",
   "metadata": {},
   "outputs": [
    {
     "data": {
      "text/plain": [
       "LogisticRegression()"
      ]
     },
     "execution_count": 117,
     "metadata": {},
     "output_type": "execute_result"
    }
   ],
   "source": [
    "model_undersampling = LogisticRegression()\n",
    "model_undersampling .fit(X_undersampling_train,y_undersampling_train)"
   ]
  },
  {
   "cell_type": "code",
   "execution_count": 118,
   "id": "9a4e6917",
   "metadata": {},
   "outputs": [
    {
     "name": "stdout",
     "output_type": "stream",
     "text": [
      "Model Accuracy: 94.53%\n"
     ]
    }
   ],
   "source": [
    "#3\n",
    "\n",
    "y_predictive_using_undersampling = model_undersampling.predict(X_scaler_test)\n",
    "\n",
    "#4\n",
    "\n",
    "accuracy = accuracy_score(y_test, y_predictive_using_undersampling)\n",
    "\n",
    "print(\"Model Accuracy: {:.2f}%\".format(accuracy * 100))"
   ]
  },
  {
   "cell_type": "code",
   "execution_count": 119,
   "id": "e77a4440",
   "metadata": {},
   "outputs": [
    {
     "name": "stdout",
     "output_type": "stream",
     "text": [
      "              precision    recall  f1-score   support\n",
      "\n",
      "           0       0.96      0.98      0.97     17035\n",
      "           1       0.79      0.68      0.73      2079\n",
      "\n",
      "    accuracy                           0.95     19114\n",
      "   macro avg       0.87      0.83      0.85     19114\n",
      "weighted avg       0.94      0.95      0.94     19114\n",
      "\n"
     ]
    }
   ],
   "source": [
    "rep = classification_report(y_test,y_predictive_using_undersampling)\n",
    "print(rep)"
   ]
  },
  {
   "cell_type": "code",
   "execution_count": 120,
   "id": "094c6bab",
   "metadata": {},
   "outputs": [
    {
     "data": {
      "image/png": "[encoded data removed]",
      "text/plain": [
       "<Figure size 640x480 with 2 Axes>"
      ]
     },
     "metadata": {},
     "output_type": "display_data"
    }
   ],
   "source": [
    "cm = confusion_matrix(y_test, y_predictive_using_undersampling, labels=model_undersampling .classes_)\n",
    "color = 'white'\n",
    "disp = ConfusionMatrixDisplay(confusion_matrix=cm, display_labels=model_undersampling .classes_)\n",
    "disp.plot()\n",
    "plt.show()"
   ]
  },
  {
   "cell_type": "markdown",
   "id": "3e750a49",
   "metadata": {},
   "source": [
    "###  Receiver operating characteristic (ROC)"
   ]
  },
  {
   "cell_type": "code",
   "execution_count": 121,
   "id": "c7ae6089",
   "metadata": {},
   "outputs": [
    {
     "data": {
      "image/png": "[encoded data removed]",
      "text/plain": [
       "<Figure size 640x480 with 1 Axes>"
      ]
     },
     "metadata": {},
     "output_type": "display_data"
    }
   ],
   "source": [
    "probs02 = model_undersampling.predict_proba(X_scaler_test)\n",
    "\n",
    "preds02 = probs02[:,1]\n",
    "\n",
    "\n",
    "fpr, tpr, threshold = metrics.roc_curve(y_test, preds02)\n",
    "roc_auc = metrics.auc(fpr, tpr)\n",
    "\n",
    "plt.title('Receiver Operating Characteristic')\n",
    "plt.plot(fpr, tpr, 'b', label = 'AUC = %0.2f' % roc_auc)\n",
    "plt.legend(loc = 'lower right')\n",
    "plt.plot([0, 1], [0, 1],'r--')\n",
    "plt.xlim([0, 1])\n",
    "plt.ylim([0, 1])\n",
    "plt.ylabel('True Positive Rate')\n",
    "plt.xlabel('False Positive Rate')\n",
    "plt.show()"
   ]
  },
  {
   "cell_type": "markdown",
   "id": "a234659e",
   "metadata": {},
   "source": [
    "### 👉 Method N.02: Class Weight"
   ]
  },
  {
   "cell_type": "code",
   "execution_count": 122,
   "id": "30048a9a",
   "metadata": {},
   "outputs": [
    {
     "data": {
      "text/plain": [
       "LogisticRegression(class_weight={0: 1, 1: 5})"
      ]
     },
     "execution_count": 122,
     "metadata": {},
     "output_type": "execute_result"
    }
   ],
   "source": [
    "from sklearn.linear_model import LogisticRegression\n",
    "\n",
    "# Define the class weights\n",
    "class_weights = {\n",
    "    0: 1,  # weight for class 0 (majority class)\n",
    "    1: 5   # weight for class 1 (minority class)\n",
    "}\n",
    "\n",
    "# Create the logistic regression model with class weights\n",
    "model_class_weight = LogisticRegression(class_weight=class_weights)\n",
    "\n",
    "# Fit the model to the training data\n",
    "model_class_weight.fit(X_scaler_train, y_train)\n"
   ]
  },
  {
   "cell_type": "code",
   "execution_count": 123,
   "id": "941c6be5",
   "metadata": {},
   "outputs": [
    {
     "name": "stdout",
     "output_type": "stream",
     "text": [
      "Model Accuracy: 90.92%\n"
     ]
    }
   ],
   "source": [
    "y_predictive_weight_class = model_class_weight.predict(X_scaler_test)\n",
    "\n",
    "accuracy = accuracy_score(y_test, y_predictive_weight_class )\n",
    "\n",
    "print(\"Model Accuracy: {:.2f}%\".format(accuracy * 100))"
   ]
  },
  {
   "cell_type": "code",
   "execution_count": 124,
   "id": "2fc7b935",
   "metadata": {},
   "outputs": [
    {
     "name": "stdout",
     "output_type": "stream",
     "text": [
      "              precision    recall  f1-score   support\n",
      "\n",
      "           0       0.97      0.92      0.95     17035\n",
      "           1       0.56      0.80      0.66      2079\n",
      "\n",
      "    accuracy                           0.91     19114\n",
      "   macro avg       0.77      0.86      0.80     19114\n",
      "weighted avg       0.93      0.91      0.92     19114\n",
      "\n"
     ]
    }
   ],
   "source": [
    "rep = classification_report(y_test,y_predictive_weight_class)\n",
    "print(rep)"
   ]
  },
  {
   "cell_type": "code",
   "execution_count": 127,
   "id": "de1a1a2e",
   "metadata": {},
   "outputs": [
    {
     "data": {
      "image/png": "[encoded data removed]",
      "text/plain": [
       "<Figure size 640x480 with 2 Axes>"
      ]
     },
     "metadata": {},
     "output_type": "display_data"
    }
   ],
   "source": [
    "cm = confusion_matrix(y_test, y_predictive_weight_class, labels=model_class_weight.classes_)\n",
    "color = 'white'\n",
    "disp = ConfusionMatrixDisplay(confusion_matrix=cm, display_labels=model_class_weight.classes_)\n",
    "disp.plot()\n",
    "plt.show()"
   ]
  },
  {
   "cell_type": "markdown",
   "id": "43e11b0f",
   "metadata": {},
   "source": [
    "###  Receiver operating characteristic (ROC)"
   ]
  },
  {
   "cell_type": "code",
   "execution_count": 135,
   "id": "1c235f07",
   "metadata": {},
   "outputs": [
    {
     "data": {
      "image/png": "[encoded data removed]",
      "text/plain": [
       "<Figure size 640x480 with 1 Axes>"
      ]
     },
     "metadata": {},
     "output_type": "display_data"
    }
   ],
   "source": [
    "probs03 = model_class_weight.predict_proba(X_scaler_test)\n",
    "\n",
    "preds03 = probs03[:,1]\n",
    "\n",
    "\n",
    "fpr, tpr, threshold = metrics.roc_curve(y_test, preds03)\n",
    "roc_auc = metrics.auc(fpr, tpr)\n",
    "\n",
    "plt.title('Receiver Operating Characteristic')\n",
    "plt.plot(fpr, tpr, 'b', label = 'AUC = %0.2f' % roc_auc)\n",
    "plt.legend(loc = 'lower right')\n",
    "plt.plot([0, 1], [0, 1],'r--')\n",
    "plt.xlim([0, 1])\n",
    "plt.ylim([0, 1])\n",
    "plt.ylabel('True Positive Rate')\n",
    "plt.xlabel('False Positive Rate')\n",
    "plt.show()"
   ]
  },
  {
   "cell_type": "markdown",
   "id": "140fda1b",
   "metadata": {},
   "source": [
    "### 👉 Method N.03: Synthetic Minority Over-sampling Technique (SMOTE)"
   ]
  },
  {
   "cell_type": "code",
   "execution_count": 57,
   "id": "0d6123b9",
   "metadata": {},
   "outputs": [],
   "source": [
    "from imblearn.over_sampling import SMOTE\n",
    "\n",
    "# Create the SMOTE oversampling object\n",
    "smote = SMOTE(random_state=42)\n",
    "\n",
    "# Apply SMOTE to the training data\n",
    "X_smote_train, y_smote_train = smote.fit_resample(X_scaler_train, y_train)\n"
   ]
  },
  {
   "cell_type": "markdown",
   "id": "9b84093f",
   "metadata": {},
   "source": [
    "### Let's check the performance of our model using SMOTE to balance our data"
   ]
  },
  {
   "cell_type": "code",
   "execution_count": 58,
   "id": "5be67340",
   "metadata": {},
   "outputs": [
    {
     "data": {
      "text/html": [
       "<style>#sk-container-id-1 {color: black;background-color: white;}#sk-container-id-1 pre{padding: 0;}#sk-container-id-1 div.sk-toggleable {background-color: white;}#sk-container-id-1 label.sk-toggleable__label {cursor: pointer;display: block;width: 100%;margin-bottom: 0;padding: 0.3em;box-sizing: border-box;text-align: center;}#sk-container-id-1 label.sk-toggleable__label-arrow:before {content: \"▸\";float: left;margin-right: 0.25em;color: #696969;}#sk-container-id-1 label.sk-toggleable__label-arrow:hover:before {color: black;}#sk-container-id-1 div.sk-estimator:hover label.sk-toggleable__label-arrow:before {color: black;}#sk-container-id-1 div.sk-toggleable__content {max-height: 0;max-width: 0;overflow: hidden;text-align: left;background-color: #f0f8ff;}#sk-container-id-1 div.sk-toggleable__content pre {margin: 0.2em;color: black;border-radius: 0.25em;background-color: #f0f8ff;}#sk-container-id-1 input.sk-toggleable__control:checked~div.sk-toggleable__content {max-height: 200px;max-width: 100%;overflow: auto;}#sk-container-id-1 input.sk-toggleable__control:checked~label.sk-toggleable__label-arrow:before {content: \"▾\";}#sk-container-id-1 div.sk-estimator input.sk-toggleable__control:checked~label.sk-toggleable__label {background-color: #d4ebff;}#sk-container-id-1 div.sk-label input.sk-toggleable__control:checked~label.sk-toggleable__label {background-color: #d4ebff;}#sk-container-id-1 input.sk-hidden--visually {border: 0;clip: rect(1px 1px 1px 1px);clip: rect(1px, 1px, 1px, 1px);height: 1px;margin: -1px;overflow: hidden;padding: 0;position: absolute;width: 1px;}#sk-container-id-1 div.sk-estimator {font-family: monospace;background-color: #f0f8ff;border: 1px dotted black;border-radius: 0.25em;box-sizing: border-box;margin-bottom: 0.5em;}#sk-container-id-1 div.sk-estimator:hover {background-color: #d4ebff;}#sk-container-id-1 div.sk-parallel-item::after {content: \"\";width: 100%;border-bottom: 1px solid gray;flex-grow: 1;}#sk-container-id-1 div.sk-label:hover label.sk-toggleable__label {background-color: #d4ebff;}#sk-container-id-1 div.sk-serial::before {content: \"\";position: absolute;border-left: 1px solid gray;box-sizing: border-box;top: 0;bottom: 0;left: 50%;z-index: 0;}#sk-container-id-1 div.sk-serial {display: flex;flex-direction: column;align-items: center;background-color: white;padding-right: 0.2em;padding-left: 0.2em;position: relative;}#sk-container-id-1 div.sk-item {position: relative;z-index: 1;}#sk-container-id-1 div.sk-parallel {display: flex;align-items: stretch;justify-content: center;background-color: white;position: relative;}#sk-container-id-1 div.sk-item::before, #sk-container-id-1 div.sk-parallel-item::before {content: \"\";position: absolute;border-left: 1px solid gray;box-sizing: border-box;top: 0;bottom: 0;left: 50%;z-index: -1;}#sk-container-id-1 div.sk-parallel-item {display: flex;flex-direction: column;z-index: 1;position: relative;background-color: white;}#sk-container-id-1 div.sk-parallel-item:first-child::after {align-self: flex-end;width: 50%;}#sk-container-id-1 div.sk-parallel-item:last-child::after {align-self: flex-start;width: 50%;}#sk-container-id-1 div.sk-parallel-item:only-child::after {width: 0;}#sk-container-id-1 div.sk-dashed-wrapped {border: 1px dashed gray;margin: 0 0.4em 0.5em 0.4em;box-sizing: border-box;padding-bottom: 0.4em;background-color: white;}#sk-container-id-1 div.sk-label label {font-family: monospace;font-weight: bold;display: inline-block;line-height: 1.2em;}#sk-container-id-1 div.sk-label-container {text-align: center;}#sk-container-id-1 div.sk-container {/* jupyter's `normalize.less` sets `[hidden] { display: none; }` but bootstrap.min.css set `[hidden] { display: none !important; }` so we also need the `!important` here to be able to override the default hidden behavior on the sphinx rendered scikit-learn.org. See: https://github.com/scikit-learn/scikit-learn/issues/21755 */display: inline-block !important;position: relative;}#sk-container-id-1 div.sk-text-repr-fallback {display: none;}</style><div id=\"sk-container-id-1\" class=\"sk-top-container\"><div class=\"sk-text-repr-fallback\"><pre>LogisticRegression()</pre><b>In a Jupyter environment, please rerun this cell to show the HTML representation or trust the notebook. <br />On GitHub, the HTML representation is unable to render, please try loading this page with nbviewer.org.</b></div><div class=\"sk-container\" hidden><div class=\"sk-item\"><div class=\"sk-estimator sk-toggleable\"><input class=\"sk-toggleable__control sk-hidden--visually\" id=\"sk-estimator-id-1\" type=\"checkbox\" checked><label for=\"sk-estimator-id-1\" class=\"sk-toggleable__label sk-toggleable__label-arrow\">LogisticRegression</label><div class=\"sk-toggleable__content\"><pre>LogisticRegression()</pre></div></div></div></div></div>"
      ],
      "text/plain": [
       "LogisticRegression()"
      ]
     },
     "execution_count": 58,
     "metadata": {},
     "output_type": "execute_result"
    }
   ],
   "source": [
    "#2\n",
    "\n",
    "model_smote = LogisticRegression()\n",
    "model_smote.fit(X_smote_train, y_smote_train)\n"
   ]
  },
  {
   "cell_type": "code",
   "execution_count": 59,
   "id": "fc548971",
   "metadata": {},
   "outputs": [],
   "source": [
    "#3\n",
    "\n",
    "y_predictive_using_smote = model_smote.predict(X_scaler_test)\n",
    "\n"
   ]
  },
  {
   "cell_type": "code",
   "execution_count": 60,
   "id": "d8beb00a",
   "metadata": {},
   "outputs": [
    {
     "name": "stdout",
     "output_type": "stream",
     "text": [
      "Model Accuracy: 88.27%\n"
     ]
    }
   ],
   "source": [
    "#4\n",
    "\n",
    "accuracy = accuracy_score(y_test, y_predictive_using_smote)\n",
    "\n",
    "print(\"Model Accuracy: {:.2f}%\".format(accuracy * 100))"
   ]
  },
  {
   "cell_type": "code",
   "execution_count": 61,
   "id": "7142999f",
   "metadata": {},
   "outputs": [
    {
     "data": {
      "text/plain": [
       "39833    0\n",
       "21475    0\n",
       "12024    0\n",
       "29818    0\n",
       "59762    1\n",
       "        ..\n",
       "33753    0\n",
       "7301     0\n",
       "45757    0\n",
       "9224     0\n",
       "6341     1\n",
       "Name: diabetes, Length: 19114, dtype: int64"
      ]
     },
     "execution_count": 61,
     "metadata": {},
     "output_type": "execute_result"
    }
   ],
   "source": [
    "y_test"
   ]
  },
  {
   "cell_type": "code",
   "execution_count": 62,
   "id": "473990a0",
   "metadata": {},
   "outputs": [
    {
     "data": {
      "text/plain": [
       "array([0, 0, 0, ..., 0, 0, 1], dtype=int64)"
      ]
     },
     "execution_count": 62,
     "metadata": {},
     "output_type": "execute_result"
    }
   ],
   "source": [
    "y_predictive_using_smote"
   ]
  },
  {
   "cell_type": "code",
   "execution_count": 63,
   "id": "3b16c063",
   "metadata": {},
   "outputs": [],
   "source": [
    "residuals= pd.DataFrame({\"y-pred\":y_predictive_using_smote,\"y-test\":y_test})\n"
   ]
  },
  {
   "cell_type": "code",
   "execution_count": 64,
   "id": "fafefc25",
   "metadata": {},
   "outputs": [],
   "source": [
    "residuals.reset_index(drop=True,inplace=True)"
   ]
  },
  {
   "cell_type": "code",
   "execution_count": 65,
   "id": "94ba846b",
   "metadata": {},
   "outputs": [],
   "source": [
    "residuals.to_csv(\"confusion_matrix.csv\",index=False)"
   ]
  },
  {
   "cell_type": "code",
   "execution_count": 66,
   "id": "c5b6b666",
   "metadata": {},
   "outputs": [
    {
     "name": "stdout",
     "output_type": "stream",
     "text": [
      "              precision    recall  f1-score   support\n",
      "\n",
      "           0       0.98      0.89      0.93     17035\n",
      "           1       0.48      0.85      0.61      2079\n",
      "\n",
      "    accuracy                           0.88     19114\n",
      "   macro avg       0.73      0.87      0.77     19114\n",
      "weighted avg       0.92      0.88      0.90     19114\n",
      "\n"
     ]
    }
   ],
   "source": [
    "rep = classification_report(y_test,y_predictive_using_smote)\n",
    "print(rep)"
   ]
  },
  {
   "cell_type": "code",
   "execution_count": 67,
   "id": "6cbb9245",
   "metadata": {},
   "outputs": [
    {
     "data": {
      "image/png": "[encoded data removed]",
      "text/plain": [
       "<Figure size 640x480 with 2 Axes>"
      ]
     },
     "metadata": {},
     "output_type": "display_data"
    }
   ],
   "source": [
    "cm = confusion_matrix(y_test, y_predictive_using_smote, labels=model_smote.classes_)\n",
    "color = 'white'\n",
    "disp = ConfusionMatrixDisplay(confusion_matrix=cm, display_labels=model_smote.classes_)\n",
    "disp.plot()\n",
    "plt.show()"
   ]
  },
  {
   "cell_type": "markdown",
   "id": "7e851e06",
   "metadata": {},
   "source": [
    "###  Receiver operating characteristic (ROC)"
   ]
  },
  {
   "cell_type": "code",
   "execution_count": 68,
   "id": "1e8ac3cf",
   "metadata": {},
   "outputs": [
    {
     "data": {
      "image/png": "[encoded data removed]",
      "text/plain": [
       "<Figure size 640x480 with 1 Axes>"
      ]
     },
     "metadata": {},
     "output_type": "display_data"
    }
   ],
   "source": [
    "probs03 = model_smote.predict_proba(X_scaler_test)\n",
    "\n",
    "preds03 = probs03[:,1]\n",
    "\n",
    "\n",
    "fpr, tpr, threshold = metrics.roc_curve(y_test, preds03)\n",
    "roc_auc = metrics.auc(fpr, tpr)\n",
    "\n",
    "plt.title('Receiver Operating Characteristic')\n",
    "plt.plot(fpr, tpr, 'b', label = 'AUC = %0.2f' % roc_auc)\n",
    "plt.legend(loc = 'lower right')\n",
    "plt.plot([0, 1], [0, 1],'r--')\n",
    "plt.xlim([0, 1])\n",
    "plt.ylim([0, 1])\n",
    "plt.ylabel('True Positive Rate')\n",
    "plt.xlabel('False Positive Rate')\n",
    "plt.show()"
   ]
  },
  {
   "cell_type": "code",
   "execution_count": 69,
   "id": "ec313054",
   "metadata": {},
   "outputs": [],
   "source": [
    "coefficients = model_smote.coef_"
   ]
  },
  {
   "cell_type": "code",
   "execution_count": 70,
   "id": "119b4e1b",
   "metadata": {},
   "outputs": [
    {
     "data": {
      "text/plain": [
       "array([[ 3.81859408,  0.82206972,  0.65772374,  8.39239292, 12.07468905,\n",
       "         6.97586165, -0.17722179,  0.178376  ,  0.07296896, -0.02505415,\n",
       "        -0.0467606 ]])"
      ]
     },
     "execution_count": 70,
     "metadata": {},
     "output_type": "execute_result"
    }
   ],
   "source": [
    "coefficients"
   ]
  },
  {
   "cell_type": "code",
   "execution_count": 71,
   "id": "2d51c637",
   "metadata": {},
   "outputs": [],
   "source": [
    "a={\"independent variables\" : ['age', 'hypertension', 'heart_disease', 'bmi', 'HbA1c_level',\n",
    "       'blood_glucose_level', 'gender_Female', 'gender_Male','smoking_history_current',\n",
    "       'smoking_history_former', 'smoking_history_never'],\n",
    "   'coefficients':[3.81859411,  0.82206973,  0.65772377,  8.39239272, 12.07468894,\n",
    "         6.97586151, -0.17722187,  0.17837591,  0.07296889, -0.02505421,\n",
    "        -0.04676064]}"
   ]
  },
  {
   "cell_type": "code",
   "execution_count": 72,
   "id": "f7caedca",
   "metadata": {},
   "outputs": [],
   "source": [
    "coefficients_analysis = pd.DataFrame(a)"
   ]
  },
  {
   "cell_type": "code",
   "execution_count": 73,
   "id": "37489191",
   "metadata": {},
   "outputs": [
    {
     "data": {
      "text/html": [
       "<div>\n",
       "<style scoped>\n",
       "    .dataframe tbody tr th:only-of-type {\n",
       "        vertical-align: middle;\n",
       "    }\n",
       "\n",
       "    .dataframe tbody tr th {\n",
       "        vertical-align: top;\n",
       "    }\n",
       "\n",
       "    .dataframe thead th {\n",
       "        text-align: right;\n",
       "    }\n",
       "</style>\n",
       "<table border=\"1\" class=\"dataframe\">\n",
       "  <thead>\n",
       "    <tr style=\"text-align: right;\">\n",
       "      <th></th>\n",
       "      <th>independent variables</th>\n",
       "      <th>coefficients</th>\n",
       "    </tr>\n",
       "  </thead>\n",
       "  <tbody>\n",
       "    <tr>\n",
       "      <th>0</th>\n",
       "      <td>age</td>\n",
       "      <td>3.818594</td>\n",
       "    </tr>\n",
       "    <tr>\n",
       "      <th>1</th>\n",
       "      <td>hypertension</td>\n",
       "      <td>0.822070</td>\n",
       "    </tr>\n",
       "    <tr>\n",
       "      <th>2</th>\n",
       "      <td>heart_disease</td>\n",
       "      <td>0.657724</td>\n",
       "    </tr>\n",
       "    <tr>\n",
       "      <th>3</th>\n",
       "      <td>bmi</td>\n",
       "      <td>8.392393</td>\n",
       "    </tr>\n",
       "    <tr>\n",
       "      <th>4</th>\n",
       "      <td>HbA1c_level</td>\n",
       "      <td>12.074689</td>\n",
       "    </tr>\n",
       "    <tr>\n",
       "      <th>5</th>\n",
       "      <td>blood_glucose_level</td>\n",
       "      <td>6.975862</td>\n",
       "    </tr>\n",
       "    <tr>\n",
       "      <th>6</th>\n",
       "      <td>gender_Female</td>\n",
       "      <td>-0.177222</td>\n",
       "    </tr>\n",
       "    <tr>\n",
       "      <th>7</th>\n",
       "      <td>gender_Male</td>\n",
       "      <td>0.178376</td>\n",
       "    </tr>\n",
       "    <tr>\n",
       "      <th>8</th>\n",
       "      <td>smoking_history_current</td>\n",
       "      <td>0.072969</td>\n",
       "    </tr>\n",
       "    <tr>\n",
       "      <th>9</th>\n",
       "      <td>smoking_history_former</td>\n",
       "      <td>-0.025054</td>\n",
       "    </tr>\n",
       "    <tr>\n",
       "      <th>10</th>\n",
       "      <td>smoking_history_never</td>\n",
       "      <td>-0.046761</td>\n",
       "    </tr>\n",
       "  </tbody>\n",
       "</table>\n",
       "</div>"
      ],
      "text/plain": [
       "      independent variables  coefficients\n",
       "0                       age      3.818594\n",
       "1              hypertension      0.822070\n",
       "2             heart_disease      0.657724\n",
       "3                       bmi      8.392393\n",
       "4               HbA1c_level     12.074689\n",
       "5       blood_glucose_level      6.975862\n",
       "6             gender_Female     -0.177222\n",
       "7               gender_Male      0.178376\n",
       "8   smoking_history_current      0.072969\n",
       "9    smoking_history_former     -0.025054\n",
       "10    smoking_history_never     -0.046761"
      ]
     },
     "execution_count": 73,
     "metadata": {},
     "output_type": "execute_result"
    }
   ],
   "source": [
    "coefficients_analysis"
   ]
  },
  {
   "cell_type": "code",
   "execution_count": 74,
   "id": "2cdc48ee",
   "metadata": {},
   "outputs": [],
   "source": [
    "coefficients_analysis.to_csv(\"coef.csv\",index=False)"
   ]
  },
  {
   "cell_type": "code",
   "execution_count": 75,
   "id": "c2eefed6",
   "metadata": {},
   "outputs": [
    {
     "data": {
      "image/png": "[encoded data removed]",
      "text/plain": [
       "<Figure size 1000x800 with 1 Axes>"
      ]
     },
     "metadata": {},
     "output_type": "display_data"
    }
   ],
   "source": [
    "\n",
    "\n",
    "# Crear un DataFrame con las variables y sus importancias\n",
    "#df_orden_importances = pd.new_1({'variables': names, 'Importance': coef})\n",
    "\n",
    "# Ordenar el DataFrame por importancia descendente\n",
    "df_orden_importances = coefficients_analysis.sort_values(by='coefficients', ascending=False)\n",
    "\n",
    "# Crear el gráfico de barras utilizando Seaborn\n",
    "plt.figure(figsize=(10, 8))\n",
    "sns.barplot(x='coefficients', y='independent variables', data=df_orden_importances)\n",
    "plt.xlabel('coefficients')\n",
    "plt.ylabel('Independent Variables')\n",
    "plt.title('Importance of variables in the model')\n",
    "\n",
    "# Mostrar el gráfico\n",
    "plt.show()"
   ]
  },
  {
   "cell_type": "markdown",
   "id": "66af9ab1",
   "metadata": {},
   "source": [
    "# Example"
   ]
  },
  {
   "cell_type": "code",
   "execution_count": 118,
   "id": "50e768ed",
   "metadata": {},
   "outputs": [
    {
     "name": "stdout",
     "output_type": "stream",
     "text": [
      "Enter age: 70\n",
      "Enter hypertension (1 for yes, 0 for no): 1\n",
      "Enter heart disease (1 for yes, 0 for no): 1\n",
      "Enter BMI: 30\n",
      "Enter HbA1c level: 120\n",
      "Enter blood glucose level: 120\n",
      "Enter gender (1 for female, 0 for male): 0\n",
      "Enter smoking history (1 for current smoker, 0 for not): 0\n",
      "Enter smoking history (1 for former smoker, 0 for not): 1\n",
      "Diabetes Result: 1\n"
     ]
    }
   ],
   "source": [
    "age = int(input(\"Enter age: \"))\n",
    "hypertension = int(input(\"Enter hypertension (1 for yes, 0 for no): \"))\n",
    "heart_disease = int(input(\"Enter heart disease (1 for yes, 0 for no): \"))\n",
    "bmi = int(input(\"Enter BMI: \"))\n",
    "HbA1c_level = int(input(\"Enter HbA1c level: \"))\n",
    "blood_glucose_level = int(input(\"Enter blood glucose level: \"))\n",
    "gender_Female = int(input(\"Enter gender (1 for female, 0 for male): \"))\n",
    "\n",
    "if gender_Female == 1:\n",
    "    gender_Male = 0\n",
    "else:\n",
    "    gender_Male = 1\n",
    "\n",
    "    \n",
    "smoking_history_current = int(input(\"Enter smoking history (1 for current smoker, 0 for not): \"))\n",
    "\n",
    "if smoking_history_current == 1:\n",
    "    smoking_history_former = 0\n",
    "    smoking_history_never = 0\n",
    "    \n",
    "else:\n",
    "    smoking_history_former = int(input(\"Enter smoking history (1 for former smoker, 0 for not): \"))\n",
    "    \n",
    "    if smoking_history_former == 1:\n",
    "        smoking_history_never = 0\n",
    "    else:\n",
    "        smoking_history_never = 1\n",
    "\n",
    "X_example = pd.DataFrame({\"age\":age,\"hypertension\":hypertension,\"heart_disease\":heart_disease,\"bmi\":bmi,\n",
    "                          \"HbA1c_level\":HbA1c_level,\"blood_glucose_level\":blood_glucose_level,\n",
    "                          \"gender_Female\":gender_Female,\"gender_Male\":gender_Male,\n",
    "                          \"smoking_history_current\":smoking_history_current,\n",
    "                          \"smoking_history_former\":smoking_history_former,\n",
    "                          \"smoking_history_never\":smoking_history_never}, index=[0])\n",
    "\n",
    "\n",
    "\n",
    "\n",
    "X_example = scaler.transform(X_example)\n",
    "y_example = model_smote.predict(X_example)\n",
    "\n",
    "print(\"Diabetes Result:\", int(y_example))"
   ]
  }
 ],
 "metadata": {
  "kernelspec": {
   "display_name": "Python 3 (ipykernel)",
   "language": "python",
   "name": "python3"
  },
  "language_info": {
   "codemirror_mode": {
    "name": "ipython",
    "version": 3
   },
   "file_extension": ".py",
   "mimetype": "text/x-python",
   "name": "python",
   "nbconvert_exporter": "python",
   "pygments_lexer": "ipython3",
   "version": "3.9.13"
  }
 },
 "nbformat": 4,
 "nbformat_minor": 5
}
