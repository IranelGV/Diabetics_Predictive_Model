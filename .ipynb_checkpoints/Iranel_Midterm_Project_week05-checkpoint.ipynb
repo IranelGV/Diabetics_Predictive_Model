{
 "cells": [
  {
   "cell_type": "markdown",
   "id": "ee7809f5",
   "metadata": {},
   "source": [
    "### Midterm Project"
   ]
  },
  {
   "cell_type": "code",
   "execution_count": 46,
   "id": "2e5974b4",
   "metadata": {},
   "outputs": [],
   "source": [
    "import pandas as pd\n",
    "import numpy as np\n",
    "import matplotlib.pyplot as plt\n",
    "import seaborn as sns\n",
    "%matplotlib inline"
   ]
  },
  {
   "cell_type": "code",
   "execution_count": 47,
   "id": "0f85d7f5",
   "metadata": {},
   "outputs": [],
   "source": [
    "df= pd.read_csv(\"diabetes_prediction_dataset.csv\")"
   ]
  },
  {
   "cell_type": "code",
   "execution_count": 48,
   "id": "5cca57bf",
   "metadata": {},
   "outputs": [
    {
     "data": {
      "text/html": [
       "<div>\n",
       "<style scoped>\n",
       "    .dataframe tbody tr th:only-of-type {\n",
       "        vertical-align: middle;\n",
       "    }\n",
       "\n",
       "    .dataframe tbody tr th {\n",
       "        vertical-align: top;\n",
       "    }\n",
       "\n",
       "    .dataframe thead th {\n",
       "        text-align: right;\n",
       "    }\n",
       "</style>\n",
       "<table border=\"1\" class=\"dataframe\">\n",
       "  <thead>\n",
       "    <tr style=\"text-align: right;\">\n",
       "      <th></th>\n",
       "      <th>gender</th>\n",
       "      <th>age</th>\n",
       "      <th>hypertension</th>\n",
       "      <th>heart_disease</th>\n",
       "      <th>smoking_history</th>\n",
       "      <th>bmi</th>\n",
       "      <th>HbA1c_level</th>\n",
       "      <th>blood_glucose_level</th>\n",
       "      <th>diabetes</th>\n",
       "    </tr>\n",
       "  </thead>\n",
       "  <tbody>\n",
       "    <tr>\n",
       "      <th>0</th>\n",
       "      <td>Female</td>\n",
       "      <td>80.0</td>\n",
       "      <td>0</td>\n",
       "      <td>1</td>\n",
       "      <td>never</td>\n",
       "      <td>25.19</td>\n",
       "      <td>6.6</td>\n",
       "      <td>140</td>\n",
       "      <td>0</td>\n",
       "    </tr>\n",
       "    <tr>\n",
       "      <th>1</th>\n",
       "      <td>Female</td>\n",
       "      <td>54.0</td>\n",
       "      <td>0</td>\n",
       "      <td>0</td>\n",
       "      <td>No Info</td>\n",
       "      <td>27.32</td>\n",
       "      <td>6.6</td>\n",
       "      <td>80</td>\n",
       "      <td>0</td>\n",
       "    </tr>\n",
       "    <tr>\n",
       "      <th>2</th>\n",
       "      <td>Male</td>\n",
       "      <td>28.0</td>\n",
       "      <td>0</td>\n",
       "      <td>0</td>\n",
       "      <td>never</td>\n",
       "      <td>27.32</td>\n",
       "      <td>5.7</td>\n",
       "      <td>158</td>\n",
       "      <td>0</td>\n",
       "    </tr>\n",
       "    <tr>\n",
       "      <th>3</th>\n",
       "      <td>Female</td>\n",
       "      <td>36.0</td>\n",
       "      <td>0</td>\n",
       "      <td>0</td>\n",
       "      <td>current</td>\n",
       "      <td>23.45</td>\n",
       "      <td>5.0</td>\n",
       "      <td>155</td>\n",
       "      <td>0</td>\n",
       "    </tr>\n",
       "    <tr>\n",
       "      <th>4</th>\n",
       "      <td>Male</td>\n",
       "      <td>76.0</td>\n",
       "      <td>1</td>\n",
       "      <td>1</td>\n",
       "      <td>current</td>\n",
       "      <td>20.14</td>\n",
       "      <td>4.8</td>\n",
       "      <td>155</td>\n",
       "      <td>0</td>\n",
       "    </tr>\n",
       "    <tr>\n",
       "      <th>...</th>\n",
       "      <td>...</td>\n",
       "      <td>...</td>\n",
       "      <td>...</td>\n",
       "      <td>...</td>\n",
       "      <td>...</td>\n",
       "      <td>...</td>\n",
       "      <td>...</td>\n",
       "      <td>...</td>\n",
       "      <td>...</td>\n",
       "    </tr>\n",
       "    <tr>\n",
       "      <th>99995</th>\n",
       "      <td>Female</td>\n",
       "      <td>80.0</td>\n",
       "      <td>0</td>\n",
       "      <td>0</td>\n",
       "      <td>No Info</td>\n",
       "      <td>27.32</td>\n",
       "      <td>6.2</td>\n",
       "      <td>90</td>\n",
       "      <td>0</td>\n",
       "    </tr>\n",
       "    <tr>\n",
       "      <th>99996</th>\n",
       "      <td>Female</td>\n",
       "      <td>2.0</td>\n",
       "      <td>0</td>\n",
       "      <td>0</td>\n",
       "      <td>No Info</td>\n",
       "      <td>17.37</td>\n",
       "      <td>6.5</td>\n",
       "      <td>100</td>\n",
       "      <td>0</td>\n",
       "    </tr>\n",
       "    <tr>\n",
       "      <th>99997</th>\n",
       "      <td>Male</td>\n",
       "      <td>66.0</td>\n",
       "      <td>0</td>\n",
       "      <td>0</td>\n",
       "      <td>former</td>\n",
       "      <td>27.83</td>\n",
       "      <td>5.7</td>\n",
       "      <td>155</td>\n",
       "      <td>0</td>\n",
       "    </tr>\n",
       "    <tr>\n",
       "      <th>99998</th>\n",
       "      <td>Female</td>\n",
       "      <td>24.0</td>\n",
       "      <td>0</td>\n",
       "      <td>0</td>\n",
       "      <td>never</td>\n",
       "      <td>35.42</td>\n",
       "      <td>4.0</td>\n",
       "      <td>100</td>\n",
       "      <td>0</td>\n",
       "    </tr>\n",
       "    <tr>\n",
       "      <th>99999</th>\n",
       "      <td>Female</td>\n",
       "      <td>57.0</td>\n",
       "      <td>0</td>\n",
       "      <td>0</td>\n",
       "      <td>current</td>\n",
       "      <td>22.43</td>\n",
       "      <td>6.6</td>\n",
       "      <td>90</td>\n",
       "      <td>0</td>\n",
       "    </tr>\n",
       "  </tbody>\n",
       "</table>\n",
       "<p>100000 rows × 9 columns</p>\n",
       "</div>"
      ],
      "text/plain": [
       "       gender   age  hypertension  heart_disease smoking_history    bmi  \\\n",
       "0      Female  80.0             0              1           never  25.19   \n",
       "1      Female  54.0             0              0         No Info  27.32   \n",
       "2        Male  28.0             0              0           never  27.32   \n",
       "3      Female  36.0             0              0         current  23.45   \n",
       "4        Male  76.0             1              1         current  20.14   \n",
       "...       ...   ...           ...            ...             ...    ...   \n",
       "99995  Female  80.0             0              0         No Info  27.32   \n",
       "99996  Female   2.0             0              0         No Info  17.37   \n",
       "99997    Male  66.0             0              0          former  27.83   \n",
       "99998  Female  24.0             0              0           never  35.42   \n",
       "99999  Female  57.0             0              0         current  22.43   \n",
       "\n",
       "       HbA1c_level  blood_glucose_level  diabetes  \n",
       "0              6.6                  140         0  \n",
       "1              6.6                   80         0  \n",
       "2              5.7                  158         0  \n",
       "3              5.0                  155         0  \n",
       "4              4.8                  155         0  \n",
       "...            ...                  ...       ...  \n",
       "99995          6.2                   90         0  \n",
       "99996          6.5                  100         0  \n",
       "99997          5.7                  155         0  \n",
       "99998          4.0                  100         0  \n",
       "99999          6.6                   90         0  \n",
       "\n",
       "[100000 rows x 9 columns]"
      ]
     },
     "execution_count": 48,
     "metadata": {},
     "output_type": "execute_result"
    }
   ],
   "source": [
    "df"
   ]
  },
  {
   "cell_type": "code",
   "execution_count": 49,
   "id": "3ea440a7",
   "metadata": {},
   "outputs": [
    {
     "name": "stdout",
     "output_type": "stream",
     "text": [
      "<class 'pandas.core.frame.DataFrame'>\n",
      "RangeIndex: 100000 entries, 0 to 99999\n",
      "Data columns (total 9 columns):\n",
      " #   Column               Non-Null Count   Dtype  \n",
      "---  ------               --------------   -----  \n",
      " 0   gender               100000 non-null  object \n",
      " 1   age                  100000 non-null  float64\n",
      " 2   hypertension         100000 non-null  int64  \n",
      " 3   heart_disease        100000 non-null  int64  \n",
      " 4   smoking_history      100000 non-null  object \n",
      " 5   bmi                  100000 non-null  float64\n",
      " 6   HbA1c_level          100000 non-null  float64\n",
      " 7   blood_glucose_level  100000 non-null  int64  \n",
      " 8   diabetes             100000 non-null  int64  \n",
      "dtypes: float64(3), int64(4), object(2)\n",
      "memory usage: 6.9+ MB\n"
     ]
    }
   ],
   "source": [
    "df.info()"
   ]
  },
  {
   "cell_type": "code",
   "execution_count": 50,
   "id": "e53b74cd",
   "metadata": {},
   "outputs": [],
   "source": [
    "column_types = df.dtypes"
   ]
  },
  {
   "cell_type": "code",
   "execution_count": 51,
   "id": "812f0f02",
   "metadata": {},
   "outputs": [
    {
     "data": {
      "text/plain": [
       "gender                  object\n",
       "age                    float64\n",
       "hypertension             int64\n",
       "heart_disease            int64\n",
       "smoking_history         object\n",
       "bmi                    float64\n",
       "HbA1c_level            float64\n",
       "blood_glucose_level      int64\n",
       "diabetes                 int64\n",
       "dtype: object"
      ]
     },
     "execution_count": 51,
     "metadata": {},
     "output_type": "execute_result"
    }
   ],
   "source": [
    "column_types"
   ]
  },
  {
   "cell_type": "code",
   "execution_count": 52,
   "id": "8f475c80",
   "metadata": {},
   "outputs": [],
   "source": [
    "column_names = df.columns"
   ]
  },
  {
   "cell_type": "code",
   "execution_count": 53,
   "id": "e0bf23f3",
   "metadata": {},
   "outputs": [
    {
     "data": {
      "text/plain": [
       "Index(['gender', 'age', 'hypertension', 'heart_disease', 'smoking_history',\n",
       "       'bmi', 'HbA1c_level', 'blood_glucose_level', 'diabetes'],\n",
       "      dtype='object')"
      ]
     },
     "execution_count": 53,
     "metadata": {},
     "output_type": "execute_result"
    }
   ],
   "source": [
    "column_names"
   ]
  },
  {
   "cell_type": "markdown",
   "id": "365266ea",
   "metadata": {},
   "source": [
    "# STAGE 01"
   ]
  },
  {
   "cell_type": "markdown",
   "id": "37d8566c",
   "metadata": {},
   "source": [
    "## Data cleaning"
   ]
  },
  {
   "cell_type": "markdown",
   "id": "175fee97",
   "metadata": {},
   "source": [
    "### 👉 Cheking Age"
   ]
  },
  {
   "cell_type": "markdown",
   "id": "8827e90b",
   "metadata": {},
   "source": [
    "### Changing the data type of \"Age\""
   ]
  },
  {
   "cell_type": "code",
   "execution_count": 54,
   "id": "9f60dfa6",
   "metadata": {},
   "outputs": [],
   "source": [
    "df['age'] = df['age'].astype(\"int64\")"
   ]
  },
  {
   "cell_type": "code",
   "execution_count": 55,
   "id": "2f67bbe5",
   "metadata": {},
   "outputs": [
    {
     "name": "stdout",
     "output_type": "stream",
     "text": [
      "<class 'pandas.core.frame.DataFrame'>\n",
      "RangeIndex: 100000 entries, 0 to 99999\n",
      "Data columns (total 9 columns):\n",
      " #   Column               Non-Null Count   Dtype  \n",
      "---  ------               --------------   -----  \n",
      " 0   gender               100000 non-null  object \n",
      " 1   age                  100000 non-null  int64  \n",
      " 2   hypertension         100000 non-null  int64  \n",
      " 3   heart_disease        100000 non-null  int64  \n",
      " 4   smoking_history      100000 non-null  object \n",
      " 5   bmi                  100000 non-null  float64\n",
      " 6   HbA1c_level          100000 non-null  float64\n",
      " 7   blood_glucose_level  100000 non-null  int64  \n",
      " 8   diabetes             100000 non-null  int64  \n",
      "dtypes: float64(2), int64(5), object(2)\n",
      "memory usage: 6.9+ MB\n"
     ]
    }
   ],
   "source": [
    "df.info()\n"
   ]
  },
  {
   "cell_type": "markdown",
   "id": "94600002",
   "metadata": {},
   "source": [
    "### 👉 Cheking Gender"
   ]
  },
  {
   "cell_type": "code",
   "execution_count": 56,
   "id": "8d80baa8",
   "metadata": {
    "scrolled": false
   },
   "outputs": [
    {
     "data": {
      "text/plain": [
       "Female    58552\n",
       "Male      41430\n",
       "Other        18\n",
       "Name: gender, dtype: int64"
      ]
     },
     "execution_count": 56,
     "metadata": {},
     "output_type": "execute_result"
    }
   ],
   "source": [
    "df[\"gender\"].value_counts()"
   ]
  },
  {
   "cell_type": "code",
   "execution_count": 57,
   "id": "6fc12584",
   "metadata": {},
   "outputs": [
    {
     "data": {
      "text/plain": [
       "array(['Female', 'Male', 'Other'], dtype=object)"
      ]
     },
     "execution_count": 57,
     "metadata": {},
     "output_type": "execute_result"
    }
   ],
   "source": [
    "df[\"gender\"].unique()"
   ]
  },
  {
   "cell_type": "markdown",
   "id": "a5184461",
   "metadata": {},
   "source": [
    "### Let's replace \"other\" to \"female\"!"
   ]
  },
  {
   "cell_type": "code",
   "execution_count": 58,
   "id": "ff083803",
   "metadata": {},
   "outputs": [],
   "source": [
    "df['gender'].replace(['Other'], [\"Female\"], inplace=True)"
   ]
  },
  {
   "cell_type": "code",
   "execution_count": 59,
   "id": "7793e0e2",
   "metadata": {},
   "outputs": [
    {
     "data": {
      "text/plain": [
       "Female    58570\n",
       "Male      41430\n",
       "Name: gender, dtype: int64"
      ]
     },
     "execution_count": 59,
     "metadata": {},
     "output_type": "execute_result"
    }
   ],
   "source": [
    "df[\"gender\"].value_counts()"
   ]
  },
  {
   "cell_type": "markdown",
   "id": "4852ead1",
   "metadata": {},
   "source": [
    "### 👉 Cheking Hypertension"
   ]
  },
  {
   "cell_type": "code",
   "execution_count": 60,
   "id": "8fe8989e",
   "metadata": {},
   "outputs": [
    {
     "data": {
      "text/plain": [
       "array([0, 1], dtype=int64)"
      ]
     },
     "execution_count": 60,
     "metadata": {},
     "output_type": "execute_result"
    }
   ],
   "source": [
    "df['hypertension'].unique()"
   ]
  },
  {
   "cell_type": "markdown",
   "id": "45699ced",
   "metadata": {},
   "source": [
    "### 👉 Cheking heart_disease"
   ]
  },
  {
   "cell_type": "code",
   "execution_count": 61,
   "id": "e01aa30f",
   "metadata": {},
   "outputs": [
    {
     "data": {
      "text/plain": [
       "array([1, 0], dtype=int64)"
      ]
     },
     "execution_count": 61,
     "metadata": {},
     "output_type": "execute_result"
    }
   ],
   "source": [
    "df['heart_disease'].unique()"
   ]
  },
  {
   "cell_type": "markdown",
   "id": "2e940cea",
   "metadata": {},
   "source": [
    "### 👉 Cheking Smoking_History"
   ]
  },
  {
   "cell_type": "code",
   "execution_count": 62,
   "id": "c7f4dea8",
   "metadata": {},
   "outputs": [
    {
     "data": {
      "text/plain": [
       "array(['never', 'No Info', 'current', 'former', 'ever', 'not current'],\n",
       "      dtype=object)"
      ]
     },
     "execution_count": 62,
     "metadata": {},
     "output_type": "execute_result"
    }
   ],
   "source": [
    "df[\"smoking_history\"].unique()"
   ]
  },
  {
   "cell_type": "code",
   "execution_count": 63,
   "id": "64d40e73",
   "metadata": {},
   "outputs": [
    {
     "data": {
      "text/plain": [
       "No Info        35816\n",
       "never          35095\n",
       "former          9352\n",
       "current         9286\n",
       "not current     6447\n",
       "ever            4004\n",
       "Name: smoking_history, dtype: int64"
      ]
     },
     "execution_count": 63,
     "metadata": {},
     "output_type": "execute_result"
    }
   ],
   "source": [
    "df[\"smoking_history\"].value_counts()"
   ]
  },
  {
   "cell_type": "markdown",
   "id": "3ce8ca13",
   "metadata": {},
   "source": [
    "### Dropping the \"No info\" rows "
   ]
  },
  {
   "cell_type": "code",
   "execution_count": null,
   "id": "f68c1b8f",
   "metadata": {},
   "outputs": [],
   "source": []
  },
  {
   "cell_type": "code",
   "execution_count": 64,
   "id": "618a9551",
   "metadata": {},
   "outputs": [
    {
     "data": {
      "text/plain": [
       "No Info        35816\n",
       "never          35095\n",
       "former          9352\n",
       "current         9286\n",
       "not current     6447\n",
       "ever            4004\n",
       "Name: smoking_history, dtype: int64"
      ]
     },
     "execution_count": 64,
     "metadata": {},
     "output_type": "execute_result"
    }
   ],
   "source": [
    "df[\"smoking_history\"].value_counts()"
   ]
  },
  {
   "cell_type": "markdown",
   "id": "dbea0129",
   "metadata": {},
   "source": [
    "### Merge \"ever\" with \"never\" and \"not current\" with \"former\""
   ]
  },
  {
   "cell_type": "code",
   "execution_count": 65,
   "id": "1e20ae30",
   "metadata": {},
   "outputs": [],
   "source": [
    "df[\"smoking_history\"] = df[\"smoking_history\"].replace({\"ever\":\"never\",\"not current\":\"former\"})"
   ]
  },
  {
   "cell_type": "code",
   "execution_count": 66,
   "id": "51ab44dd",
   "metadata": {
    "scrolled": true
   },
   "outputs": [
    {
     "data": {
      "text/plain": [
       "never      39099\n",
       "No Info    35816\n",
       "former     15799\n",
       "current     9286\n",
       "Name: smoking_history, dtype: int64"
      ]
     },
     "execution_count": 66,
     "metadata": {},
     "output_type": "execute_result"
    }
   ],
   "source": [
    "df[\"smoking_history\"].value_counts()"
   ]
  },
  {
   "cell_type": "markdown",
   "id": "2104f9b6",
   "metadata": {},
   "source": [
    "### 👉 Cheking BM! "
   ]
  },
  {
   "cell_type": "code",
   "execution_count": 67,
   "id": "81d577f0",
   "metadata": {},
   "outputs": [
    {
     "data": {
      "text/plain": [
       "array([25.19, 27.32, 23.45, ..., 59.42, 44.39, 60.52])"
      ]
     },
     "execution_count": 67,
     "metadata": {},
     "output_type": "execute_result"
    }
   ],
   "source": [
    "df[\"bmi\"].unique()"
   ]
  },
  {
   "cell_type": "code",
   "execution_count": 68,
   "id": "162d8290",
   "metadata": {},
   "outputs": [
    {
     "data": {
      "text/plain": [
       "27.32    25495\n",
       "23.00      103\n",
       "27.12      101\n",
       "27.80      100\n",
       "24.96      100\n",
       "         ...  \n",
       "58.23        1\n",
       "48.18        1\n",
       "55.57        1\n",
       "57.07        1\n",
       "60.52        1\n",
       "Name: bmi, Length: 4247, dtype: int64"
      ]
     },
     "execution_count": 68,
     "metadata": {},
     "output_type": "execute_result"
    }
   ],
   "source": [
    "df[\"bmi\"].value_counts()"
   ]
  },
  {
   "cell_type": "markdown",
   "id": "80bf339f",
   "metadata": {},
   "source": [
    "### 👉 Checking HbA1c_level"
   ]
  },
  {
   "cell_type": "code",
   "execution_count": 69,
   "id": "a2b74f96",
   "metadata": {},
   "outputs": [
    {
     "data": {
      "text/plain": [
       "6.6    8540\n",
       "5.7    8413\n",
       "6.5    8362\n",
       "5.8    8321\n",
       "6.0    8295\n",
       "6.2    8269\n",
       "6.1    8048\n",
       "3.5    7662\n",
       "4.8    7597\n",
       "4.5    7585\n",
       "4.0    7542\n",
       "5.0    7471\n",
       "8.8     661\n",
       "8.2     661\n",
       "9.0     654\n",
       "7.5     643\n",
       "6.8     642\n",
       "7.0     634\n",
       "Name: HbA1c_level, dtype: int64"
      ]
     },
     "execution_count": 69,
     "metadata": {},
     "output_type": "execute_result"
    }
   ],
   "source": [
    "df[\"HbA1c_level\"].value_counts()"
   ]
  },
  {
   "cell_type": "markdown",
   "id": "d645ce80",
   "metadata": {},
   "source": [
    "### 👉 Checking Blood_glucose_level"
   ]
  },
  {
   "cell_type": "code",
   "execution_count": 70,
   "id": "310042ba",
   "metadata": {
    "scrolled": true
   },
   "outputs": [
    {
     "data": {
      "text/plain": [
       "130    7794\n",
       "159    7759\n",
       "140    7732\n",
       "160    7712\n",
       "126    7702\n",
       "145    7679\n",
       "200    7600\n",
       "155    7575\n",
       "90     7112\n",
       "80     7106\n",
       "158    7026\n",
       "100    7025\n",
       "85     6901\n",
       "280     729\n",
       "300     674\n",
       "240     636\n",
       "260     635\n",
       "220     603\n",
       "Name: blood_glucose_level, dtype: int64"
      ]
     },
     "execution_count": 70,
     "metadata": {},
     "output_type": "execute_result"
    }
   ],
   "source": [
    "df[\"blood_glucose_level\"].value_counts()"
   ]
  },
  {
   "cell_type": "markdown",
   "id": "de45c7eb",
   "metadata": {},
   "source": [
    "# STAGE 02"
   ]
  },
  {
   "cell_type": "code",
   "execution_count": 71,
   "id": "3abcbdff",
   "metadata": {},
   "outputs": [],
   "source": [
    "numerical_df = df.select_dtypes(include=[np.number])\n",
    "categorical_df = df.select_dtypes(include=['object'])"
   ]
  },
  {
   "cell_type": "code",
   "execution_count": 72,
   "id": "5277b422",
   "metadata": {},
   "outputs": [
    {
     "data": {
      "text/html": [
       "<div>\n",
       "<style scoped>\n",
       "    .dataframe tbody tr th:only-of-type {\n",
       "        vertical-align: middle;\n",
       "    }\n",
       "\n",
       "    .dataframe tbody tr th {\n",
       "        vertical-align: top;\n",
       "    }\n",
       "\n",
       "    .dataframe thead th {\n",
       "        text-align: right;\n",
       "    }\n",
       "</style>\n",
       "<table border=\"1\" class=\"dataframe\">\n",
       "  <thead>\n",
       "    <tr style=\"text-align: right;\">\n",
       "      <th></th>\n",
       "      <th>age</th>\n",
       "      <th>hypertension</th>\n",
       "      <th>heart_disease</th>\n",
       "      <th>bmi</th>\n",
       "      <th>HbA1c_level</th>\n",
       "      <th>blood_glucose_level</th>\n",
       "      <th>diabetes</th>\n",
       "    </tr>\n",
       "  </thead>\n",
       "  <tbody>\n",
       "    <tr>\n",
       "      <th>0</th>\n",
       "      <td>80</td>\n",
       "      <td>0</td>\n",
       "      <td>1</td>\n",
       "      <td>25.19</td>\n",
       "      <td>6.6</td>\n",
       "      <td>140</td>\n",
       "      <td>0</td>\n",
       "    </tr>\n",
       "    <tr>\n",
       "      <th>1</th>\n",
       "      <td>54</td>\n",
       "      <td>0</td>\n",
       "      <td>0</td>\n",
       "      <td>27.32</td>\n",
       "      <td>6.6</td>\n",
       "      <td>80</td>\n",
       "      <td>0</td>\n",
       "    </tr>\n",
       "    <tr>\n",
       "      <th>2</th>\n",
       "      <td>28</td>\n",
       "      <td>0</td>\n",
       "      <td>0</td>\n",
       "      <td>27.32</td>\n",
       "      <td>5.7</td>\n",
       "      <td>158</td>\n",
       "      <td>0</td>\n",
       "    </tr>\n",
       "    <tr>\n",
       "      <th>3</th>\n",
       "      <td>36</td>\n",
       "      <td>0</td>\n",
       "      <td>0</td>\n",
       "      <td>23.45</td>\n",
       "      <td>5.0</td>\n",
       "      <td>155</td>\n",
       "      <td>0</td>\n",
       "    </tr>\n",
       "    <tr>\n",
       "      <th>4</th>\n",
       "      <td>76</td>\n",
       "      <td>1</td>\n",
       "      <td>1</td>\n",
       "      <td>20.14</td>\n",
       "      <td>4.8</td>\n",
       "      <td>155</td>\n",
       "      <td>0</td>\n",
       "    </tr>\n",
       "    <tr>\n",
       "      <th>...</th>\n",
       "      <td>...</td>\n",
       "      <td>...</td>\n",
       "      <td>...</td>\n",
       "      <td>...</td>\n",
       "      <td>...</td>\n",
       "      <td>...</td>\n",
       "      <td>...</td>\n",
       "    </tr>\n",
       "    <tr>\n",
       "      <th>99995</th>\n",
       "      <td>80</td>\n",
       "      <td>0</td>\n",
       "      <td>0</td>\n",
       "      <td>27.32</td>\n",
       "      <td>6.2</td>\n",
       "      <td>90</td>\n",
       "      <td>0</td>\n",
       "    </tr>\n",
       "    <tr>\n",
       "      <th>99996</th>\n",
       "      <td>2</td>\n",
       "      <td>0</td>\n",
       "      <td>0</td>\n",
       "      <td>17.37</td>\n",
       "      <td>6.5</td>\n",
       "      <td>100</td>\n",
       "      <td>0</td>\n",
       "    </tr>\n",
       "    <tr>\n",
       "      <th>99997</th>\n",
       "      <td>66</td>\n",
       "      <td>0</td>\n",
       "      <td>0</td>\n",
       "      <td>27.83</td>\n",
       "      <td>5.7</td>\n",
       "      <td>155</td>\n",
       "      <td>0</td>\n",
       "    </tr>\n",
       "    <tr>\n",
       "      <th>99998</th>\n",
       "      <td>24</td>\n",
       "      <td>0</td>\n",
       "      <td>0</td>\n",
       "      <td>35.42</td>\n",
       "      <td>4.0</td>\n",
       "      <td>100</td>\n",
       "      <td>0</td>\n",
       "    </tr>\n",
       "    <tr>\n",
       "      <th>99999</th>\n",
       "      <td>57</td>\n",
       "      <td>0</td>\n",
       "      <td>0</td>\n",
       "      <td>22.43</td>\n",
       "      <td>6.6</td>\n",
       "      <td>90</td>\n",
       "      <td>0</td>\n",
       "    </tr>\n",
       "  </tbody>\n",
       "</table>\n",
       "<p>100000 rows × 7 columns</p>\n",
       "</div>"
      ],
      "text/plain": [
       "       age  hypertension  heart_disease    bmi  HbA1c_level  \\\n",
       "0       80             0              1  25.19          6.6   \n",
       "1       54             0              0  27.32          6.6   \n",
       "2       28             0              0  27.32          5.7   \n",
       "3       36             0              0  23.45          5.0   \n",
       "4       76             1              1  20.14          4.8   \n",
       "...    ...           ...            ...    ...          ...   \n",
       "99995   80             0              0  27.32          6.2   \n",
       "99996    2             0              0  17.37          6.5   \n",
       "99997   66             0              0  27.83          5.7   \n",
       "99998   24             0              0  35.42          4.0   \n",
       "99999   57             0              0  22.43          6.6   \n",
       "\n",
       "       blood_glucose_level  diabetes  \n",
       "0                      140         0  \n",
       "1                       80         0  \n",
       "2                      158         0  \n",
       "3                      155         0  \n",
       "4                      155         0  \n",
       "...                    ...       ...  \n",
       "99995                   90         0  \n",
       "99996                  100         0  \n",
       "99997                  155         0  \n",
       "99998                  100         0  \n",
       "99999                   90         0  \n",
       "\n",
       "[100000 rows x 7 columns]"
      ]
     },
     "execution_count": 72,
     "metadata": {},
     "output_type": "execute_result"
    }
   ],
   "source": [
    "numerical_df"
   ]
  },
  {
   "cell_type": "markdown",
   "id": "8bf5eb86",
   "metadata": {},
   "source": [
    "## To be able to get the correlation of our variable we are goint to plot the Hitmap"
   ]
  },
  {
   "cell_type": "markdown",
   "id": "1d24e89b",
   "metadata": {},
   "source": [
    "### But firts we need to drop the \"hypertension\" and \"heart_disease\" columns"
   ]
  },
  {
   "cell_type": "code",
   "execution_count": 73,
   "id": "9d62cff0",
   "metadata": {},
   "outputs": [
    {
     "data": {
      "text/html": [
       "<div>\n",
       "<style scoped>\n",
       "    .dataframe tbody tr th:only-of-type {\n",
       "        vertical-align: middle;\n",
       "    }\n",
       "\n",
       "    .dataframe tbody tr th {\n",
       "        vertical-align: top;\n",
       "    }\n",
       "\n",
       "    .dataframe thead th {\n",
       "        text-align: right;\n",
       "    }\n",
       "</style>\n",
       "<table border=\"1\" class=\"dataframe\">\n",
       "  <thead>\n",
       "    <tr style=\"text-align: right;\">\n",
       "      <th></th>\n",
       "      <th>bmi</th>\n",
       "      <th>HbA1c_level</th>\n",
       "      <th>blood_glucose_level</th>\n",
       "    </tr>\n",
       "  </thead>\n",
       "  <tbody>\n",
       "    <tr>\n",
       "      <th>bmi</th>\n",
       "      <td>1.000000</td>\n",
       "      <td>0.082997</td>\n",
       "      <td>0.091261</td>\n",
       "    </tr>\n",
       "    <tr>\n",
       "      <th>HbA1c_level</th>\n",
       "      <td>0.082997</td>\n",
       "      <td>1.000000</td>\n",
       "      <td>0.166733</td>\n",
       "    </tr>\n",
       "    <tr>\n",
       "      <th>blood_glucose_level</th>\n",
       "      <td>0.091261</td>\n",
       "      <td>0.166733</td>\n",
       "      <td>1.000000</td>\n",
       "    </tr>\n",
       "  </tbody>\n",
       "</table>\n",
       "</div>"
      ],
      "text/plain": [
       "                          bmi  HbA1c_level  blood_glucose_level\n",
       "bmi                  1.000000     0.082997             0.091261\n",
       "HbA1c_level          0.082997     1.000000             0.166733\n",
       "blood_glucose_level  0.091261     0.166733             1.000000"
      ]
     },
     "execution_count": 73,
     "metadata": {},
     "output_type": "execute_result"
    }
   ],
   "source": [
    "corr= numerical_df.iloc[:,3:6].corr()\n",
    "corr"
   ]
  },
  {
   "cell_type": "code",
   "execution_count": 74,
   "id": "3edbce59",
   "metadata": {},
   "outputs": [
    {
     "data": {
      "text/plain": [
       "<AxesSubplot:>"
      ]
     },
     "execution_count": 74,
     "metadata": {},
     "output_type": "execute_result"
    },
    {
     "data": {
      "image/png": "[encoded data removed]",
      "text/plain": [
       "<Figure size 800x500 with 2 Axes>"
      ]
     },
     "metadata": {},
     "output_type": "display_data"
    }
   ],
   "source": [
    "fig=plt.figure(figsize=(8,5))\n",
    "sns.heatmap(corr.corr(),annot=True)"
   ]
  },
  {
   "cell_type": "markdown",
   "id": "ce017096",
   "metadata": {},
   "source": [
    "### Conclusion:\n",
    "We dont need to drop variable because we dont find a hight correlation."
   ]
  },
  {
   "cell_type": "markdown",
   "id": "3efba47c",
   "metadata": {},
   "source": [
    "## Other way to ge it"
   ]
  },
  {
   "cell_type": "code",
   "execution_count": 33,
   "id": "38e6532e",
   "metadata": {},
   "outputs": [],
   "source": [
    "#df_correlation = numerical_df.drop('heart_disease', axis=1)"
   ]
  },
  {
   "cell_type": "code",
   "execution_count": 34,
   "id": "4b88fb53",
   "metadata": {},
   "outputs": [],
   "source": [
    "#df_correlation = df_correlation.drop('hypertension', axis=1)"
   ]
  },
  {
   "cell_type": "code",
   "execution_count": 35,
   "id": "7e82e6df",
   "metadata": {},
   "outputs": [],
   "source": [
    "#df_correlation = df_correlation.drop('diabetes', axis=1)"
   ]
  },
  {
   "cell_type": "code",
   "execution_count": 36,
   "id": "835eb9e2",
   "metadata": {},
   "outputs": [],
   "source": [
    "#df_correlation"
   ]
  },
  {
   "cell_type": "code",
   "execution_count": 37,
   "id": "105acdc1",
   "metadata": {},
   "outputs": [],
   "source": [
    "#fig=plt.figure(figsize=(8,5))\n",
    "#sns.heatmap(df_correlation.corr(),annot=True)"
   ]
  },
  {
   "cell_type": "markdown",
   "id": "0a63b99f",
   "metadata": {},
   "source": [
    "### Conclusion:\n",
    "We dont need to drop variable because we dont find a hight correlation."
   ]
  },
  {
   "cell_type": "markdown",
   "id": "4d03a5ea",
   "metadata": {},
   "source": [
    "# STAGE 3"
   ]
  },
  {
   "cell_type": "markdown",
   "id": "2253a967",
   "metadata": {},
   "source": [
    "# Transforming our categorical variables into numerical variables"
   ]
  },
  {
   "cell_type": "code",
   "execution_count": 75,
   "id": "4558199b",
   "metadata": {},
   "outputs": [
    {
     "data": {
      "text/plain": [
       "Index(['gender', 'smoking_history'], dtype='object')"
      ]
     },
     "execution_count": 75,
     "metadata": {},
     "output_type": "execute_result"
    }
   ],
   "source": [
    "categorical_df.columns"
   ]
  },
  {
   "cell_type": "markdown",
   "id": "477257e4",
   "metadata": {},
   "source": [
    "### Our variables \"gender\" and \"smoking history\" are Nominal ( not Hierarque)\n",
    "\n",
    "We can use dummys to do the transformation."
   ]
  },
  {
   "cell_type": "code",
   "execution_count": 76,
   "id": "e44f47f5",
   "metadata": {},
   "outputs": [],
   "source": [
    "\n",
    "# Create dummy variables for the 'Color' and 'Size' columns\n",
    "dummy_nominals = ['gender', 'smoking_history']\n",
    "categorical_df = pd.get_dummies(categorical_df, columns=dummy_nominals)\n",
    "# Print the resulting DataFrame with dummy variables\n"
   ]
  },
  {
   "cell_type": "code",
   "execution_count": 77,
   "id": "f2219d51",
   "metadata": {},
   "outputs": [],
   "source": [
    "categorical_df = categorical_df.reset_index(drop=True) "
   ]
  },
  {
   "cell_type": "code",
   "execution_count": 78,
   "id": "a776fc44",
   "metadata": {},
   "outputs": [
    {
     "data": {
      "text/html": [
       "<div>\n",
       "<style scoped>\n",
       "    .dataframe tbody tr th:only-of-type {\n",
       "        vertical-align: middle;\n",
       "    }\n",
       "\n",
       "    .dataframe tbody tr th {\n",
       "        vertical-align: top;\n",
       "    }\n",
       "\n",
       "    .dataframe thead th {\n",
       "        text-align: right;\n",
       "    }\n",
       "</style>\n",
       "<table border=\"1\" class=\"dataframe\">\n",
       "  <thead>\n",
       "    <tr style=\"text-align: right;\">\n",
       "      <th></th>\n",
       "      <th>gender_Female</th>\n",
       "      <th>gender_Male</th>\n",
       "      <th>smoking_history_No Info</th>\n",
       "      <th>smoking_history_current</th>\n",
       "      <th>smoking_history_former</th>\n",
       "      <th>smoking_history_never</th>\n",
       "    </tr>\n",
       "  </thead>\n",
       "  <tbody>\n",
       "    <tr>\n",
       "      <th>0</th>\n",
       "      <td>1</td>\n",
       "      <td>0</td>\n",
       "      <td>0</td>\n",
       "      <td>0</td>\n",
       "      <td>0</td>\n",
       "      <td>1</td>\n",
       "    </tr>\n",
       "    <tr>\n",
       "      <th>1</th>\n",
       "      <td>1</td>\n",
       "      <td>0</td>\n",
       "      <td>1</td>\n",
       "      <td>0</td>\n",
       "      <td>0</td>\n",
       "      <td>0</td>\n",
       "    </tr>\n",
       "    <tr>\n",
       "      <th>2</th>\n",
       "      <td>0</td>\n",
       "      <td>1</td>\n",
       "      <td>0</td>\n",
       "      <td>0</td>\n",
       "      <td>0</td>\n",
       "      <td>1</td>\n",
       "    </tr>\n",
       "    <tr>\n",
       "      <th>3</th>\n",
       "      <td>1</td>\n",
       "      <td>0</td>\n",
       "      <td>0</td>\n",
       "      <td>1</td>\n",
       "      <td>0</td>\n",
       "      <td>0</td>\n",
       "    </tr>\n",
       "    <tr>\n",
       "      <th>4</th>\n",
       "      <td>0</td>\n",
       "      <td>1</td>\n",
       "      <td>0</td>\n",
       "      <td>1</td>\n",
       "      <td>0</td>\n",
       "      <td>0</td>\n",
       "    </tr>\n",
       "    <tr>\n",
       "      <th>...</th>\n",
       "      <td>...</td>\n",
       "      <td>...</td>\n",
       "      <td>...</td>\n",
       "      <td>...</td>\n",
       "      <td>...</td>\n",
       "      <td>...</td>\n",
       "    </tr>\n",
       "    <tr>\n",
       "      <th>99995</th>\n",
       "      <td>1</td>\n",
       "      <td>0</td>\n",
       "      <td>1</td>\n",
       "      <td>0</td>\n",
       "      <td>0</td>\n",
       "      <td>0</td>\n",
       "    </tr>\n",
       "    <tr>\n",
       "      <th>99996</th>\n",
       "      <td>1</td>\n",
       "      <td>0</td>\n",
       "      <td>1</td>\n",
       "      <td>0</td>\n",
       "      <td>0</td>\n",
       "      <td>0</td>\n",
       "    </tr>\n",
       "    <tr>\n",
       "      <th>99997</th>\n",
       "      <td>0</td>\n",
       "      <td>1</td>\n",
       "      <td>0</td>\n",
       "      <td>0</td>\n",
       "      <td>1</td>\n",
       "      <td>0</td>\n",
       "    </tr>\n",
       "    <tr>\n",
       "      <th>99998</th>\n",
       "      <td>1</td>\n",
       "      <td>0</td>\n",
       "      <td>0</td>\n",
       "      <td>0</td>\n",
       "      <td>0</td>\n",
       "      <td>1</td>\n",
       "    </tr>\n",
       "    <tr>\n",
       "      <th>99999</th>\n",
       "      <td>1</td>\n",
       "      <td>0</td>\n",
       "      <td>0</td>\n",
       "      <td>1</td>\n",
       "      <td>0</td>\n",
       "      <td>0</td>\n",
       "    </tr>\n",
       "  </tbody>\n",
       "</table>\n",
       "<p>100000 rows × 6 columns</p>\n",
       "</div>"
      ],
      "text/plain": [
       "       gender_Female  gender_Male  smoking_history_No Info  \\\n",
       "0                  1            0                        0   \n",
       "1                  1            0                        1   \n",
       "2                  0            1                        0   \n",
       "3                  1            0                        0   \n",
       "4                  0            1                        0   \n",
       "...              ...          ...                      ...   \n",
       "99995              1            0                        1   \n",
       "99996              1            0                        1   \n",
       "99997              0            1                        0   \n",
       "99998              1            0                        0   \n",
       "99999              1            0                        0   \n",
       "\n",
       "       smoking_history_current  smoking_history_former  smoking_history_never  \n",
       "0                            0                       0                      1  \n",
       "1                            0                       0                      0  \n",
       "2                            0                       0                      1  \n",
       "3                            1                       0                      0  \n",
       "4                            1                       0                      0  \n",
       "...                        ...                     ...                    ...  \n",
       "99995                        0                       0                      0  \n",
       "99996                        0                       0                      0  \n",
       "99997                        0                       1                      0  \n",
       "99998                        0                       0                      1  \n",
       "99999                        1                       0                      0  \n",
       "\n",
       "[100000 rows x 6 columns]"
      ]
     },
     "execution_count": 78,
     "metadata": {},
     "output_type": "execute_result"
    }
   ],
   "source": [
    "categorical_df"
   ]
  },
  {
   "cell_type": "code",
   "execution_count": 79,
   "id": "f2166b0d",
   "metadata": {},
   "outputs": [],
   "source": [
    "numerical_df = numerical_df.reset_index(drop=True) "
   ]
  },
  {
   "cell_type": "code",
   "execution_count": 80,
   "id": "7ac5ae8e",
   "metadata": {},
   "outputs": [
    {
     "data": {
      "text/html": [
       "<div>\n",
       "<style scoped>\n",
       "    .dataframe tbody tr th:only-of-type {\n",
       "        vertical-align: middle;\n",
       "    }\n",
       "\n",
       "    .dataframe tbody tr th {\n",
       "        vertical-align: top;\n",
       "    }\n",
       "\n",
       "    .dataframe thead th {\n",
       "        text-align: right;\n",
       "    }\n",
       "</style>\n",
       "<table border=\"1\" class=\"dataframe\">\n",
       "  <thead>\n",
       "    <tr style=\"text-align: right;\">\n",
       "      <th></th>\n",
       "      <th>age</th>\n",
       "      <th>hypertension</th>\n",
       "      <th>heart_disease</th>\n",
       "      <th>bmi</th>\n",
       "      <th>HbA1c_level</th>\n",
       "      <th>blood_glucose_level</th>\n",
       "      <th>diabetes</th>\n",
       "    </tr>\n",
       "  </thead>\n",
       "  <tbody>\n",
       "    <tr>\n",
       "      <th>0</th>\n",
       "      <td>80</td>\n",
       "      <td>0</td>\n",
       "      <td>1</td>\n",
       "      <td>25.19</td>\n",
       "      <td>6.6</td>\n",
       "      <td>140</td>\n",
       "      <td>0</td>\n",
       "    </tr>\n",
       "    <tr>\n",
       "      <th>1</th>\n",
       "      <td>54</td>\n",
       "      <td>0</td>\n",
       "      <td>0</td>\n",
       "      <td>27.32</td>\n",
       "      <td>6.6</td>\n",
       "      <td>80</td>\n",
       "      <td>0</td>\n",
       "    </tr>\n",
       "    <tr>\n",
       "      <th>2</th>\n",
       "      <td>28</td>\n",
       "      <td>0</td>\n",
       "      <td>0</td>\n",
       "      <td>27.32</td>\n",
       "      <td>5.7</td>\n",
       "      <td>158</td>\n",
       "      <td>0</td>\n",
       "    </tr>\n",
       "    <tr>\n",
       "      <th>3</th>\n",
       "      <td>36</td>\n",
       "      <td>0</td>\n",
       "      <td>0</td>\n",
       "      <td>23.45</td>\n",
       "      <td>5.0</td>\n",
       "      <td>155</td>\n",
       "      <td>0</td>\n",
       "    </tr>\n",
       "    <tr>\n",
       "      <th>4</th>\n",
       "      <td>76</td>\n",
       "      <td>1</td>\n",
       "      <td>1</td>\n",
       "      <td>20.14</td>\n",
       "      <td>4.8</td>\n",
       "      <td>155</td>\n",
       "      <td>0</td>\n",
       "    </tr>\n",
       "    <tr>\n",
       "      <th>...</th>\n",
       "      <td>...</td>\n",
       "      <td>...</td>\n",
       "      <td>...</td>\n",
       "      <td>...</td>\n",
       "      <td>...</td>\n",
       "      <td>...</td>\n",
       "      <td>...</td>\n",
       "    </tr>\n",
       "    <tr>\n",
       "      <th>99995</th>\n",
       "      <td>80</td>\n",
       "      <td>0</td>\n",
       "      <td>0</td>\n",
       "      <td>27.32</td>\n",
       "      <td>6.2</td>\n",
       "      <td>90</td>\n",
       "      <td>0</td>\n",
       "    </tr>\n",
       "    <tr>\n",
       "      <th>99996</th>\n",
       "      <td>2</td>\n",
       "      <td>0</td>\n",
       "      <td>0</td>\n",
       "      <td>17.37</td>\n",
       "      <td>6.5</td>\n",
       "      <td>100</td>\n",
       "      <td>0</td>\n",
       "    </tr>\n",
       "    <tr>\n",
       "      <th>99997</th>\n",
       "      <td>66</td>\n",
       "      <td>0</td>\n",
       "      <td>0</td>\n",
       "      <td>27.83</td>\n",
       "      <td>5.7</td>\n",
       "      <td>155</td>\n",
       "      <td>0</td>\n",
       "    </tr>\n",
       "    <tr>\n",
       "      <th>99998</th>\n",
       "      <td>24</td>\n",
       "      <td>0</td>\n",
       "      <td>0</td>\n",
       "      <td>35.42</td>\n",
       "      <td>4.0</td>\n",
       "      <td>100</td>\n",
       "      <td>0</td>\n",
       "    </tr>\n",
       "    <tr>\n",
       "      <th>99999</th>\n",
       "      <td>57</td>\n",
       "      <td>0</td>\n",
       "      <td>0</td>\n",
       "      <td>22.43</td>\n",
       "      <td>6.6</td>\n",
       "      <td>90</td>\n",
       "      <td>0</td>\n",
       "    </tr>\n",
       "  </tbody>\n",
       "</table>\n",
       "<p>100000 rows × 7 columns</p>\n",
       "</div>"
      ],
      "text/plain": [
       "       age  hypertension  heart_disease    bmi  HbA1c_level  \\\n",
       "0       80             0              1  25.19          6.6   \n",
       "1       54             0              0  27.32          6.6   \n",
       "2       28             0              0  27.32          5.7   \n",
       "3       36             0              0  23.45          5.0   \n",
       "4       76             1              1  20.14          4.8   \n",
       "...    ...           ...            ...    ...          ...   \n",
       "99995   80             0              0  27.32          6.2   \n",
       "99996    2             0              0  17.37          6.5   \n",
       "99997   66             0              0  27.83          5.7   \n",
       "99998   24             0              0  35.42          4.0   \n",
       "99999   57             0              0  22.43          6.6   \n",
       "\n",
       "       blood_glucose_level  diabetes  \n",
       "0                      140         0  \n",
       "1                       80         0  \n",
       "2                      158         0  \n",
       "3                      155         0  \n",
       "4                      155         0  \n",
       "...                    ...       ...  \n",
       "99995                   90         0  \n",
       "99996                  100         0  \n",
       "99997                  155         0  \n",
       "99998                  100         0  \n",
       "99999                   90         0  \n",
       "\n",
       "[100000 rows x 7 columns]"
      ]
     },
     "execution_count": 80,
     "metadata": {},
     "output_type": "execute_result"
    }
   ],
   "source": [
    "numerical_df"
   ]
  },
  {
   "cell_type": "markdown",
   "id": "6119de28",
   "metadata": {},
   "source": [
    "## We concatenate our data"
   ]
  },
  {
   "cell_type": "code",
   "execution_count": 81,
   "id": "147cf73b",
   "metadata": {},
   "outputs": [],
   "source": [
    "df_transformed = pd.concat([numerical_df, categorical_df], axis=1)"
   ]
  },
  {
   "cell_type": "code",
   "execution_count": 82,
   "id": "a9d75aec",
   "metadata": {},
   "outputs": [
    {
     "data": {
      "text/html": [
       "<div>\n",
       "<style scoped>\n",
       "    .dataframe tbody tr th:only-of-type {\n",
       "        vertical-align: middle;\n",
       "    }\n",
       "\n",
       "    .dataframe tbody tr th {\n",
       "        vertical-align: top;\n",
       "    }\n",
       "\n",
       "    .dataframe thead th {\n",
       "        text-align: right;\n",
       "    }\n",
       "</style>\n",
       "<table border=\"1\" class=\"dataframe\">\n",
       "  <thead>\n",
       "    <tr style=\"text-align: right;\">\n",
       "      <th></th>\n",
       "      <th>age</th>\n",
       "      <th>hypertension</th>\n",
       "      <th>heart_disease</th>\n",
       "      <th>bmi</th>\n",
       "      <th>HbA1c_level</th>\n",
       "      <th>blood_glucose_level</th>\n",
       "      <th>diabetes</th>\n",
       "      <th>gender_Female</th>\n",
       "      <th>gender_Male</th>\n",
       "      <th>smoking_history_No Info</th>\n",
       "      <th>smoking_history_current</th>\n",
       "      <th>smoking_history_former</th>\n",
       "      <th>smoking_history_never</th>\n",
       "    </tr>\n",
       "  </thead>\n",
       "  <tbody>\n",
       "    <tr>\n",
       "      <th>0</th>\n",
       "      <td>80</td>\n",
       "      <td>0</td>\n",
       "      <td>1</td>\n",
       "      <td>25.19</td>\n",
       "      <td>6.6</td>\n",
       "      <td>140</td>\n",
       "      <td>0</td>\n",
       "      <td>1</td>\n",
       "      <td>0</td>\n",
       "      <td>0</td>\n",
       "      <td>0</td>\n",
       "      <td>0</td>\n",
       "      <td>1</td>\n",
       "    </tr>\n",
       "    <tr>\n",
       "      <th>1</th>\n",
       "      <td>54</td>\n",
       "      <td>0</td>\n",
       "      <td>0</td>\n",
       "      <td>27.32</td>\n",
       "      <td>6.6</td>\n",
       "      <td>80</td>\n",
       "      <td>0</td>\n",
       "      <td>1</td>\n",
       "      <td>0</td>\n",
       "      <td>1</td>\n",
       "      <td>0</td>\n",
       "      <td>0</td>\n",
       "      <td>0</td>\n",
       "    </tr>\n",
       "    <tr>\n",
       "      <th>2</th>\n",
       "      <td>28</td>\n",
       "      <td>0</td>\n",
       "      <td>0</td>\n",
       "      <td>27.32</td>\n",
       "      <td>5.7</td>\n",
       "      <td>158</td>\n",
       "      <td>0</td>\n",
       "      <td>0</td>\n",
       "      <td>1</td>\n",
       "      <td>0</td>\n",
       "      <td>0</td>\n",
       "      <td>0</td>\n",
       "      <td>1</td>\n",
       "    </tr>\n",
       "    <tr>\n",
       "      <th>3</th>\n",
       "      <td>36</td>\n",
       "      <td>0</td>\n",
       "      <td>0</td>\n",
       "      <td>23.45</td>\n",
       "      <td>5.0</td>\n",
       "      <td>155</td>\n",
       "      <td>0</td>\n",
       "      <td>1</td>\n",
       "      <td>0</td>\n",
       "      <td>0</td>\n",
       "      <td>1</td>\n",
       "      <td>0</td>\n",
       "      <td>0</td>\n",
       "    </tr>\n",
       "    <tr>\n",
       "      <th>4</th>\n",
       "      <td>76</td>\n",
       "      <td>1</td>\n",
       "      <td>1</td>\n",
       "      <td>20.14</td>\n",
       "      <td>4.8</td>\n",
       "      <td>155</td>\n",
       "      <td>0</td>\n",
       "      <td>0</td>\n",
       "      <td>1</td>\n",
       "      <td>0</td>\n",
       "      <td>1</td>\n",
       "      <td>0</td>\n",
       "      <td>0</td>\n",
       "    </tr>\n",
       "    <tr>\n",
       "      <th>...</th>\n",
       "      <td>...</td>\n",
       "      <td>...</td>\n",
       "      <td>...</td>\n",
       "      <td>...</td>\n",
       "      <td>...</td>\n",
       "      <td>...</td>\n",
       "      <td>...</td>\n",
       "      <td>...</td>\n",
       "      <td>...</td>\n",
       "      <td>...</td>\n",
       "      <td>...</td>\n",
       "      <td>...</td>\n",
       "      <td>...</td>\n",
       "    </tr>\n",
       "    <tr>\n",
       "      <th>99995</th>\n",
       "      <td>80</td>\n",
       "      <td>0</td>\n",
       "      <td>0</td>\n",
       "      <td>27.32</td>\n",
       "      <td>6.2</td>\n",
       "      <td>90</td>\n",
       "      <td>0</td>\n",
       "      <td>1</td>\n",
       "      <td>0</td>\n",
       "      <td>1</td>\n",
       "      <td>0</td>\n",
       "      <td>0</td>\n",
       "      <td>0</td>\n",
       "    </tr>\n",
       "    <tr>\n",
       "      <th>99996</th>\n",
       "      <td>2</td>\n",
       "      <td>0</td>\n",
       "      <td>0</td>\n",
       "      <td>17.37</td>\n",
       "      <td>6.5</td>\n",
       "      <td>100</td>\n",
       "      <td>0</td>\n",
       "      <td>1</td>\n",
       "      <td>0</td>\n",
       "      <td>1</td>\n",
       "      <td>0</td>\n",
       "      <td>0</td>\n",
       "      <td>0</td>\n",
       "    </tr>\n",
       "    <tr>\n",
       "      <th>99997</th>\n",
       "      <td>66</td>\n",
       "      <td>0</td>\n",
       "      <td>0</td>\n",
       "      <td>27.83</td>\n",
       "      <td>5.7</td>\n",
       "      <td>155</td>\n",
       "      <td>0</td>\n",
       "      <td>0</td>\n",
       "      <td>1</td>\n",
       "      <td>0</td>\n",
       "      <td>0</td>\n",
       "      <td>1</td>\n",
       "      <td>0</td>\n",
       "    </tr>\n",
       "    <tr>\n",
       "      <th>99998</th>\n",
       "      <td>24</td>\n",
       "      <td>0</td>\n",
       "      <td>0</td>\n",
       "      <td>35.42</td>\n",
       "      <td>4.0</td>\n",
       "      <td>100</td>\n",
       "      <td>0</td>\n",
       "      <td>1</td>\n",
       "      <td>0</td>\n",
       "      <td>0</td>\n",
       "      <td>0</td>\n",
       "      <td>0</td>\n",
       "      <td>1</td>\n",
       "    </tr>\n",
       "    <tr>\n",
       "      <th>99999</th>\n",
       "      <td>57</td>\n",
       "      <td>0</td>\n",
       "      <td>0</td>\n",
       "      <td>22.43</td>\n",
       "      <td>6.6</td>\n",
       "      <td>90</td>\n",
       "      <td>0</td>\n",
       "      <td>1</td>\n",
       "      <td>0</td>\n",
       "      <td>0</td>\n",
       "      <td>1</td>\n",
       "      <td>0</td>\n",
       "      <td>0</td>\n",
       "    </tr>\n",
       "  </tbody>\n",
       "</table>\n",
       "<p>100000 rows × 13 columns</p>\n",
       "</div>"
      ],
      "text/plain": [
       "       age  hypertension  heart_disease    bmi  HbA1c_level  \\\n",
       "0       80             0              1  25.19          6.6   \n",
       "1       54             0              0  27.32          6.6   \n",
       "2       28             0              0  27.32          5.7   \n",
       "3       36             0              0  23.45          5.0   \n",
       "4       76             1              1  20.14          4.8   \n",
       "...    ...           ...            ...    ...          ...   \n",
       "99995   80             0              0  27.32          6.2   \n",
       "99996    2             0              0  17.37          6.5   \n",
       "99997   66             0              0  27.83          5.7   \n",
       "99998   24             0              0  35.42          4.0   \n",
       "99999   57             0              0  22.43          6.6   \n",
       "\n",
       "       blood_glucose_level  diabetes  gender_Female  gender_Male  \\\n",
       "0                      140         0              1            0   \n",
       "1                       80         0              1            0   \n",
       "2                      158         0              0            1   \n",
       "3                      155         0              1            0   \n",
       "4                      155         0              0            1   \n",
       "...                    ...       ...            ...          ...   \n",
       "99995                   90         0              1            0   \n",
       "99996                  100         0              1            0   \n",
       "99997                  155         0              0            1   \n",
       "99998                  100         0              1            0   \n",
       "99999                   90         0              1            0   \n",
       "\n",
       "       smoking_history_No Info  smoking_history_current  \\\n",
       "0                            0                        0   \n",
       "1                            1                        0   \n",
       "2                            0                        0   \n",
       "3                            0                        1   \n",
       "4                            0                        1   \n",
       "...                        ...                      ...   \n",
       "99995                        1                        0   \n",
       "99996                        1                        0   \n",
       "99997                        0                        0   \n",
       "99998                        0                        0   \n",
       "99999                        0                        1   \n",
       "\n",
       "       smoking_history_former  smoking_history_never  \n",
       "0                           0                      1  \n",
       "1                           0                      0  \n",
       "2                           0                      1  \n",
       "3                           0                      0  \n",
       "4                           0                      0  \n",
       "...                       ...                    ...  \n",
       "99995                       0                      0  \n",
       "99996                       0                      0  \n",
       "99997                       1                      0  \n",
       "99998                       0                      1  \n",
       "99999                       0                      0  \n",
       "\n",
       "[100000 rows x 13 columns]"
      ]
     },
     "execution_count": 82,
     "metadata": {},
     "output_type": "execute_result"
    }
   ],
   "source": [
    "df_transformed "
   ]
  },
  {
   "cell_type": "markdown",
   "id": "baa68559",
   "metadata": {},
   "source": [
    "## STAGE 05"
   ]
  },
  {
   "cell_type": "markdown",
   "id": "9170aa82",
   "metadata": {},
   "source": [
    "### Train - Test Split"
   ]
  },
  {
   "cell_type": "code",
   "execution_count": 84,
   "id": "ca9c1ed0",
   "metadata": {},
   "outputs": [
    {
     "data": {
      "text/plain": [
       "Index(['age', 'hypertension', 'heart_disease', 'bmi', 'HbA1c_level',\n",
       "       'blood_glucose_level', 'diabetes', 'gender_Female', 'gender_Male',\n",
       "       'smoking_history_No Info', 'smoking_history_current',\n",
       "       'smoking_history_former', 'smoking_history_never'],\n",
       "      dtype='object')"
      ]
     },
     "execution_count": 84,
     "metadata": {},
     "output_type": "execute_result"
    }
   ],
   "source": [
    "df_transformed.columns"
   ]
  },
  {
   "cell_type": "code",
   "execution_count": 86,
   "id": "0d18dda6",
   "metadata": {},
   "outputs": [],
   "source": [
    "X=df_transformed[['age', 'hypertension', 'heart_disease', 'bmi', 'HbA1c_level',\n",
    "       'blood_glucose_level', 'gender_Female', 'gender_Male',\n",
    "       'smoking_history_No Info', 'smoking_history_current',\n",
    "       'smoking_history_former', 'smoking_history_never']]\n",
    "y=df_transformed['diabetes']"
   ]
  },
  {
   "cell_type": "code",
   "execution_count": 87,
   "id": "75a2e972",
   "metadata": {},
   "outputs": [],
   "source": [
    "from sklearn.model_selection import train_test_split"
   ]
  },
  {
   "cell_type": "code",
   "execution_count": 88,
   "id": "2f0a9bf5",
   "metadata": {},
   "outputs": [],
   "source": [
    "X_train, X_test, y_train, y_test = train_test_split(X,y, test_size = 0.3, random_state = 42)"
   ]
  },
  {
   "cell_type": "code",
   "execution_count": null,
   "id": "3336a33c",
   "metadata": {},
   "outputs": [],
   "source": []
  }
 ],
 "metadata": {
  "kernelspec": {
   "display_name": "Python 3 (ipykernel)",
   "language": "python",
   "name": "python3"
  },
  "language_info": {
   "codemirror_mode": {
    "name": "ipython",
    "version": 3
   },
   "file_extension": ".py",
   "mimetype": "text/x-python",
   "name": "python",
   "nbconvert_exporter": "python",
   "pygments_lexer": "ipython3",
   "version": "3.9.13"
  }
 },
 "nbformat": 4,
 "nbformat_minor": 5
}
